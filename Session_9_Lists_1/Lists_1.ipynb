{
  "nbformat": 4,
  "nbformat_minor": 0,
  "metadata": {
    "colab": {
      "name": "Lists - 1.ipynb",
      "provenance": []
    },
    "kernelspec": {
      "name": "python3",
      "display_name": "Python 3"
    },
    "language_info": {
      "name": "python"
    }
  },
  "cells": [
    {
      "cell_type": "markdown",
      "source": [
        "## Introduction"
      ],
      "metadata": {
        "id": "giCt7rPPJAbF"
      }
    },
    {
      "cell_type": "code",
      "source": [
        "runs = [0, 99, 100, 15, 16, 56, 34]\n",
        "\n",
        "print(runs)"
      ],
      "metadata": {
        "colab": {
          "base_uri": "https://localhost:8080/"
        },
        "id": "pnWYxJO_JBZE",
        "outputId": "30e356e1-5ea6-41a3-9f07-16b41786bd72"
      },
      "execution_count": null,
      "outputs": [
        {
          "output_type": "stream",
          "name": "stdout",
          "text": [
            "[0, 99, 100, 15, 16, 56, 34]\n"
          ]
        }
      ]
    },
    {
      "cell_type": "code",
      "source": [
        "runs = [0, 99,100, 15,16, 56, 34]\n",
        "\n",
        "print(runs)"
      ],
      "metadata": {
        "colab": {
          "base_uri": "https://localhost:8080/"
        },
        "id": "wA8IIc4WR2Vr",
        "outputId": "7e812a3a-c982-4c58-e9ad-671178d0c0f1"
      },
      "execution_count": null,
      "outputs": [
        {
          "output_type": "stream",
          "name": "stdout",
          "text": [
            "[0, 99, 100, 15, 16, 56, 34]\n"
          ]
        }
      ]
    },
    {
      "cell_type": "code",
      "source": [
        "runs = [0,\n",
        "        99,\n",
        "        100,\n",
        "        15,\n",
        "        16,\n",
        "        56,\n",
        "        34]\n",
        "print(runs)"
      ],
      "metadata": {
        "colab": {
          "base_uri": "https://localhost:8080/"
        },
        "id": "m_znDLAWR5kO",
        "outputId": "053270b7-e4e2-4a55-a849-80f029e2f9eb"
      },
      "execution_count": null,
      "outputs": [
        {
          "output_type": "stream",
          "name": "stdout",
          "text": [
            "[0, 99, 100, 15, 16, 56, 34]\n"
          ]
        }
      ]
    },
    {
      "cell_type": "markdown",
      "source": [
        "## List Indexing"
      ],
      "metadata": {
        "id": "D3yTAEDpJCAV"
      }
    },
    {
      "cell_type": "code",
      "source": [
        "runs = [0, 99, 100, 15, 16, 56, 34]\n",
        "\n",
        "print(runs[0])\n",
        "print(runs[1])\n",
        "print(runs[2])\n",
        "print(runs[3])\n",
        "print(runs[4])\n",
        "print(runs[5])\n",
        "print(runs[6])\n",
        "\n",
        "\n",
        "\n",
        "\n",
        "\n",
        "\n"
      ],
      "metadata": {
        "colab": {
          "base_uri": "https://localhost:8080/"
        },
        "id": "BHa6rTeUJDrM",
        "outputId": "1fd4feb9-811e-420d-e4d1-86711771bd5c"
      },
      "execution_count": null,
      "outputs": [
        {
          "output_type": "stream",
          "name": "stdout",
          "text": [
            "0\n",
            "99\n",
            "100\n",
            "15\n",
            "16\n",
            "56\n",
            "34\n"
          ]
        }
      ]
    },
    {
      "cell_type": "markdown",
      "source": [
        "## Quizzes"
      ],
      "metadata": {
        "id": "p20M8YfkU8n0"
      }
    },
    {
      "cell_type": "code",
      "source": [
        "l = [5, 1, -2, 2, 3, 4]\n",
        "print(l[2])"
      ],
      "metadata": {
        "colab": {
          "base_uri": "https://localhost:8080/"
        },
        "id": "97s3TjElUuve",
        "outputId": "ad0f395a-bf89-4cc2-dd00-60a41d689b19"
      },
      "execution_count": null,
      "outputs": [
        {
          "output_type": "stream",
          "name": "stdout",
          "text": [
            "-2\n"
          ]
        }
      ]
    },
    {
      "cell_type": "code",
      "source": [
        "l = [1, 2, 5, 3, 2, 6, 5, 4]\n"
      ],
      "metadata": {
        "id": "cx0DYA9XU-2R"
      },
      "execution_count": null,
      "outputs": []
    },
    {
      "cell_type": "code",
      "source": [
        ""
      ],
      "metadata": {
        "id": "5_DekyBAU-ia"
      },
      "execution_count": null,
      "outputs": []
    },
    {
      "cell_type": "markdown",
      "source": [
        ""
      ],
      "metadata": {
        "id": "H7e2BiWyU-IO"
      }
    },
    {
      "cell_type": "markdown",
      "source": [
        "## List Append"
      ],
      "metadata": {
        "id": "gzD_qXPbJEEL"
      }
    },
    {
      "cell_type": "code",
      "source": [
        "runs = [0, 99, 100, 15, 16, 56, 34]\n",
        "print(runs)"
      ],
      "metadata": {
        "colab": {
          "base_uri": "https://localhost:8080/"
        },
        "id": "ruM3J2GgJFN0",
        "outputId": "2bf87728-ce22-4b60-a1a5-4f6c081591ed"
      },
      "execution_count": null,
      "outputs": [
        {
          "output_type": "stream",
          "name": "stdout",
          "text": [
            "[0, 99, 100, 15, 16, 56, 34]\n"
          ]
        }
      ]
    },
    {
      "cell_type": "code",
      "source": [
        "runs.append(59)\n",
        "print(runs)"
      ],
      "metadata": {
        "colab": {
          "base_uri": "https://localhost:8080/"
        },
        "id": "n41M4_XuV1FF",
        "outputId": "b85c3535-71a6-489c-b0b3-b6a15acdfd0a"
      },
      "execution_count": null,
      "outputs": [
        {
          "output_type": "stream",
          "name": "stdout",
          "text": [
            "[0, 99, 100, 15, 16, 56, 34, 59]\n"
          ]
        }
      ]
    },
    {
      "cell_type": "code",
      "source": [
        ""
      ],
      "metadata": {
        "id": "xtZ-j1mEV08U"
      },
      "execution_count": null,
      "outputs": []
    },
    {
      "cell_type": "markdown",
      "source": [
        "## List Iteration"
      ],
      "metadata": {
        "id": "o6MNZzl2WYd7"
      }
    },
    {
      "cell_type": "markdown",
      "source": [
        "### Iteration over the values"
      ],
      "metadata": {
        "id": "xqx1ZoYVhvpy"
      }
    },
    {
      "cell_type": "code",
      "source": [
        "l = [1, 3, 5, 7, 9]\n",
        "\n",
        "for x in l: # l is the name of the list\n",
        "  print(x)\n"
      ],
      "metadata": {
        "colab": {
          "base_uri": "https://localhost:8080/"
        },
        "id": "pqOGDd0kWaij",
        "outputId": "c58dbd51-6ac7-4476-c8fc-cb687f9eb2dc"
      },
      "execution_count": null,
      "outputs": [
        {
          "output_type": "stream",
          "name": "stdout",
          "text": [
            "1\n",
            "3\n",
            "5\n",
            "7\n",
            "9\n"
          ]
        }
      ]
    },
    {
      "cell_type": "code",
      "source": [
        "l = [1, 3, 5, 7, 9]\n",
        "\n",
        "for x in l: # l is the name of the list\n",
        "  print(x, end=' ')\n"
      ],
      "metadata": {
        "colab": {
          "base_uri": "https://localhost:8080/"
        },
        "id": "u4-U-uAZWe45",
        "outputId": "faa621e2-b64d-4fd5-9726-88d44e531287"
      },
      "execution_count": null,
      "outputs": [
        {
          "output_type": "stream",
          "name": "stdout",
          "text": [
            "1 3 5 7 9 "
          ]
        }
      ]
    },
    {
      "cell_type": "code",
      "source": [
        "l = [1, 3, 5, 7, 9]\n",
        "\n",
        "x = []\n",
        "for y in l: # l is the name of the list\n",
        "  # print(y)\n",
        "  x.append(y)\n",
        "  # print(x)\n",
        "  # print()\n",
        "\n",
        "print(x)\n"
      ],
      "metadata": {
        "colab": {
          "base_uri": "https://localhost:8080/"
        },
        "id": "NKjeFdIfWe2L",
        "outputId": "288abf17-df15-4909-8513-55dc02740e6a"
      },
      "execution_count": null,
      "outputs": [
        {
          "output_type": "stream",
          "name": "stdout",
          "text": [
            "[1, 3, 5, 7, 9]\n"
          ]
        }
      ]
    },
    {
      "cell_type": "code",
      "source": [
        "print(len(l))"
      ],
      "metadata": {
        "colab": {
          "base_uri": "https://localhost:8080/"
        },
        "id": "f0kHBluWWezi",
        "outputId": "73583c23-2a55-4cef-bde8-49a1e213adc0"
      },
      "execution_count": null,
      "outputs": [
        {
          "output_type": "stream",
          "name": "stdout",
          "text": [
            "5\n"
          ]
        }
      ]
    },
    {
      "cell_type": "markdown",
      "source": [
        ""
      ],
      "metadata": {
        "id": "UUTus91Ya8kH"
      }
    },
    {
      "cell_type": "code",
      "source": [
        ""
      ],
      "metadata": {
        "id": "OW6L9KhtWexE"
      },
      "execution_count": null,
      "outputs": []
    },
    {
      "cell_type": "markdown",
      "source": [
        "## Quiz"
      ],
      "metadata": {
        "id": "s_2fiyLIaUPh"
      }
    },
    {
      "cell_type": "code",
      "source": [
        "def mystery(lst1, lst2):\n",
        "  print(len(lst1))\n",
        "  print(len(lst2))\n",
        "\n",
        "  if len(lst1) != len(lst2):\n",
        "    print('Lengths are not equal')\n",
        "    return True\n",
        "  \n",
        "  ## ITERATION OVER THE INDEX (POSITION)\n",
        "  for i in range(len(lst1)):\n",
        "    print(i, end=' ')\n",
        "  print()\n",
        "\n",
        "  for i in range(len(lst1)):\n",
        "    if lst1[i] != lst2[i]:\n",
        "      print('The list are not equal at index:', i)\n",
        "      return False\n",
        "\n",
        "  print('The 2 list are equal')  \n",
        "  return True\n",
        "  \n",
        "\n",
        "mystery([1,2,3], [1,4,3])"
      ],
      "metadata": {
        "colab": {
          "base_uri": "https://localhost:8080/"
        },
        "id": "fOdKGgFWWeuy",
        "outputId": "ba102d89-7b99-40a6-b7d7-4852a8388ecd"
      },
      "execution_count": null,
      "outputs": [
        {
          "output_type": "stream",
          "name": "stdout",
          "text": [
            "3\n",
            "3\n",
            "0 1 2 \n",
            "The list are not equal at index: 1\n"
          ]
        },
        {
          "output_type": "execute_result",
          "data": {
            "text/plain": [
              "False"
            ]
          },
          "metadata": {},
          "execution_count": 33
        }
      ]
    },
    {
      "cell_type": "markdown",
      "source": [
        "## Type"
      ],
      "metadata": {
        "id": "WsWCfQEqJFlX"
      }
    },
    {
      "cell_type": "code",
      "source": [
        "l = [1, 2, 3]\n",
        "print(type(l))"
      ],
      "metadata": {
        "colab": {
          "base_uri": "https://localhost:8080/"
        },
        "id": "mo4rXpvcJGWe",
        "outputId": "083dc3dc-4c4a-4fb6-9e2a-f32c6dabf3dd"
      },
      "execution_count": null,
      "outputs": [
        {
          "output_type": "stream",
          "name": "stdout",
          "text": [
            "<class 'list'>\n"
          ]
        }
      ]
    },
    {
      "cell_type": "markdown",
      "source": [
        "## Negative Indexing"
      ],
      "metadata": {
        "id": "ymiZaApYJGr4"
      }
    },
    {
      "cell_type": "code",
      "source": [
        "# Print the last element"
      ],
      "metadata": {
        "id": "LkPTayY_JHX5"
      },
      "execution_count": null,
      "outputs": []
    },
    {
      "cell_type": "code",
      "source": [
        "runs = [0, 100, 99, 77, 65]\n",
        "\n",
        "print(runs[len(runs) - 1]) # runs[index for the last element]"
      ],
      "metadata": {
        "colab": {
          "base_uri": "https://localhost:8080/"
        },
        "id": "QdTc_KIlf6oQ",
        "outputId": "f9f348f7-485b-4eb6-cb3f-01bd3b0ed354"
      },
      "execution_count": null,
      "outputs": [
        {
          "output_type": "stream",
          "name": "stdout",
          "text": [
            "65\n"
          ]
        }
      ]
    },
    {
      "cell_type": "code",
      "source": [
        "print(runs[-1])"
      ],
      "metadata": {
        "colab": {
          "base_uri": "https://localhost:8080/"
        },
        "id": "CNtkibj8g6EO",
        "outputId": "8ca77c9b-2f3f-43a1-89f7-1b444d3bc492"
      },
      "execution_count": null,
      "outputs": [
        {
          "output_type": "stream",
          "name": "stdout",
          "text": [
            "65\n"
          ]
        }
      ]
    },
    {
      "cell_type": "code",
      "source": [
        "print(runs[-2])"
      ],
      "metadata": {
        "colab": {
          "base_uri": "https://localhost:8080/"
        },
        "id": "Z91jE0Tyg6CG",
        "outputId": "22c8e72c-10aa-449c-dd4c-651e500025c1"
      },
      "execution_count": null,
      "outputs": [
        {
          "output_type": "stream",
          "name": "stdout",
          "text": [
            "77\n"
          ]
        }
      ]
    },
    {
      "cell_type": "code",
      "source": [
        "print(runs[-3])"
      ],
      "metadata": {
        "colab": {
          "base_uri": "https://localhost:8080/"
        },
        "id": "NrjTnPBJg5_r",
        "outputId": "39867ec8-2a19-4adf-fc3b-0a4508304093"
      },
      "execution_count": null,
      "outputs": [
        {
          "output_type": "stream",
          "name": "stdout",
          "text": [
            "99\n"
          ]
        }
      ]
    },
    {
      "cell_type": "code",
      "source": [
        ""
      ],
      "metadata": {
        "id": "uss7cjcWg59W"
      },
      "execution_count": null,
      "outputs": []
    },
    {
      "cell_type": "code",
      "source": [
        ""
      ],
      "metadata": {
        "id": "PIKz0kCXg56i"
      },
      "execution_count": null,
      "outputs": []
    },
    {
      "cell_type": "markdown",
      "source": [
        "## List Operations\n",
        "- insert\n",
        "- pop"
      ],
      "metadata": {
        "id": "nm7hxs9rJJlo"
      }
    },
    {
      "cell_type": "code",
      "source": [
        "l = [1, 2, 3, 5, 7]\n",
        "print(l)"
      ],
      "metadata": {
        "colab": {
          "base_uri": "https://localhost:8080/"
        },
        "id": "s4_zOuxSJK1_",
        "outputId": "ff4da2dd-638a-4584-ed95-ac79ce75d7c8"
      },
      "execution_count": null,
      "outputs": [
        {
          "output_type": "stream",
          "name": "stdout",
          "text": [
            "[1, 2, 3, 5, 7]\n"
          ]
        }
      ]
    },
    {
      "cell_type": "code",
      "source": [
        "l.insert(3, 4)\n",
        "print(l)"
      ],
      "metadata": {
        "colab": {
          "base_uri": "https://localhost:8080/"
        },
        "id": "SMHolwCAhQD7",
        "outputId": "f124f579-7a87-4a3e-e12e-5885d0749ab5"
      },
      "execution_count": null,
      "outputs": [
        {
          "output_type": "stream",
          "name": "stdout",
          "text": [
            "[1, 2, 3, 4, 5, 7]\n"
          ]
        }
      ]
    },
    {
      "cell_type": "code",
      "source": [
        ""
      ],
      "metadata": {
        "id": "jSu5PMnRhQ0x"
      },
      "execution_count": null,
      "outputs": []
    },
    {
      "cell_type": "code",
      "source": [
        ""
      ],
      "metadata": {
        "id": "d-YhtDyZhQxb"
      },
      "execution_count": null,
      "outputs": []
    },
    {
      "cell_type": "code",
      "source": [
        ""
      ],
      "metadata": {
        "id": "0K-fhlt-hQuy"
      },
      "execution_count": null,
      "outputs": []
    },
    {
      "cell_type": "code",
      "source": [
        ""
      ],
      "metadata": {
        "id": "ZHSMHELfhQAv"
      },
      "execution_count": null,
      "outputs": []
    },
    {
      "cell_type": "code",
      "source": [
        ""
      ],
      "metadata": {
        "id": "G5kPPL1zhP-G"
      },
      "execution_count": null,
      "outputs": []
    },
    {
      "cell_type": "code",
      "source": [
        ""
      ],
      "metadata": {
        "id": "w7XdACQFhP5i"
      },
      "execution_count": null,
      "outputs": []
    },
    {
      "cell_type": "markdown",
      "source": [
        "## Problem Solving:\n",
        "1. Sum\n",
        "2. Remove that\n",
        "3. Reverse\n",
        "\n",
        "Learnings:\n",
        "1. Take input in a single line\n",
        "2. Removing the element at a given position => pop\n",
        "3. Break our code into functions, make it more readable"
      ],
      "metadata": {
        "id": "SQhdElNiJRBL"
      }
    },
    {
      "cell_type": "code",
      "source": [
        "l = input()\n",
        "print(l)"
      ],
      "metadata": {
        "colab": {
          "base_uri": "https://localhost:8080/"
        },
        "id": "CbrnXY10JYJ5",
        "outputId": "1a164eed-1f54-468a-c8a8-e687b9d7c083"
      },
      "execution_count": null,
      "outputs": [
        {
          "output_type": "stream",
          "name": "stdout",
          "text": [
            "3 10 20 30\n",
            "3 10 20 30\n"
          ]
        }
      ]
    },
    {
      "cell_type": "code",
      "source": [
        "print(type(l))\n"
      ],
      "metadata": {
        "colab": {
          "base_uri": "https://localhost:8080/"
        },
        "id": "eX-x75mhlCGB",
        "outputId": "9f8a5b37-bf2e-4ab0-d454-8bcbaf2dd777"
      },
      "execution_count": null,
      "outputs": [
        {
          "output_type": "stream",
          "name": "stdout",
          "text": [
            "<class 'str'>\n"
          ]
        }
      ]
    },
    {
      "cell_type": "code",
      "source": [
        "x = l.split()\n",
        "print(x)"
      ],
      "metadata": {
        "colab": {
          "base_uri": "https://localhost:8080/"
        },
        "id": "611Q5x3FlCDs",
        "outputId": "8e4459b8-fa10-41e9-980b-de1624b91038"
      },
      "execution_count": null,
      "outputs": [
        {
          "output_type": "stream",
          "name": "stdout",
          "text": [
            "['3', '10', '20', '30']\n"
          ]
        }
      ]
    },
    {
      "cell_type": "code",
      "source": [
        "res = []\n",
        "for i in x:\n",
        "    # print(i)\n",
        "    # print(type(i))\n",
        "    res.append(int(i))\n",
        "\n",
        "print(res)"
      ],
      "metadata": {
        "colab": {
          "base_uri": "https://localhost:8080/"
        },
        "id": "IfbabmdalCBS",
        "outputId": "1acd6a2e-6f1c-41e5-c4e3-d7723317d11a"
      },
      "execution_count": null,
      "outputs": [
        {
          "output_type": "stream",
          "name": "stdout",
          "text": [
            "[3, 10, 20, 30]\n"
          ]
        }
      ]
    },
    {
      "cell_type": "code",
      "source": [
        "res.pop(0)\n",
        "print(res)"
      ],
      "metadata": {
        "colab": {
          "base_uri": "https://localhost:8080/"
        },
        "id": "mdG7Ack0lB_H",
        "outputId": "b33e9b5f-da2d-4e1c-c6bf-fe1b4f783064"
      },
      "execution_count": null,
      "outputs": [
        {
          "output_type": "stream",
          "name": "stdout",
          "text": [
            "[10, 20, 30]\n"
          ]
        }
      ]
    },
    {
      "cell_type": "markdown",
      "source": [
        "## Quiz"
      ],
      "metadata": {
        "id": "92yyFl6QmxnM"
      }
    },
    {
      "cell_type": "code",
      "source": [
        "l = [1, 2, 3, 3, 5, 6, 7, 5]\n",
        "l.pop(5)\n",
        "print(l)"
      ],
      "metadata": {
        "colab": {
          "base_uri": "https://localhost:8080/"
        },
        "id": "sCkB54h8lB8o",
        "outputId": "d4d9f87d-e13f-4fe4-8c45-0fad9b16d4e3"
      },
      "execution_count": null,
      "outputs": [
        {
          "output_type": "stream",
          "name": "stdout",
          "text": [
            "[1, 2, 3, 3, 5, 7, 5]\n"
          ]
        }
      ]
    },
    {
      "cell_type": "code",
      "source": [
        ""
      ],
      "metadata": {
        "id": "yHGbgmPzlB6X"
      },
      "execution_count": null,
      "outputs": []
    },
    {
      "cell_type": "code",
      "source": [
        ""
      ],
      "metadata": {
        "id": "oIZMoo7jlB4E"
      },
      "execution_count": null,
      "outputs": []
    },
    {
      "cell_type": "code",
      "source": [
        ""
      ],
      "metadata": {
        "id": "p9d9DP2blB1n"
      },
      "execution_count": null,
      "outputs": []
    },
    {
      "cell_type": "markdown",
      "source": [
        "## Up Next:\n",
        "- More operations: remove, remove vs pop\n",
        "- Mutability\n",
        "- References\n",
        "- List Slicing\n",
        "- Max and Min in List\n",
        "- Searching in List\n",
        "- Enumerate"
      ],
      "metadata": {
        "id": "il-g2WylJfRE"
      }
    },
    {
      "cell_type": "code",
      "source": [
        ""
      ],
      "metadata": {
        "id": "12uvKJvFJogB"
      },
      "execution_count": null,
      "outputs": []
    }
  ]
}