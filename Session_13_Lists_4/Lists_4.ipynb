{
  "nbformat": 4,
  "nbformat_minor": 0,
  "metadata": {
    "colab": {
      "name": "Lists - 3.ipynb",
      "provenance": []
    },
    "kernelspec": {
      "name": "python3",
      "display_name": "Python 3"
    },
    "language_info": {
      "name": "python"
    }
  },
  "cells": [
    {
      "cell_type": "markdown",
      "source": [
        "### Question 1: Creating squares list"
      ],
      "metadata": {
        "id": "VU-S5Xp-ScuE"
      }
    },
    {
      "cell_type": "code",
      "source": [
        "l = [1, 5, 9, 10]\n",
        "\n",
        "res = []\n",
        "for i in l:\n",
        "  res.append(i*i)\n",
        "\n",
        "print(res)"
      ],
      "metadata": {
        "colab": {
          "base_uri": "https://localhost:8080/"
        },
        "id": "lKhTRxUMSe98",
        "outputId": "a989223f-2974-4baa-d692-874e18429575"
      },
      "execution_count": null,
      "outputs": [
        {
          "output_type": "stream",
          "name": "stdout",
          "text": [
            "[1, 25, 81, 100]\n"
          ]
        }
      ]
    },
    {
      "cell_type": "code",
      "source": [
        ""
      ],
      "metadata": {
        "id": "EQP60ISYSh_3"
      },
      "execution_count": null,
      "outputs": []
    },
    {
      "cell_type": "markdown",
      "source": [
        "### How did we take the input of list?"
      ],
      "metadata": {
        "id": "j_pIno-zS0Fm"
      }
    },
    {
      "cell_type": "code",
      "source": [
        "def create_list():\n",
        "  x = input().split()\n",
        "\n",
        "  l = []\n",
        "  for i in x:\n",
        "    l.append(int(i))\n",
        "  return l\n",
        "\n",
        "l = create_list()\n",
        "print(l)"
      ],
      "metadata": {
        "colab": {
          "base_uri": "https://localhost:8080/"
        },
        "id": "6BmeIDiAS1Tl",
        "outputId": "8f851073-639d-4b6c-faa0-50a186b562cf"
      },
      "execution_count": null,
      "outputs": [
        {
          "output_type": "stream",
          "name": "stdout",
          "text": [
            "1 2 3 4 5\n",
            "[1, 2, 3, 4, 5]\n"
          ]
        }
      ]
    },
    {
      "cell_type": "code",
      "source": [
        "def square(x):\n",
        "  return x*x\n",
        "\n",
        "l = [1, 5, 9, 10]\n",
        "\n",
        "res = list(map(square, l))\n",
        "print(res)"
      ],
      "metadata": {
        "colab": {
          "base_uri": "https://localhost:8080/"
        },
        "id": "Ffz5B1V7TApY",
        "outputId": "df8e8748-b3fb-49a1-8936-20ab74ef8af4"
      },
      "execution_count": null,
      "outputs": [
        {
          "output_type": "stream",
          "name": "stdout",
          "text": [
            "[1, 25, 81, 100]\n"
          ]
        }
      ]
    },
    {
      "cell_type": "code",
      "source": [
        "\n",
        "def find_meal(food_item):\n",
        "  if food_item == \"Poha\":\n",
        "    return 'Breakfast'\n",
        "  elif food_item == \"Dahi Rajma Chawal\":\n",
        "    return 'Lunch'\n",
        "  else:\n",
        "    return 'Dinner'\n",
        "\n",
        "  \n",
        "fav_food_items = [\"Butter Panner and Naan\", \"Poha\", \"Dahi Rajma Chawal\"]\n",
        "\n",
        "meals = []\n",
        "\n",
        "for i in fav_food_items:\n",
        "  meals.append(find_meal(i))\n",
        "\n",
        "print(meals)"
      ],
      "metadata": {
        "colab": {
          "base_uri": "https://localhost:8080/"
        },
        "id": "kBWD78gHTomk",
        "outputId": "2a7d8355-1261-4e60-c47e-5b36d3414a31"
      },
      "execution_count": null,
      "outputs": [
        {
          "output_type": "stream",
          "name": "stdout",
          "text": [
            "['Dinner', 'Breakfast', 'Lunch']\n"
          ]
        }
      ]
    },
    {
      "cell_type": "code",
      "source": [
        "new_meals = list(map(find_meal, fav_food_items))\n",
        "print(new_meals)"
      ],
      "metadata": {
        "colab": {
          "base_uri": "https://localhost:8080/"
        },
        "id": "UBTs8DRWUwpV",
        "outputId": "6fbda18a-f96e-4c61-df27-841c2ec76554"
      },
      "execution_count": null,
      "outputs": [
        {
          "output_type": "stream",
          "name": "stdout",
          "text": [
            "['Dinner', 'Breakfast', 'Lunch']\n"
          ]
        }
      ]
    },
    {
      "cell_type": "code",
      "source": [
        "def find_sqr(x):\n",
        "   return x*x*2\n",
        "\n",
        "l = [1, 2, 3]\n",
        "res = map(find_sqr, l)\n",
        "\n",
        "print(res)"
      ],
      "metadata": {
        "colab": {
          "base_uri": "https://localhost:8080/"
        },
        "id": "dOKJoB12U_u9",
        "outputId": "ec2fe523-d38a-47a9-ab98-4089cb9d4041"
      },
      "execution_count": null,
      "outputs": [
        {
          "output_type": "stream",
          "name": "stdout",
          "text": [
            "<map object at 0x7fa738e7a510>\n"
          ]
        }
      ]
    },
    {
      "cell_type": "code",
      "source": [
        "print(range(1, 10))"
      ],
      "metadata": {
        "colab": {
          "base_uri": "https://localhost:8080/"
        },
        "id": "CC2N6JaGV1qd",
        "outputId": "34b536cb-9e6a-4f33-855a-d66d2b466d12"
      },
      "execution_count": null,
      "outputs": [
        {
          "output_type": "stream",
          "name": "stdout",
          "text": [
            "range(1, 10)\n"
          ]
        }
      ]
    },
    {
      "cell_type": "code",
      "source": [
        "print(list(range(1, 10)))"
      ],
      "metadata": {
        "colab": {
          "base_uri": "https://localhost:8080/"
        },
        "id": "oxpO_qVHWReT",
        "outputId": "877ae8a9-96cb-46ef-c959-163f13b35396"
      },
      "execution_count": null,
      "outputs": [
        {
          "output_type": "stream",
          "name": "stdout",
          "text": [
            "[1, 2, 3, 4, 5, 6, 7, 8, 9]\n"
          ]
        }
      ]
    },
    {
      "cell_type": "code",
      "source": [
        "def find_sqr(x):\n",
        "   return x*x*2\n",
        "\n",
        "l = [1, 2, 3]\n",
        "res = list(map(find_sqr, l))\n",
        "\n",
        "print(res)"
      ],
      "metadata": {
        "colab": {
          "base_uri": "https://localhost:8080/"
        },
        "id": "-iJ-Y_5HWUTM",
        "outputId": "d5403aa9-817e-49e1-8e2b-4b6ee6713348"
      },
      "execution_count": null,
      "outputs": [
        {
          "output_type": "stream",
          "name": "stdout",
          "text": [
            "[2, 8, 18]\n"
          ]
        }
      ]
    },
    {
      "cell_type": "code",
      "source": [
        "\n"
      ],
      "metadata": {
        "id": "-AS6nvfAWXKX"
      },
      "execution_count": null,
      "outputs": []
    },
    {
      "cell_type": "markdown",
      "source": [
        "## Input List directly"
      ],
      "metadata": {
        "id": "Mu0T3VxTWqwx"
      }
    },
    {
      "cell_type": "code",
      "source": [
        "x = input().split()\n",
        "\n",
        "print(x)"
      ],
      "metadata": {
        "colab": {
          "base_uri": "https://localhost:8080/"
        },
        "id": "42ij5snlWrhf",
        "outputId": "2d0f22d6-a546-4d6a-995f-017e05646994"
      },
      "execution_count": null,
      "outputs": [
        {
          "output_type": "stream",
          "name": "stdout",
          "text": [
            "1 2 3 4 5\n",
            "['1', '2', '3', '4', '5']\n"
          ]
        }
      ]
    },
    {
      "cell_type": "code",
      "source": [
        "l = map(int, x)\n",
        "print(l)"
      ],
      "metadata": {
        "colab": {
          "base_uri": "https://localhost:8080/"
        },
        "id": "ztWM-8q8Ww4Q",
        "outputId": "0bc9b3b7-aad5-4949-8940-51ff18603a0a"
      },
      "execution_count": null,
      "outputs": [
        {
          "output_type": "stream",
          "name": "stdout",
          "text": [
            "<map object at 0x7fa738e593d0>\n"
          ]
        }
      ]
    },
    {
      "cell_type": "code",
      "source": [
        "l = list(map(int, x))\n",
        "print(l)"
      ],
      "metadata": {
        "colab": {
          "base_uri": "https://localhost:8080/"
        },
        "id": "4JdIwI_kW3_v",
        "outputId": "68d58c7a-86a1-495f-dd97-a93ab6cca40e"
      },
      "execution_count": null,
      "outputs": [
        {
          "output_type": "stream",
          "name": "stdout",
          "text": [
            "[1, 2, 3, 4, 5]\n"
          ]
        }
      ]
    },
    {
      "cell_type": "code",
      "source": [
        ""
      ],
      "metadata": {
        "id": "IcSZoo-sW5qx"
      },
      "execution_count": null,
      "outputs": []
    },
    {
      "cell_type": "markdown",
      "source": [
        "## Brahmastra for taking list input"
      ],
      "metadata": {
        "id": "8JmRQ_-4W7XA"
      }
    },
    {
      "cell_type": "code",
      "source": [
        "x = input().split()\n",
        "l = list(map(int, x))"
      ],
      "metadata": {
        "colab": {
          "base_uri": "https://localhost:8080/"
        },
        "id": "M5SLdp9qW81e",
        "outputId": "8129f03c-7534-4c8a-8bad-8f10c7ee23d3"
      },
      "execution_count": null,
      "outputs": [
        {
          "name": "stdout",
          "output_type": "stream",
          "text": [
            "9 1 2 3 4 7\n"
          ]
        }
      ]
    },
    {
      "cell_type": "code",
      "source": [
        "print(l)"
      ],
      "metadata": {
        "colab": {
          "base_uri": "https://localhost:8080/"
        },
        "id": "MdFOh3ISXA3G",
        "outputId": "83768ba7-b9e8-4ffe-e5c1-4dff7f89dcb6"
      },
      "execution_count": null,
      "outputs": [
        {
          "output_type": "stream",
          "name": "stdout",
          "text": [
            "[9, 1, 2, 3, 4, 7]\n"
          ]
        }
      ]
    },
    {
      "cell_type": "code",
      "source": [
        ""
      ],
      "metadata": {
        "id": "vVch5tifXDOf"
      },
      "execution_count": null,
      "outputs": []
    },
    {
      "cell_type": "markdown",
      "source": [
        "## Quiz"
      ],
      "metadata": {
        "id": "0XWstgENXQ0P"
      }
    },
    {
      "cell_type": "code",
      "source": [
        "l = [\"basketball\", \"cricket\", \"badminton\"]\n",
        "l.append(\"badminton\")\n",
        "\n",
        "print(l)"
      ],
      "metadata": {
        "colab": {
          "base_uri": "https://localhost:8080/"
        },
        "id": "yJiYq-bfXRW9",
        "outputId": "dcfe1c9c-58b9-498e-9110-7a1e99ad5802"
      },
      "execution_count": null,
      "outputs": [
        {
          "output_type": "stream",
          "name": "stdout",
          "text": [
            "['basketball', 'cricket', 'badminton', 'badminton']\n"
          ]
        }
      ]
    },
    {
      "cell_type": "code",
      "source": [
        ""
      ],
      "metadata": {
        "id": "QhY0RKTPXimG"
      },
      "execution_count": null,
      "outputs": []
    },
    {
      "cell_type": "markdown",
      "source": [
        "## Nested List"
      ],
      "metadata": {
        "id": "CDO-6Y1vX0Gn"
      }
    },
    {
      "cell_type": "code",
      "source": [
        "runs = [0, 99, 200, 15]"
      ],
      "metadata": {
        "id": "qQu6jqFqX0u0"
      },
      "execution_count": null,
      "outputs": []
    },
    {
      "cell_type": "code",
      "source": [
        "print(runs)"
      ],
      "metadata": {
        "colab": {
          "base_uri": "https://localhost:8080/"
        },
        "id": "TlMJ53-7X4C5",
        "outputId": "6989ac5e-d881-4b05-b4db-6f6e010ce805"
      },
      "execution_count": null,
      "outputs": [
        {
          "output_type": "stream",
          "name": "stdout",
          "text": [
            "[0, 99, 200, 15]\n"
          ]
        }
      ]
    },
    {
      "cell_type": "code",
      "source": [
        ""
      ],
      "metadata": {
        "id": "JRNXhsdCX4fc"
      },
      "execution_count": null,
      "outputs": []
    },
    {
      "cell_type": "markdown",
      "source": [
        "## 2D List Input"
      ],
      "metadata": {
        "id": "2bSWDO61akAa"
      }
    },
    {
      "cell_type": "code",
      "source": [
        "# take rows and cols as input\n",
        "# R C\n",
        "# R rows\n",
        "x = input().split()\n",
        "l = list(map(int, x))\n",
        "R = l[0]\n",
        "C = l[1]\n",
        "\n",
        "res = []\n",
        "for i in range(R):\n",
        "  y = input().split()\n",
        "  l2 = list(map(int, y))\n",
        "  res.append(l2)\n"
      ],
      "metadata": {
        "colab": {
          "base_uri": "https://localhost:8080/"
        },
        "id": "xaqUjYoKalUj",
        "outputId": "045210c2-c0c2-4775-deeb-454d1c3b6862"
      },
      "execution_count": null,
      "outputs": [
        {
          "name": "stdout",
          "output_type": "stream",
          "text": [
            "3 5\n",
            "1 2 3 4 5\n",
            "6 7 8 9 10\n",
            "11 12 13 14 15\n"
          ]
        }
      ]
    },
    {
      "cell_type": "code",
      "source": [
        "print(res)"
      ],
      "metadata": {
        "colab": {
          "base_uri": "https://localhost:8080/"
        },
        "id": "ms-YcP0jat79",
        "outputId": "189a8ee6-8706-4d26-d497-573157924a5a"
      },
      "execution_count": null,
      "outputs": [
        {
          "output_type": "stream",
          "name": "stdout",
          "text": [
            "[[1, 2, 3, 4, 5], [6, 7, 8, 9, 10], [11, 12, 13, 14, 15]]\n"
          ]
        }
      ]
    },
    {
      "cell_type": "code",
      "source": [
        "# take rows and cols as input\n",
        "# R C\n",
        "# R rows\n",
        "x = input().split()\n",
        "l = list(map(int, x))\n",
        "R = l[0]\n",
        "C = l[1]\n",
        "\n",
        "res = []\n",
        "for i in range(R):\n",
        "  y = input().split()\n",
        "  l2 = list(map(int, y))\n",
        "  res.append(l2)\n"
      ],
      "metadata": {
        "colab": {
          "base_uri": "https://localhost:8080/"
        },
        "id": "8-qMz1-wbQi9",
        "outputId": "c59158a6-7c7c-457a-a51c-b5c668eeffee"
      },
      "execution_count": null,
      "outputs": [
        {
          "name": "stdout",
          "output_type": "stream",
          "text": [
            "3 5\n",
            "1 2 3 4 5 6 7 8 9 10\n",
            "1 2 3\n",
            "1 2 3 4\n"
          ]
        }
      ]
    },
    {
      "cell_type": "code",
      "source": [
        "print(res)"
      ],
      "metadata": {
        "colab": {
          "base_uri": "https://localhost:8080/"
        },
        "id": "YLJrHJAjfWVX",
        "outputId": "42a2a855-9a7a-4016-b83f-ae083a415689"
      },
      "execution_count": null,
      "outputs": [
        {
          "output_type": "stream",
          "name": "stdout",
          "text": [
            "[[1, 2, 3, 4, 5, 6, 7, 8, 9, 10], [1, 2, 3], [1, 2, 3, 4]]\n"
          ]
        }
      ]
    },
    {
      "cell_type": "code",
      "source": [
        "# take rows and cols as input\n",
        "# R C\n",
        "# R rows\n",
        "x = input().split()\n",
        "l = list(map(int, x))\n",
        "R = l[0]\n",
        "C = l[1]\n",
        "\n",
        "res = []\n",
        "for i in range(R):\n",
        "  y = input().split()\n",
        "  l2 = list(map(int, y))\n",
        "  res.append(l2[:C]) # We want only first 5 values (C = 5)\n",
        "\n",
        "\n"
      ],
      "metadata": {
        "colab": {
          "base_uri": "https://localhost:8080/"
        },
        "id": "FqWZmHxNfaaE",
        "outputId": "ca002720-9ba8-4a96-9059-8cb16fe27e4a"
      },
      "execution_count": null,
      "outputs": [
        {
          "name": "stdout",
          "output_type": "stream",
          "text": [
            "3 5\n",
            "1 2 3 4 5 6 7 8 9 10 11\n",
            "-1 -2 -3 -4 -5 -6\n",
            "0 0 0 0 0 0 0 0 0 0 \n"
          ]
        }
      ]
    },
    {
      "cell_type": "code",
      "source": [
        "print(res)"
      ],
      "metadata": {
        "colab": {
          "base_uri": "https://localhost:8080/"
        },
        "id": "5rh22MJTfeGy",
        "outputId": "3da7b58a-1c2c-4a24-e562-982c9cfd1c40"
      },
      "execution_count": null,
      "outputs": [
        {
          "output_type": "stream",
          "name": "stdout",
          "text": [
            "[[1, 2, 3, 4, 5], [-1, -2, -3, -4, -5], [0, 0, 0, 0, 0]]\n"
          ]
        }
      ]
    },
    {
      "cell_type": "code",
      "source": [
        "# take rows and cols as input\n",
        "# R C\n",
        "# R rows\n",
        "x = input().split()\n",
        "l = list(map(int, x))\n",
        "R = l[0]\n",
        "C = l[1]\n",
        "\n",
        "res = []\n",
        "for i in range(R):\n",
        "  y = input().split()\n",
        "  l2 = list(map(int, y))\n",
        "\n",
        "  # if the user provides less data\n",
        "  if len(l2) < C:\n",
        "    print('Hey user your input is not valid!')\n",
        "\n",
        "  # if the user provides more data\n",
        "  res.append(l2[:C]) # We want only first 5 values (C = 5)\n",
        "\n",
        "\n"
      ],
      "metadata": {
        "colab": {
          "base_uri": "https://localhost:8080/"
        },
        "id": "lgQ8a0F2fn-w",
        "outputId": "6dbaeda7-c8c5-411b-da4f-5990186380c4"
      },
      "execution_count": null,
      "outputs": [
        {
          "name": "stdout",
          "output_type": "stream",
          "text": [
            "3 5\n",
            "1 2 3\n",
            "Hey user your input is not valid!\n",
            "1 2 3 4\n",
            "Hey user your input is not valid!\n",
            "1 2 3 4 5\n"
          ]
        }
      ]
    },
    {
      "cell_type": "code",
      "source": [
        "print(res)"
      ],
      "metadata": {
        "colab": {
          "base_uri": "https://localhost:8080/"
        },
        "id": "A8mNHL3mfuit",
        "outputId": "93e3a0c8-5d79-4ecf-81bf-cea6e1733cdd"
      },
      "execution_count": null,
      "outputs": [
        {
          "output_type": "stream",
          "name": "stdout",
          "text": [
            "[[1, 2, 3], [1, 2, 3, 4], [1, 2, 3, 4, 5]]\n"
          ]
        }
      ]
    },
    {
      "cell_type": "code",
      "source": [
        "\n",
        "# l = [3, 5]\n",
        "zzzzz = input().split()\n",
        "l = list(map(int, zzzzz))\n",
        "\n",
        "x = l[0]\n",
        "y = l[1]\n",
        "\n",
        "print(x)\n",
        "print(y)"
      ],
      "metadata": {
        "id": "3FvYa1xsfyRx"
      },
      "execution_count": null,
      "outputs": []
    },
    {
      "cell_type": "markdown",
      "source": [
        "## Finding the sum of runs scored by Sachin"
      ],
      "metadata": {
        "id": "wu8YoNkui8Pj"
      }
    },
    {
      "cell_type": "code",
      "source": [
        "for i in range(2):\n",
        " for j in range(2):\n",
        "   print(i, j)\n",
        "\n"
      ],
      "metadata": {
        "colab": {
          "base_uri": "https://localhost:8080/"
        },
        "id": "qIMa9Mt-jEsA",
        "outputId": "09b082d1-19c9-4bb1-e8e5-02a6693b0bac"
      },
      "execution_count": null,
      "outputs": [
        {
          "output_type": "stream",
          "name": "stdout",
          "text": [
            "0 0\n",
            "0 1\n",
            "1 0\n",
            "1 1\n"
          ]
        }
      ]
    },
    {
      "cell_type": "code",
      "source": [
        "runs = [\n",
        "        [10, 22, 52], # ODI\n",
        "        [200, 300, 199], # Test\n",
        "        [5, 15, 20] # T20\n",
        "]\n",
        "\n",
        "# Find total runs scored in all formats\n",
        "\n",
        "R = 3\n",
        "C = 3\n"
      ],
      "metadata": {
        "id": "G7tbzeVBj682"
      },
      "execution_count": null,
      "outputs": []
    },
    {
      "cell_type": "code",
      "source": [
        "for i in range(R):\n",
        "  for j in range(C):\n",
        "    print(i, j, runs[i][j])"
      ],
      "metadata": {
        "colab": {
          "base_uri": "https://localhost:8080/"
        },
        "id": "PQebf1f_knBY",
        "outputId": "810840a5-d457-4334-e9c9-7a6a37db4684"
      },
      "execution_count": null,
      "outputs": [
        {
          "output_type": "stream",
          "name": "stdout",
          "text": [
            "0 0 10\n",
            "0 1 22\n",
            "0 2 52\n",
            "1 0 200\n",
            "1 1 300\n",
            "1 2 199\n",
            "2 0 5\n",
            "2 1 15\n",
            "2 2 20\n"
          ]
        }
      ]
    },
    {
      "cell_type": "code",
      "source": [
        "for i in range(R):\n",
        "  for j in range(C):\n",
        "    print(runs[i][j], end=' ')\n",
        "  print()"
      ],
      "metadata": {
        "colab": {
          "base_uri": "https://localhost:8080/"
        },
        "id": "xj9G33FIkpVP",
        "outputId": "292595d4-c050-4f61-9f6e-6c3a0813ab65"
      },
      "execution_count": null,
      "outputs": [
        {
          "output_type": "stream",
          "name": "stdout",
          "text": [
            "10 22 52 \n",
            "200 300 199 \n",
            "5 15 20 \n"
          ]
        }
      ]
    },
    {
      "cell_type": "code",
      "source": [
        "s = 0\n",
        "for i in range(R):\n",
        "  for j in range(C):\n",
        "    s += runs[i][j]\n",
        "  \n",
        "\n",
        "print(s)"
      ],
      "metadata": {
        "colab": {
          "base_uri": "https://localhost:8080/"
        },
        "id": "Fv_YYCFWlEaC",
        "outputId": "1602ced6-9109-4ca9-8c94-5f0b20af2613"
      },
      "execution_count": null,
      "outputs": [
        {
          "output_type": "stream",
          "name": "stdout",
          "text": [
            "823\n"
          ]
        }
      ]
    },
    {
      "cell_type": "code",
      "source": [
        ""
      ],
      "metadata": {
        "id": "kYnqW1DIlZZ9"
      },
      "execution_count": null,
      "outputs": []
    },
    {
      "cell_type": "markdown",
      "source": [
        "## R = 3, C = 5"
      ],
      "metadata": {
        "id": "df_7toB-lmlt"
      }
    },
    {
      "cell_type": "code",
      "source": [
        "R = 3\n",
        "C = 5\n",
        "\n",
        "mat = [\n",
        "       [1] * 5,\n",
        "       [2] * 5,\n",
        "       [3] * 5\n",
        "]\n",
        "\n",
        "print(mat)"
      ],
      "metadata": {
        "colab": {
          "base_uri": "https://localhost:8080/"
        },
        "id": "B3-ZROoalnu9",
        "outputId": "24e2411e-4c6a-4849-fc8b-8f35d1a7b667"
      },
      "execution_count": null,
      "outputs": [
        {
          "output_type": "stream",
          "name": "stdout",
          "text": [
            "[[1, 1, 1, 1, 1], [2, 2, 2, 2, 2], [3, 3, 3, 3, 3]]\n"
          ]
        }
      ]
    },
    {
      "cell_type": "code",
      "source": [
        "l = [0] * 6\n",
        "print(l)"
      ],
      "metadata": {
        "colab": {
          "base_uri": "https://localhost:8080/"
        },
        "id": "AtDtqDGjlzA0",
        "outputId": "1e88f1af-aa63-4b04-a319-8c4276ba4498"
      },
      "execution_count": null,
      "outputs": [
        {
          "output_type": "stream",
          "name": "stdout",
          "text": [
            "[0, 0, 0, 0, 0, 0]\n"
          ]
        }
      ]
    },
    {
      "cell_type": "code",
      "source": [
        "for i in range(R):\n",
        "  for j in range(C):\n",
        "    print(mat[i][j], end=' ')\n",
        "  print()"
      ],
      "metadata": {
        "colab": {
          "base_uri": "https://localhost:8080/"
        },
        "id": "fJ9z3-Fxl1dQ",
        "outputId": "bda087c0-a9c3-4d74-ccaf-364a3ac4e04c"
      },
      "execution_count": null,
      "outputs": [
        {
          "output_type": "stream",
          "name": "stdout",
          "text": [
            "1 1 1 1 1 \n",
            "2 2 2 2 2 \n",
            "3 3 3 3 3 \n"
          ]
        }
      ]
    },
    {
      "cell_type": "code",
      "source": [
        ""
      ],
      "metadata": {
        "id": "4iOCFQZYmPvH"
      },
      "execution_count": null,
      "outputs": []
    },
    {
      "cell_type": "markdown",
      "source": [
        "## Quiz"
      ],
      "metadata": {
        "id": "Q47nFVWUmwQq"
      }
    },
    {
      "cell_type": "code",
      "source": [
        "runs = [[0, 1, 100, 99], [1, 99, 0, 0]]\n",
        "\n",
        "print(runs[0])\n",
        "print(runs[1])"
      ],
      "metadata": {
        "colab": {
          "base_uri": "https://localhost:8080/"
        },
        "id": "K8yMVszFmw98",
        "outputId": "0415fa50-372b-479c-c08d-96b97081e646"
      },
      "execution_count": null,
      "outputs": [
        {
          "output_type": "stream",
          "name": "stdout",
          "text": [
            "[0, 1, 100, 99]\n",
            "[1, 99, 0, 0]\n"
          ]
        }
      ]
    },
    {
      "cell_type": "code",
      "source": [
        "print(sum(runs[0]))"
      ],
      "metadata": {
        "colab": {
          "base_uri": "https://localhost:8080/"
        },
        "id": "WcdKltE9m4tS",
        "outputId": "f0c4b70b-2f07-4398-c183-f082cbafe038"
      },
      "execution_count": null,
      "outputs": [
        {
          "output_type": "stream",
          "name": "stdout",
          "text": [
            "200\n"
          ]
        }
      ]
    },
    {
      "cell_type": "code",
      "source": [
        "print(sum(runs[1]))"
      ],
      "metadata": {
        "colab": {
          "base_uri": "https://localhost:8080/"
        },
        "id": "m39J_Ki_nNdz",
        "outputId": "809d809a-605b-4609-e19d-97ca98e8a6c9"
      },
      "execution_count": null,
      "outputs": [
        {
          "output_type": "stream",
          "name": "stdout",
          "text": [
            "100\n"
          ]
        }
      ]
    },
    {
      "cell_type": "code",
      "source": [
        ""
      ],
      "metadata": {
        "id": "mRD3irconPHc"
      },
      "execution_count": null,
      "outputs": []
    },
    {
      "cell_type": "markdown",
      "source": [
        "## Find the runs made in each format\n"
      ],
      "metadata": {
        "id": "0cASj_c9nZPi"
      }
    },
    {
      "cell_type": "code",
      "source": [
        "runs = [\n",
        "  [10, 22, 52], # ODI\n",
        "  [200, 300, 199], # Test\n",
        "  [5, 15, 20] # T20\n",
        "]\n",
        "\n",
        "R = len(runs)\n",
        "\n",
        "for i in range(R):\n",
        "  print(sum(runs[i]))"
      ],
      "metadata": {
        "colab": {
          "base_uri": "https://localhost:8080/"
        },
        "id": "_i96dP9Anbq_",
        "outputId": "56fc7bff-dccd-450d-e1d3-ad008b4456f7"
      },
      "execution_count": null,
      "outputs": [
        {
          "output_type": "stream",
          "name": "stdout",
          "text": [
            "84\n",
            "699\n",
            "40\n"
          ]
        }
      ]
    },
    {
      "cell_type": "code",
      "source": [
        ""
      ],
      "metadata": {
        "id": "iM5xXDKjnuOT"
      },
      "execution_count": null,
      "outputs": []
    },
    {
      "cell_type": "markdown",
      "source": [
        "## Find max in each format (store in res)"
      ],
      "metadata": {
        "id": "aFmOq6t8oBTV"
      }
    },
    {
      "cell_type": "code",
      "source": [
        "runs = [\n",
        "  [10, 22, 52], # ODI\n",
        "  [200, 300, 199], # Test\n",
        "  [5, 15, 20] # T20\n",
        "]\n",
        "\n",
        "R = len(runs)\n",
        "res = []\n",
        "\n",
        "for i in range(R):\n",
        "  # print(max(runs[i]))\n",
        "  res.append(max(runs[i]))\n",
        "\n",
        "print(res)"
      ],
      "metadata": {
        "colab": {
          "base_uri": "https://localhost:8080/"
        },
        "id": "7khkFHSOoCT3",
        "outputId": "b78f2145-28eb-4444-f651-40bdbfa98d94"
      },
      "execution_count": null,
      "outputs": [
        {
          "output_type": "stream",
          "name": "stdout",
          "text": [
            "[52, 300, 20]\n"
          ]
        }
      ]
    },
    {
      "cell_type": "code",
      "source": [
        "res2 = list(map(max, runs))\n",
        "print(res2)"
      ],
      "metadata": {
        "colab": {
          "base_uri": "https://localhost:8080/"
        },
        "id": "3iDlwCjQoDWr",
        "outputId": "c0a096ac-66b6-48ab-f2f3-d2c9c955e9af"
      },
      "execution_count": null,
      "outputs": [
        {
          "output_type": "stream",
          "name": "stdout",
          "text": [
            "[52, 300, 20]\n"
          ]
        }
      ]
    },
    {
      "cell_type": "code",
      "source": [
        "sum2 = list(map(sum, runs)) # sum in all the formats\n",
        "print(sum2)"
      ],
      "metadata": {
        "colab": {
          "base_uri": "https://localhost:8080/"
        },
        "id": "-1-4ITmxocK7",
        "outputId": "c5110ccd-9726-48c9-9234-e7aa6399f9d6"
      },
      "execution_count": null,
      "outputs": [
        {
          "output_type": "stream",
          "name": "stdout",
          "text": [
            "[84, 699, 40]\n"
          ]
        }
      ]
    },
    {
      "cell_type": "code",
      "source": [
        "total_sum = sum(sum2)\n",
        "print(total_sum)"
      ],
      "metadata": {
        "colab": {
          "base_uri": "https://localhost:8080/"
        },
        "id": "Y3aSbf54ofKI",
        "outputId": "9bf3df01-cfa1-4427-8374-07f0a977540a"
      },
      "execution_count": null,
      "outputs": [
        {
          "output_type": "stream",
          "name": "stdout",
          "text": [
            "823\n"
          ]
        }
      ]
    },
    {
      "cell_type": "code",
      "source": [
        ""
      ],
      "metadata": {
        "id": "xZE5f5SKor8t"
      },
      "execution_count": null,
      "outputs": []
    },
    {
      "cell_type": "markdown",
      "source": [
        "## Main Diagonal"
      ],
      "metadata": {
        "id": "1H-EhBSNqVlN"
      }
    },
    {
      "cell_type": "code",
      "source": [
        "for i in range(3):\n",
        "  for j in range(3):\n",
        "    if i == j:\n",
        "      print(i, end=' ')"
      ],
      "metadata": {
        "colab": {
          "base_uri": "https://localhost:8080/"
        },
        "id": "isCitd8BqWQY",
        "outputId": "113d0b15-fea0-40f2-f970-cac0375c7f2d"
      },
      "execution_count": null,
      "outputs": [
        {
          "output_type": "stream",
          "name": "stdout",
          "text": [
            "0 1 2 "
          ]
        }
      ]
    },
    {
      "cell_type": "code",
      "source": [
        "runs = [\n",
        "  [10, 22, 52], # ODI\n",
        "  [200, 300, 199], # Test\n",
        "  [5, 15, 20] # T20\n",
        "]\n",
        "\n",
        "for i in range(3):\n",
        "  for j in range(3):\n",
        "    if i == j:\n",
        "      print(runs[i][j], end=' ')"
      ],
      "metadata": {
        "colab": {
          "base_uri": "https://localhost:8080/"
        },
        "id": "AxBoyHkMqX54",
        "outputId": "01a474bf-e30c-4960-ca8f-71f2734d4225"
      },
      "execution_count": null,
      "outputs": [
        {
          "output_type": "stream",
          "name": "stdout",
          "text": [
            "10 300 20 "
          ]
        }
      ]
    },
    {
      "cell_type": "code",
      "source": [
        ""
      ],
      "metadata": {
        "id": "0kGVmaCOqnZr"
      },
      "execution_count": null,
      "outputs": []
    },
    {
      "cell_type": "markdown",
      "source": [
        "## Doubts"
      ],
      "metadata": {
        "id": "OX4WmRhVrdzb"
      }
    },
    {
      "cell_type": "code",
      "source": [
        "# take rows and cols as input\n",
        "# R C\n",
        "# R rows\n",
        "x = input().split()\n",
        "l = list(map(int, x))\n",
        "R = l[0]\n",
        "C = l[1]\n",
        "\n",
        "res = []\n",
        "for i in range(R):\n",
        "  y = input().split()\n",
        "  l2 = list(map(int, y))\n",
        "\n",
        "  # if the user provides less data\n",
        "  if len(l2) < C:\n",
        "    print('Hey user your input is not valid!')\n",
        "\n",
        "  # if the user provides more data\n",
        "  res.extend(l2[:C]) # We want only first 5 values (C = 5)\n",
        "\n",
        "\n"
      ],
      "metadata": {
        "colab": {
          "base_uri": "https://localhost:8080/"
        },
        "id": "5zCrd8lXreQm",
        "outputId": "eab5d2db-4d5a-4aa2-d150-b21cbdfbeb55"
      },
      "execution_count": null,
      "outputs": [
        {
          "name": "stdout",
          "output_type": "stream",
          "text": [
            "3 3\n",
            "1 2 3\n",
            "4 5 6\n",
            "7 8 9\n"
          ]
        }
      ]
    },
    {
      "cell_type": "code",
      "source": [
        "print(res)"
      ],
      "metadata": {
        "colab": {
          "base_uri": "https://localhost:8080/"
        },
        "id": "irm-qm3PrfSE",
        "outputId": "63073ce0-3986-4536-81e2-7c6af6c0aec0"
      },
      "execution_count": null,
      "outputs": [
        {
          "output_type": "stream",
          "name": "stdout",
          "text": [
            "[1, 2, 3, 4, 5, 6, 7, 8, 9]\n"
          ]
        }
      ]
    },
    {
      "cell_type": "code",
      "source": [
        "l = [1, 2, 3, [4, 5]]\n",
        "\n",
        "R = len(l)\n",
        "\n",
        "s = 0\n",
        "for i in range(R):\n",
        "  if isinstance(l[i], int):\n",
        "    s += l[i]\n",
        "  else:\n",
        "    s += sum(l[i])\n",
        "\n",
        "print(s)"
      ],
      "metadata": {
        "colab": {
          "base_uri": "https://localhost:8080/"
        },
        "id": "bAuXqqlNrh0E",
        "outputId": "d4807636-0ba7-4504-8bcf-c2adf1f69ac2"
      },
      "execution_count": null,
      "outputs": [
        {
          "output_type": "stream",
          "name": "stdout",
          "text": [
            "15\n"
          ]
        }
      ]
    },
    {
      "cell_type": "code",
      "source": [
        "l = [\n",
        "     [1, 2, 3],\n",
        "     [4, 5, 6],\n",
        "     [7, 8, 9]\n",
        "]\n",
        "\n",
        "for i in range(3):\n",
        "  for i in range(3):\n",
        "    print(l[i][i], end=' ')\n",
        "  print()"
      ],
      "metadata": {
        "colab": {
          "base_uri": "https://localhost:8080/"
        },
        "id": "e5phk59ss5pU",
        "outputId": "0e9faa9e-924a-4703-bb34-91749bca5be7"
      },
      "execution_count": null,
      "outputs": [
        {
          "output_type": "stream",
          "name": "stdout",
          "text": [
            "1 5 9 \n",
            "1 5 9 \n",
            "1 5 9 \n"
          ]
        }
      ]
    },
    {
      "cell_type": "code",
      "source": [
        "N = int(input())\n",
        "\n",
        "x = input().split()\n",
        "l = map(int, x)\n",
        "\n",
        "print(l)\n"
      ],
      "metadata": {
        "colab": {
          "base_uri": "https://localhost:8080/"
        },
        "id": "GRg7jWArs9dE",
        "outputId": "206e949c-0f7a-4549-9e15-d403f12fa8e1"
      },
      "execution_count": null,
      "outputs": [
        {
          "output_type": "stream",
          "name": "stdout",
          "text": [
            "5\n",
            "1 2 3 4 5\n",
            "<map object at 0x7f005514b290>\n"
          ]
        }
      ]
    },
    {
      "cell_type": "code",
      "source": [
        "l = list(l)\n",
        "print(l)"
      ],
      "metadata": {
        "colab": {
          "base_uri": "https://localhost:8080/"
        },
        "id": "leTPD3tYt8Tr",
        "outputId": "1564dcda-7712-4cc6-88db-a6ab6a0ba48c"
      },
      "execution_count": null,
      "outputs": [
        {
          "output_type": "stream",
          "name": "stdout",
          "text": [
            "[1, 2, 3, 4, 5]\n"
          ]
        }
      ]
    },
    {
      "cell_type": "code",
      "source": [
        "l = []\n",
        "for i in range(10):\n",
        "  l.append(i)\n",
        "\n",
        "print(l)"
      ],
      "metadata": {
        "colab": {
          "base_uri": "https://localhost:8080/"
        },
        "id": "xVJd2EXDt_9R",
        "outputId": "5f71d1ee-b157-424e-8b73-f7d5bf611824"
      },
      "execution_count": null,
      "outputs": [
        {
          "output_type": "stream",
          "name": "stdout",
          "text": [
            "[0, 1, 2, 3, 4, 5, 6, 7, 8, 9]\n"
          ]
        }
      ]
    },
    {
      "cell_type": "code",
      "source": [
        ""
      ],
      "metadata": {
        "id": "ChX_coYiuYM1"
      },
      "execution_count": null,
      "outputs": []
    }
  ]
}