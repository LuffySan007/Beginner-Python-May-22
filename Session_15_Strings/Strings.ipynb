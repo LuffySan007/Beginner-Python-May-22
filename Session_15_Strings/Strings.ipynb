{
  "nbformat": 4,
  "nbformat_minor": 0,
  "metadata": {
    "colab": {
      "name": "Strings.ipynb",
      "provenance": []
    },
    "kernelspec": {
      "name": "python3",
      "display_name": "Python 3"
    },
    "language_info": {
      "name": "python"
    }
  },
  "cells": [
    {
      "cell_type": "markdown",
      "source": [
        "# Strings"
      ],
      "metadata": {
        "id": "L-56RQvYp_zW"
      }
    },
    {
      "cell_type": "markdown",
      "source": [
        "## Introduction"
      ],
      "metadata": {
        "id": "Ojh1R2Z_qmoI"
      }
    },
    {
      "cell_type": "code",
      "source": [
        "print(\"abaaaa\")"
      ],
      "metadata": {
        "colab": {
          "base_uri": "https://localhost:8080/"
        },
        "id": "eiCnjeUVqnM3",
        "outputId": "f43e7d68-9ed2-498b-a183-e1d6e564c4aa"
      },
      "execution_count": null,
      "outputs": [
        {
          "output_type": "stream",
          "name": "stdout",
          "text": [
            "abaaaa\n"
          ]
        }
      ]
    },
    {
      "cell_type": "code",
      "source": [
        "print(\"abc##%^&\")"
      ],
      "metadata": {
        "colab": {
          "base_uri": "https://localhost:8080/"
        },
        "id": "wzPGuyCPqnoO",
        "outputId": "499d1e94-6110-4855-a952-5203a2790f0b"
      },
      "execution_count": null,
      "outputs": [
        {
          "output_type": "stream",
          "name": "stdout",
          "text": [
            "abc##%^&\n"
          ]
        }
      ]
    },
    {
      "cell_type": "code",
      "source": [
        "# print(\"abb12345\"\")\n",
        "\n",
        "# print(\"abb12345')\n",
        "\n",
        "s = \"Sahil Bansal\"\n",
        "print(s)"
      ],
      "metadata": {
        "colab": {
          "base_uri": "https://localhost:8080/"
        },
        "id": "egqESb4mqnl7",
        "outputId": "b600d62c-7dd0-4e8f-acc8-cd005ba1946b"
      },
      "execution_count": null,
      "outputs": [
        {
          "output_type": "stream",
          "name": "stdout",
          "text": [
            "Sahil Bansal\n"
          ]
        }
      ]
    },
    {
      "cell_type": "code",
      "source": [
        "# s = \"abb12345\"\" ---> extra closing double quote\n",
        "\n",
        "s = \"Sahil's phone\"\n",
        "print(s)"
      ],
      "metadata": {
        "colab": {
          "base_uri": "https://localhost:8080/"
        },
        "id": "W_4GrurRqnjN",
        "outputId": "b022316e-4e6f-4ada-f4d9-33fa10c5f6d9"
      },
      "execution_count": null,
      "outputs": [
        {
          "output_type": "stream",
          "name": "stdout",
          "text": [
            "Sahil's phone\n"
          ]
        }
      ]
    },
    {
      "cell_type": "code",
      "source": [
        "s = \"Sahil\\\"s phone\"  # \\\" -> an escape character or a special character\n",
        "print(s)"
      ],
      "metadata": {
        "colab": {
          "base_uri": "https://localhost:8080/"
        },
        "id": "qqMlYiP5whlE",
        "outputId": "15bd2529-fbe0-4509-fd01-1781792bd8ed"
      },
      "execution_count": null,
      "outputs": [
        {
          "output_type": "stream",
          "name": "stdout",
          "text": [
            "Sahil\"s phone\n"
          ]
        }
      ]
    },
    {
      "cell_type": "code",
      "source": [
        "print(\"Sahil\\nphone\")"
      ],
      "metadata": {
        "colab": {
          "base_uri": "https://localhost:8080/"
        },
        "id": "djCNE-sLwqIe",
        "outputId": "6189c982-ed0b-4c32-f995-c248a9d04b42"
      },
      "execution_count": null,
      "outputs": [
        {
          "output_type": "stream",
          "name": "stdout",
          "text": [
            "Sahil\n",
            "phone\n"
          ]
        }
      ]
    },
    {
      "cell_type": "code",
      "source": [
        "print(100 == \"100\")\n",
        "\n",
        "print(100 == True)"
      ],
      "metadata": {
        "colab": {
          "base_uri": "https://localhost:8080/"
        },
        "id": "UW7A-K4SwqCo",
        "outputId": "94d61bdc-a94d-42a3-908f-42622eccec8a"
      },
      "execution_count": null,
      "outputs": [
        {
          "output_type": "stream",
          "name": "stdout",
          "text": [
            "False\n",
            "False\n"
          ]
        }
      ]
    },
    {
      "cell_type": "code",
      "source": [
        "print(int('3') == 3)"
      ],
      "metadata": {
        "colab": {
          "base_uri": "https://localhost:8080/"
        },
        "id": "W2mo30ZVxSJA",
        "outputId": "77a8b12d-9ff8-44dc-f40b-c9f0be768c78"
      },
      "execution_count": null,
      "outputs": [
        {
          "output_type": "stream",
          "name": "stdout",
          "text": [
            "True\n"
          ]
        }
      ]
    },
    {
      "cell_type": "code",
      "source": [
        "print(str(100) == \"100\") # typecast an integer to a string\n",
        "\n"
      ],
      "metadata": {
        "colab": {
          "base_uri": "https://localhost:8080/"
        },
        "id": "f7bMDvwNxLkE",
        "outputId": "d46ecbe5-44cf-4270-ab9d-f94661afa7d1"
      },
      "execution_count": null,
      "outputs": [
        {
          "output_type": "stream",
          "name": "stdout",
          "text": [
            "True\n"
          ]
        }
      ]
    },
    {
      "cell_type": "code",
      "source": [
        "print(2 + 3)\n",
        "print('2' + '3') # concatenation"
      ],
      "metadata": {
        "colab": {
          "base_uri": "https://localhost:8080/"
        },
        "id": "XlsKNJRIxb3_",
        "outputId": "0078ded1-f6aa-4a8b-e8e6-50e1621f262f"
      },
      "execution_count": null,
      "outputs": [
        {
          "output_type": "stream",
          "name": "stdout",
          "text": [
            "5\n",
            "23\n"
          ]
        }
      ]
    },
    {
      "cell_type": "markdown",
      "source": [
        "## Challenge 1:\n",
        "\n",
        "\n"
      ],
      "metadata": {
        "id": "0Za64aQiqoB5"
      }
    },
    {
      "cell_type": "markdown",
      "source": [
        "Take a string as input and print all the characters in a newline.\n",
        "\n",
        "Input:\n",
        "\"India\"\n",
        "\n",
        "Output:\n",
        "\n",
        "I\n",
        "\n",
        "n\n",
        "\n",
        "d\n",
        "\n",
        "i\n",
        "\n",
        "a\n"
      ],
      "metadata": {
        "id": "EbmYcng-quAn"
      }
    },
    {
      "cell_type": "code",
      "source": [
        "my_country = input()\n",
        "print(my_country)"
      ],
      "metadata": {
        "colab": {
          "base_uri": "https://localhost:8080/"
        },
        "id": "kXz5MDvGq1HH",
        "outputId": "fa3e83df-5972-496f-e793-4133a16269ac"
      },
      "execution_count": null,
      "outputs": [
        {
          "output_type": "stream",
          "name": "stdout",
          "text": [
            "India\n",
            "India\n"
          ]
        }
      ]
    },
    {
      "cell_type": "code",
      "source": [
        "for i in my_country:\n",
        "  print(i)"
      ],
      "metadata": {
        "colab": {
          "base_uri": "https://localhost:8080/"
        },
        "id": "Kf5Z5eDWq1Dq",
        "outputId": "3ec0c11a-ff48-4944-9edb-285d29bced24"
      },
      "execution_count": null,
      "outputs": [
        {
          "output_type": "stream",
          "name": "stdout",
          "text": [
            "I\n",
            "n\n",
            "d\n",
            "i\n",
            "a\n"
          ]
        }
      ]
    },
    {
      "cell_type": "code",
      "source": [
        "print(type(my_country))"
      ],
      "metadata": {
        "colab": {
          "base_uri": "https://localhost:8080/"
        },
        "id": "VcGouveNqpfJ",
        "outputId": "fd0fd466-c096-405a-8231-931d68e8ec47"
      },
      "execution_count": null,
      "outputs": [
        {
          "output_type": "stream",
          "name": "stdout",
          "text": [
            "<class 'str'>\n"
          ]
        }
      ]
    },
    {
      "cell_type": "markdown",
      "source": [
        ""
      ],
      "metadata": {
        "id": "L_KaSEOVq1cz"
      }
    },
    {
      "cell_type": "markdown",
      "source": [
        "## Challenge 2:"
      ],
      "metadata": {
        "id": "u--Q-EVoq2c0"
      }
    },
    {
      "cell_type": "markdown",
      "source": [
        "Given a string as input, print the first and the last character of the string.\n",
        "\n",
        "Input: \"India\"\n",
        "\n",
        "Output:\n",
        "\n",
        "I\n",
        "\n",
        "a\n"
      ],
      "metadata": {
        "id": "cBnSieNWq4Zd"
      }
    },
    {
      "cell_type": "code",
      "source": [
        "s = \"India\""
      ],
      "metadata": {
        "id": "aPTCTbzbq-N2"
      },
      "execution_count": null,
      "outputs": []
    },
    {
      "cell_type": "code",
      "source": [
        "n = len(s)\n",
        "print(n)"
      ],
      "metadata": {
        "colab": {
          "base_uri": "https://localhost:8080/"
        },
        "id": "ccmQkirKq-Kk",
        "outputId": "8e334699-258d-4015-eaff-f3c4e93cc3dd"
      },
      "execution_count": null,
      "outputs": [
        {
          "output_type": "stream",
          "name": "stdout",
          "text": [
            "5\n"
          ]
        }
      ]
    },
    {
      "cell_type": "code",
      "source": [
        "print(s[0])"
      ],
      "metadata": {
        "colab": {
          "base_uri": "https://localhost:8080/"
        },
        "id": "0jO2sUukq35M",
        "outputId": "8159bab9-fbed-47f2-b3da-c0dbe8b73069"
      },
      "execution_count": null,
      "outputs": [
        {
          "output_type": "stream",
          "name": "stdout",
          "text": [
            "I\n"
          ]
        }
      ]
    },
    {
      "cell_type": "code",
      "source": [
        "print(s[-1])"
      ],
      "metadata": {
        "colab": {
          "base_uri": "https://localhost:8080/"
        },
        "id": "-mDNrtGg5Swg",
        "outputId": "98cd8eb1-e331-4427-b7eb-698cbae8240d"
      },
      "execution_count": null,
      "outputs": [
        {
          "output_type": "stream",
          "name": "stdout",
          "text": [
            "a\n"
          ]
        }
      ]
    },
    {
      "cell_type": "markdown",
      "source": [
        "## String Slicing"
      ],
      "metadata": {
        "id": "OHjn3pud5289"
      }
    },
    {
      "cell_type": "code",
      "source": [
        "print(s[:2]) # print 1st two"
      ],
      "metadata": {
        "colab": {
          "base_uri": "https://localhost:8080/"
        },
        "id": "lYvHoCeU54a-",
        "outputId": "2173ff37-0520-4e14-b761-c5827f4853c1"
      },
      "execution_count": null,
      "outputs": [
        {
          "output_type": "stream",
          "name": "stdout",
          "text": [
            "In\n"
          ]
        }
      ]
    },
    {
      "cell_type": "code",
      "source": [
        "print(s[-2:]) # print last two"
      ],
      "metadata": {
        "colab": {
          "base_uri": "https://localhost:8080/"
        },
        "id": "gs4FDSwv54PZ",
        "outputId": "de70993f-0273-4727-998a-d21c57b0369e"
      },
      "execution_count": null,
      "outputs": [
        {
          "output_type": "stream",
          "name": "stdout",
          "text": [
            "ia\n"
          ]
        }
      ]
    },
    {
      "cell_type": "markdown",
      "source": [
        "## Mutability"
      ],
      "metadata": {
        "id": "AS9RXAg76GBq"
      }
    },
    {
      "cell_type": "code",
      "source": [
        "l = [1, 5, 7, 4] # lists are mutable (we can change val at given index)\n",
        "\n",
        "l[0] = 9\n",
        "print(l)"
      ],
      "metadata": {
        "colab": {
          "base_uri": "https://localhost:8080/"
        },
        "id": "zj8fdWuZ6IzN",
        "outputId": "187f5d58-47c1-46c6-ad6f-e9aaadda9630"
      },
      "execution_count": null,
      "outputs": [
        {
          "output_type": "stream",
          "name": "stdout",
          "text": [
            "[9, 5, 7, 4]\n"
          ]
        }
      ]
    },
    {
      "cell_type": "code",
      "source": [
        "s = \"Interviewbit Academy\"\n",
        "\n",
        "# s[0] = \"I\" --> strings are not mutable, can't change a value in a string\n",
        "# can't change a value at a given index in string\n",
        "\n",
        "print(s)\n",
        "print(id(s)) # location of the space for the variable"
      ],
      "metadata": {
        "colab": {
          "base_uri": "https://localhost:8080/"
        },
        "id": "Azh3uMm-6IsC",
        "outputId": "979ad720-b6e1-48fd-892f-656261b666bf"
      },
      "execution_count": null,
      "outputs": [
        {
          "output_type": "stream",
          "name": "stdout",
          "text": [
            "Interviewbit Academy\n",
            "140116094265424\n"
          ]
        }
      ]
    },
    {
      "cell_type": "code",
      "source": [
        "s = \"My Country\" # you can replace entire string, it is a copy\n",
        "# it is a new container\n",
        "print(s)\n",
        "\n",
        "print(id(s)) # location of the space for the variable -> has changed"
      ],
      "metadata": {
        "colab": {
          "base_uri": "https://localhost:8080/"
        },
        "id": "20M8PSiJ6Ikj",
        "outputId": "9089858f-28ad-4faf-c898-4bacdc06382f"
      },
      "execution_count": null,
      "outputs": [
        {
          "output_type": "stream",
          "name": "stdout",
          "text": [
            "My Country\n",
            "140116094615152\n"
          ]
        }
      ]
    },
    {
      "cell_type": "code",
      "source": [
        "s = \"India\"\n",
        "print(s)\n",
        "\n",
        "print(id(s))"
      ],
      "metadata": {
        "colab": {
          "base_uri": "https://localhost:8080/"
        },
        "id": "0WKMzEqA54Jr",
        "outputId": "f39c0a42-64b0-417f-b2c9-f110f27897ad"
      },
      "execution_count": null,
      "outputs": [
        {
          "output_type": "stream",
          "name": "stdout",
          "text": [
            "India\n",
            "140116236529136\n"
          ]
        }
      ]
    },
    {
      "cell_type": "code",
      "source": [
        "s = \"Interviewbit\"\n",
        "t = \"Scaler\"\n",
        "\n",
        "print(s)\n",
        "print(id(s))\n",
        "\n",
        "print(t)\n",
        "print(id(t))"
      ],
      "metadata": {
        "colab": {
          "base_uri": "https://localhost:8080/"
        },
        "id": "ArbRNSL454E4",
        "outputId": "35a121f6-033d-4880-96be-01b1eda19c9a"
      },
      "execution_count": null,
      "outputs": [
        {
          "output_type": "stream",
          "name": "stdout",
          "text": [
            "Interviewbit\n",
            "140116094486192\n",
            "Scaler\n",
            "140116237361520\n"
          ]
        }
      ]
    },
    {
      "cell_type": "code",
      "source": [
        "l = [1, 2, 3]\n",
        "print(id(l))\n",
        "\n",
        "l[0] = 9\n",
        "print(id(l))"
      ],
      "metadata": {
        "colab": {
          "base_uri": "https://localhost:8080/"
        },
        "id": "En7M-Eka-eHv",
        "outputId": "362b3089-90f2-40b1-ad77-9052baa83fa3"
      },
      "execution_count": null,
      "outputs": [
        {
          "output_type": "stream",
          "name": "stdout",
          "text": [
            "140116094593776\n",
            "140116094593776\n"
          ]
        }
      ]
    },
    {
      "cell_type": "markdown",
      "source": [
        "## Challenge 3:\n"
      ],
      "metadata": {
        "id": "V0QrzxAhq_AX"
      }
    },
    {
      "cell_type": "markdown",
      "source": [
        "Take a string as input and print the ASCII value of the characters in it."
      ],
      "metadata": {
        "id": "EBMbUS0KrBk1"
      }
    },
    {
      "cell_type": "code",
      "source": [
        "print(ord('a'))"
      ],
      "metadata": {
        "colab": {
          "base_uri": "https://localhost:8080/"
        },
        "id": "TVKem2Wfq_5G",
        "outputId": "e140a4f4-5e41-428b-9299-a716cefb4bc1"
      },
      "execution_count": null,
      "outputs": [
        {
          "output_type": "stream",
          "name": "stdout",
          "text": [
            "97\n"
          ]
        }
      ]
    },
    {
      "cell_type": "code",
      "source": [
        "print(ord('A'))"
      ],
      "metadata": {
        "colab": {
          "base_uri": "https://localhost:8080/"
        },
        "id": "f5n6KoTRrDOS",
        "outputId": "86e927eb-b0d9-48d6-ac97-5e4c2917bce1"
      },
      "execution_count": null,
      "outputs": [
        {
          "output_type": "stream",
          "name": "stdout",
          "text": [
            "65\n"
          ]
        }
      ]
    },
    {
      "cell_type": "code",
      "source": [
        "print(ord('0'))"
      ],
      "metadata": {
        "colab": {
          "base_uri": "https://localhost:8080/"
        },
        "id": "7jEET5kSrDKF",
        "outputId": "941f5869-3fab-44c1-d93b-a5c3fa9e69bd"
      },
      "execution_count": null,
      "outputs": [
        {
          "output_type": "stream",
          "name": "stdout",
          "text": [
            "48\n"
          ]
        }
      ]
    },
    {
      "cell_type": "code",
      "source": [
        "s = \"India\"\n",
        "\n",
        "for i in s:\n",
        "  print(ord(i))"
      ],
      "metadata": {
        "colab": {
          "base_uri": "https://localhost:8080/"
        },
        "id": "ysnbHoc5rDFE",
        "outputId": "0e4a4e7d-380d-4dee-8929-4e1e5e7804b9"
      },
      "execution_count": null,
      "outputs": [
        {
          "output_type": "stream",
          "name": "stdout",
          "text": [
            "73\n",
            "110\n",
            "100\n",
            "105\n",
            "97\n"
          ]
        }
      ]
    },
    {
      "cell_type": "code",
      "source": [
        "print(ord(' '))"
      ],
      "metadata": {
        "colab": {
          "base_uri": "https://localhost:8080/"
        },
        "id": "YOJ6XFaurC9T",
        "outputId": "e7ddee06-8a05-451e-caaa-deb3e9ad6696"
      },
      "execution_count": null,
      "outputs": [
        {
          "output_type": "stream",
          "name": "stdout",
          "text": [
            "32\n"
          ]
        }
      ]
    },
    {
      "cell_type": "code",
      "source": [
        "print(ord('%'))"
      ],
      "metadata": {
        "colab": {
          "base_uri": "https://localhost:8080/"
        },
        "id": "Yp6LY8Zw_rOh",
        "outputId": "a3e37aa6-fb2a-4309-b0fa-0b6fe496dd11"
      },
      "execution_count": null,
      "outputs": [
        {
          "output_type": "stream",
          "name": "stdout",
          "text": [
            "37\n"
          ]
        }
      ]
    },
    {
      "cell_type": "markdown",
      "source": [
        "## Given a ASCII value, convert that to a character"
      ],
      "metadata": {
        "id": "6iMQV9vL_zHg"
      }
    },
    {
      "cell_type": "code",
      "source": [
        "print(chr(97))"
      ],
      "metadata": {
        "colab": {
          "base_uri": "https://localhost:8080/"
        },
        "id": "7ZNGhwtL_y0S",
        "outputId": "b73b465a-21ec-4c50-8cd7-fb03d49036db"
      },
      "execution_count": null,
      "outputs": [
        {
          "output_type": "stream",
          "name": "stdout",
          "text": [
            "a\n"
          ]
        }
      ]
    },
    {
      "cell_type": "code",
      "source": [
        "print(chr(65))"
      ],
      "metadata": {
        "colab": {
          "base_uri": "https://localhost:8080/"
        },
        "id": "4ecP1SjS_5W3",
        "outputId": "a7493fe1-2798-4b05-a136-dd9e1553d00a"
      },
      "execution_count": null,
      "outputs": [
        {
          "output_type": "stream",
          "name": "stdout",
          "text": [
            "A\n"
          ]
        }
      ]
    },
    {
      "cell_type": "code",
      "source": [
        "print(chr(48))"
      ],
      "metadata": {
        "colab": {
          "base_uri": "https://localhost:8080/"
        },
        "id": "2srM5bUM_5Lr",
        "outputId": "0cdf1760-0c42-4033-f59f-c81b8dc969de"
      },
      "execution_count": null,
      "outputs": [
        {
          "output_type": "stream",
          "name": "stdout",
          "text": [
            "0\n"
          ]
        }
      ]
    },
    {
      "cell_type": "code",
      "source": [
        "# 256 ASCII values\n",
        "\n",
        "for i in range(256):\n",
        "  print(chr(i), end=' ')\n",
        "\n"
      ],
      "metadata": {
        "colab": {
          "base_uri": "https://localhost:8080/"
        },
        "id": "H2LUUQMt_5AJ",
        "outputId": "a459fb98-1fbc-4e23-acab-014dbd64e690"
      },
      "execution_count": null,
      "outputs": [
        {
          "output_type": "stream",
          "name": "stdout",
          "text": [
            "\u0000 \u0001 \u0002 \u0003 \u0004 \u0005 \u0006 \u0007 \b \t \n",
            " \u000b \f \r \u000e \u000f \u0010 \u0011 \u0012 \u0013 \u0014 \u0015 \u0016 \u0017 \u0018 \u0019 \u001a \u001b \u001c \u001d \u001e \u001f   ! \" # $ % & ' ( ) * + , - . / 0 1 2 3 4 5 6 7 8 9 : ; < = > ? @ A B C D E F G H I J K L M N O P Q R S T U V W X Y Z [ \\ ] ^ _ ` a b c d e f g h i j k l m n o p q r s t u v w x y z { | } ~                                    ¡ ¢ £ ¤ ¥ ¦ § ¨ © ª « ¬ ­ ® ¯ ° ± ² ³ ´ µ ¶ · ¸ ¹ º » ¼ ½ ¾ ¿ À Á Â Ã Ä Å Æ Ç È É Ê Ë Ì Í Î Ï Ð Ñ Ò Ó Ô Õ Ö × Ø Ù Ú Û Ü Ý Þ ß à á â ã ä å æ ç è é ê ë ì í î ï ð ñ ò ó ô õ ö ÷ ø ù ú û ü ý þ ÿ "
          ]
        }
      ]
    },
    {
      "cell_type": "code",
      "source": [
        "print(ord('['))"
      ],
      "metadata": {
        "colab": {
          "base_uri": "https://localhost:8080/"
        },
        "id": "XX8dO8F-_437",
        "outputId": "e0f02902-c877-4938-a49c-296352fa95a0"
      },
      "execution_count": null,
      "outputs": [
        {
          "output_type": "stream",
          "name": "stdout",
          "text": [
            "91\n"
          ]
        }
      ]
    },
    {
      "cell_type": "code",
      "source": [
        "print(ord('🌙'))"
      ],
      "metadata": {
        "colab": {
          "base_uri": "https://localhost:8080/"
        },
        "id": "WyAaXL4F_4wC",
        "outputId": "0c3837ba-7062-4b34-c408-bd3ba561c0dd"
      },
      "execution_count": null,
      "outputs": [
        {
          "output_type": "stream",
          "name": "stdout",
          "text": [
            "127769\n"
          ]
        }
      ]
    },
    {
      "cell_type": "code",
      "source": [
        "print(ord('🌞'))"
      ],
      "metadata": {
        "colab": {
          "base_uri": "https://localhost:8080/"
        },
        "id": "s85Ja1jgArE-",
        "outputId": "2a9b5874-71a1-4061-9297-aa8604dd7171"
      },
      "execution_count": null,
      "outputs": [
        {
          "output_type": "stream",
          "name": "stdout",
          "text": [
            "127774\n"
          ]
        }
      ]
    },
    {
      "cell_type": "code",
      "source": [
        "help(ord)"
      ],
      "metadata": {
        "colab": {
          "base_uri": "https://localhost:8080/"
        },
        "id": "wyNHCwiGAiHf",
        "outputId": "ecb3f1c1-a8ea-4a2d-a99c-71ec109b8da0"
      },
      "execution_count": null,
      "outputs": [
        {
          "output_type": "stream",
          "name": "stdout",
          "text": [
            "Help on built-in function ord in module builtins:\n",
            "\n",
            "ord(c, /)\n",
            "    Return the Unicode code point for a one-character string.\n",
            "\n"
          ]
        }
      ]
    },
    {
      "cell_type": "code",
      "source": [
        "print(chr(127774)) # converts the unicode to the character"
      ],
      "metadata": {
        "colab": {
          "base_uri": "https://localhost:8080/"
        },
        "id": "laidsJSfAwDN",
        "outputId": "1da91448-df6e-4554-e293-9a84d0391285"
      },
      "execution_count": null,
      "outputs": [
        {
          "output_type": "stream",
          "name": "stdout",
          "text": [
            "🌞\n"
          ]
        }
      ]
    },
    {
      "cell_type": "code",
      "source": [
        "print(ord('😂'))"
      ],
      "metadata": {
        "colab": {
          "base_uri": "https://localhost:8080/"
        },
        "id": "WJORMrCgAzVT",
        "outputId": "11d768e2-67ad-42d4-cf9f-33eb9d677323"
      },
      "execution_count": null,
      "outputs": [
        {
          "output_type": "stream",
          "name": "stdout",
          "text": [
            "128514\n"
          ]
        }
      ]
    },
    {
      "cell_type": "code",
      "source": [
        "print(ord('☺'))"
      ],
      "metadata": {
        "colab": {
          "base_uri": "https://localhost:8080/"
        },
        "id": "Nhjo_n5uA53Y",
        "outputId": "a4112bca-ebb1-43fd-ef49-8126eac16f5b"
      },
      "execution_count": null,
      "outputs": [
        {
          "output_type": "stream",
          "name": "stdout",
          "text": [
            "9786\n"
          ]
        }
      ]
    },
    {
      "cell_type": "code",
      "source": [
        "print(ord('့'))"
      ],
      "metadata": {
        "colab": {
          "base_uri": "https://localhost:8080/"
        },
        "id": "OX7TPmteA5t0",
        "outputId": "f88c7ad5-3d84-4dc7-a2fd-3da8790ba9bf"
      },
      "execution_count": null,
      "outputs": [
        {
          "output_type": "stream",
          "name": "stdout",
          "text": [
            "4151\n"
          ]
        }
      ]
    },
    {
      "cell_type": "markdown",
      "source": [
        "## Challenge 4:"
      ],
      "metadata": {
        "id": "iwPaCgTwrDkr"
      }
    },
    {
      "cell_type": "markdown",
      "source": [
        "Given a string as input, print it 3 times without any space. (can't use a loop)\n",
        "\n",
        "Input:\n",
        "\"India\"\n",
        "\n",
        "Ouput:\n",
        "\"IndiaIndiaIndia\""
      ],
      "metadata": {
        "id": "yNiYGdLXrHEc"
      }
    },
    {
      "cell_type": "code",
      "source": [
        "print('India' + 'India' + 'India')"
      ],
      "metadata": {
        "colab": {
          "base_uri": "https://localhost:8080/"
        },
        "id": "9W-jx9RHrFF7",
        "outputId": "82b99aca-e798-475f-9725-a6855d70be53"
      },
      "execution_count": null,
      "outputs": [
        {
          "output_type": "stream",
          "name": "stdout",
          "text": [
            "IndiaIndiaIndia\n"
          ]
        }
      ]
    },
    {
      "cell_type": "code",
      "source": [
        "print('India'*3)"
      ],
      "metadata": {
        "colab": {
          "base_uri": "https://localhost:8080/"
        },
        "id": "x7zzwF59rIwq",
        "outputId": "f7d7929e-18cd-469a-eae5-f7e0d82a1b07"
      },
      "execution_count": null,
      "outputs": [
        {
          "output_type": "stream",
          "name": "stdout",
          "text": [
            "IndiaIndiaIndia\n"
          ]
        }
      ]
    },
    {
      "cell_type": "code",
      "source": [
        "s = 'India' + 'India' + \"India\"\n",
        "\n",
        "print(s)\n",
        "print(len(s))"
      ],
      "metadata": {
        "colab": {
          "base_uri": "https://localhost:8080/"
        },
        "id": "3UnOV2ZdrIr6",
        "outputId": "61882c41-5605-4d9e-d0dd-b9df1a9f4d8e"
      },
      "execution_count": null,
      "outputs": [
        {
          "output_type": "stream",
          "name": "stdout",
          "text": [
            "IndiaIndiaIndia\n",
            "15\n"
          ]
        }
      ]
    },
    {
      "cell_type": "code",
      "source": [
        "s = 'India'*3\n",
        "\n",
        "print(s)\n",
        "print(len(s))"
      ],
      "metadata": {
        "colab": {
          "base_uri": "https://localhost:8080/"
        },
        "id": "saNkegsurImh",
        "outputId": "1436dc2d-162e-41bc-f545-f472a10eeccf"
      },
      "execution_count": null,
      "outputs": [
        {
          "output_type": "stream",
          "name": "stdout",
          "text": [
            "IndiaIndiaIndia\n",
            "15\n"
          ]
        }
      ]
    },
    {
      "cell_type": "code",
      "source": [
        "city = \"Phoenix\"\n",
        "print(len(city*3))"
      ],
      "metadata": {
        "colab": {
          "base_uri": "https://localhost:8080/"
        },
        "id": "jX1j2bv1rIRS",
        "outputId": "e0a44924-8e97-42b3-fc57-76b5b69f5d85"
      },
      "execution_count": null,
      "outputs": [
        {
          "output_type": "stream",
          "name": "stdout",
          "text": [
            "21\n"
          ]
        }
      ]
    },
    {
      "cell_type": "markdown",
      "source": [
        "## Challenge 5:"
      ],
      "metadata": {
        "id": "R1qOODsYrJEv"
      }
    },
    {
      "cell_type": "markdown",
      "source": [
        "Given a string as input, count the no of upper case characters\n",
        "(A - Z) in it."
      ],
      "metadata": {
        "id": "x1isaJNSrM9o"
      }
    },
    {
      "cell_type": "code",
      "source": [
        "# capital is the new small\n",
        "# A: 65\n",
        "# Z: 90\n",
        "\n",
        "# a: 97\n",
        "# z: 122"
      ],
      "metadata": {
        "id": "iPMbEzHyrNPy"
      },
      "execution_count": null,
      "outputs": []
    },
    {
      "cell_type": "code",
      "source": [
        "s = \"IndiaRocks\"\n",
        "\n"
      ],
      "metadata": {
        "id": "T-UKm2MHrNtd"
      },
      "execution_count": null,
      "outputs": []
    },
    {
      "cell_type": "code",
      "source": [
        "cnt = 0\n",
        "for i in s:\n",
        "  if ord(i) >= 65 and ord(i) <= 90:\n",
        "    # upper case\n",
        "    cnt += 1\n",
        "  \n",
        "print(cnt)"
      ],
      "metadata": {
        "colab": {
          "base_uri": "https://localhost:8080/"
        },
        "id": "y0SPtORyrNrT",
        "outputId": "e4575b3a-4237-4dd1-a9af-83ed7ba455b7"
      },
      "execution_count": null,
      "outputs": [
        {
          "output_type": "stream",
          "name": "stdout",
          "text": [
            "2\n"
          ]
        }
      ]
    },
    {
      "cell_type": "code",
      "source": [
        "cnt = 0\n",
        "for i in s:\n",
        "  if i >= 'A' and i <= 'Z':\n",
        "    # upper case\n",
        "    cnt += 1\n",
        "  \n",
        "print(cnt)"
      ],
      "metadata": {
        "colab": {
          "base_uri": "https://localhost:8080/"
        },
        "id": "FsScUY_sDBNU",
        "outputId": "b2805e00-a596-4d74-9c4b-e218cb5fd5c2"
      },
      "execution_count": null,
      "outputs": [
        {
          "output_type": "stream",
          "name": "stdout",
          "text": [
            "2\n"
          ]
        }
      ]
    },
    {
      "cell_type": "code",
      "source": [
        "cnt = 0\n",
        "for i in s:\n",
        "  if i.isupper():\n",
        "    # upper case\n",
        "    cnt += 1\n",
        "  \n",
        "print(cnt)"
      ],
      "metadata": {
        "colab": {
          "base_uri": "https://localhost:8080/"
        },
        "id": "UcriNGd3C2Kt",
        "outputId": "ebb91ea1-ce4b-47a9-aee1-d9f4aac975e8"
      },
      "execution_count": null,
      "outputs": [
        {
          "output_type": "stream",
          "name": "stdout",
          "text": [
            "2\n"
          ]
        }
      ]
    },
    {
      "cell_type": "code",
      "source": [
        "print('c'.isupper())\n",
        "print('c'.islower())"
      ],
      "metadata": {
        "colab": {
          "base_uri": "https://localhost:8080/"
        },
        "id": "xnJXWSEIrNpE",
        "outputId": "de24681b-319b-4e97-8fca-63139f3cd593"
      },
      "execution_count": null,
      "outputs": [
        {
          "output_type": "stream",
          "name": "stdout",
          "text": [
            "False\n",
            "True\n"
          ]
        }
      ]
    },
    {
      "cell_type": "code",
      "source": [
        "print('C'.isupper())"
      ],
      "metadata": {
        "colab": {
          "base_uri": "https://localhost:8080/"
        },
        "id": "ypomE4xrrO2N",
        "outputId": "e28908de-ec34-4655-bbf0-934c304f970c"
      },
      "execution_count": null,
      "outputs": [
        {
          "output_type": "stream",
          "name": "stdout",
          "text": [
            "True\n"
          ]
        }
      ]
    },
    {
      "cell_type": "markdown",
      "source": [
        "## Challenge 6:"
      ],
      "metadata": {
        "id": "22Ny1Hi6rPMZ"
      }
    },
    {
      "cell_type": "markdown",
      "source": [
        "Convert the string to lower case.\n",
        "\n",
        "Input: \"INdiA\"\n",
        "\n",
        "Output: \"india\""
      ],
      "metadata": {
        "id": "vXvFSYnTrSRP"
      }
    },
    {
      "cell_type": "code",
      "source": [
        "print('Sahil@SCALER.com' == 'sahil@scaler.com')\n",
        "\n"
      ],
      "metadata": {
        "colab": {
          "base_uri": "https://localhost:8080/"
        },
        "id": "krvCS5tvrQZ7",
        "outputId": "04333872-4d05-47b3-9d57-658f248b02a4"
      },
      "execution_count": null,
      "outputs": [
        {
          "output_type": "stream",
          "name": "stdout",
          "text": [
            "False\n"
          ]
        }
      ]
    },
    {
      "cell_type": "code",
      "source": [
        "s = \"SaHIL@scaler.com\"\n",
        "\n",
        "print(s.lower())"
      ],
      "metadata": {
        "colab": {
          "base_uri": "https://localhost:8080/"
        },
        "id": "9Hnz3EvOrWG9",
        "outputId": "b286d5e1-fae1-4ec7-b0a8-daeab49a949c"
      },
      "execution_count": null,
      "outputs": [
        {
          "output_type": "stream",
          "name": "stdout",
          "text": [
            "sahil@scaler.com\n"
          ]
        }
      ]
    },
    {
      "cell_type": "code",
      "source": [
        "s = \"INdiA\"\n",
        "print(s.lower())"
      ],
      "metadata": {
        "colab": {
          "base_uri": "https://localhost:8080/"
        },
        "id": "0goFSZgOrWDd",
        "outputId": "594f41ac-ac91-4a68-e479-88d65f5609b2"
      },
      "execution_count": null,
      "outputs": [
        {
          "output_type": "stream",
          "name": "stdout",
          "text": [
            "india\n"
          ]
        }
      ]
    },
    {
      "cell_type": "code",
      "source": [
        "print(s.upper())"
      ],
      "metadata": {
        "colab": {
          "base_uri": "https://localhost:8080/"
        },
        "id": "DqVLVqirrWBK",
        "outputId": "3d967b6f-0562-4d3a-f281-506cef123680"
      },
      "execution_count": null,
      "outputs": [
        {
          "output_type": "stream",
          "name": "stdout",
          "text": [
            "INDIA\n"
          ]
        }
      ]
    },
    {
      "cell_type": "code",
      "source": [
        "print(s.capitalize())"
      ],
      "metadata": {
        "colab": {
          "base_uri": "https://localhost:8080/"
        },
        "id": "E6VXx2wNrV-7",
        "outputId": "a7c6958e-9acf-4e1f-90d5-bf6e57315081"
      },
      "execution_count": null,
      "outputs": [
        {
          "output_type": "stream",
          "name": "stdout",
          "text": [
            "India\n"
          ]
        }
      ]
    },
    {
      "cell_type": "code",
      "source": [
        "s = \"my country is india\"\n",
        "\n",
        "print(s.capitalize())"
      ],
      "metadata": {
        "colab": {
          "base_uri": "https://localhost:8080/"
        },
        "id": "W5iUtc8irV8m",
        "outputId": "b0d11e05-b18a-41aa-ca97-444662c0156e"
      },
      "execution_count": null,
      "outputs": [
        {
          "output_type": "stream",
          "name": "stdout",
          "text": [
            "My country is india\n"
          ]
        }
      ]
    },
    {
      "cell_type": "code",
      "source": [
        "print(s.title())"
      ],
      "metadata": {
        "colab": {
          "base_uri": "https://localhost:8080/"
        },
        "id": "4o8uuDt1rV6H",
        "outputId": "16fc73a7-ba38-4a51-c0ce-988a0dec8dda"
      },
      "execution_count": null,
      "outputs": [
        {
          "output_type": "stream",
          "name": "stdout",
          "text": [
            "My Country Is India\n"
          ]
        }
      ]
    },
    {
      "cell_type": "code",
      "source": [
        "s = \"INdiA\"\n",
        "\n",
        "l = []\n",
        "\n",
        "for i in s:\n",
        "  if i.isupper():\n",
        "    # add 32 here\n",
        "    x = ord(i) + 32\n",
        "  else:\n",
        "    x = ord(i)\n",
        "  \n",
        "  print(chr(x), end='')\n",
        "  l.append(chr(x)) # add the lower case character to a list\n",
        "\n",
        "print()\n",
        "print(l)\n",
        "\n",
        "# concatenate the string from these characters\n",
        "# new_s = ''+ l[0] + l[1] + l[2] + l[3] + l[4]\n",
        "# print(new_s)\n",
        "\n",
        "ans = ''\n",
        "for i in l:\n",
        "  ans += i\n",
        "\n",
        "print(ans)"
      ],
      "metadata": {
        "colab": {
          "base_uri": "https://localhost:8080/"
        },
        "id": "5a4vs_q5rV3h",
        "outputId": "6ce50ad9-4d50-461a-9c8a-6ba7d327ad8f"
      },
      "execution_count": null,
      "outputs": [
        {
          "output_type": "stream",
          "name": "stdout",
          "text": [
            "india\n",
            "['i', 'n', 'd', 'i', 'a']\n",
            "india\n"
          ]
        }
      ]
    },
    {
      "cell_type": "code",
      "source": [
        "l = ['i', 'n', 'd', 'i', 'a']\n",
        "\n",
        "s = ''.join(l)\n",
        "print(s)"
      ],
      "metadata": {
        "colab": {
          "base_uri": "https://localhost:8080/"
        },
        "id": "RwXpk-BNGugN",
        "outputId": "6da16dd2-4106-4e2f-b493-587c500be297"
      },
      "execution_count": null,
      "outputs": [
        {
          "output_type": "stream",
          "name": "stdout",
          "text": [
            "india\n"
          ]
        }
      ]
    },
    {
      "cell_type": "code",
      "source": [
        "s = 'my country is india'\n",
        "l = s.split()\n",
        "print(l)"
      ],
      "metadata": {
        "colab": {
          "base_uri": "https://localhost:8080/"
        },
        "id": "D_3k2G7tG4dS",
        "outputId": "34a6f0cd-9865-4532-ae4c-d4fd2771d1aa"
      },
      "execution_count": null,
      "outputs": [
        {
          "output_type": "stream",
          "name": "stdout",
          "text": [
            "['my', 'country', 'is', 'india']\n"
          ]
        }
      ]
    },
    {
      "cell_type": "code",
      "source": [
        "s = ' '.join(l)\n",
        "print(s)"
      ],
      "metadata": {
        "colab": {
          "base_uri": "https://localhost:8080/"
        },
        "id": "gG48ACLdG_kg",
        "outputId": "8419678b-adde-4c7a-8d63-69b335f4243f"
      },
      "execution_count": null,
      "outputs": [
        {
          "output_type": "stream",
          "name": "stdout",
          "text": [
            "my country is india\n"
          ]
        }
      ]
    },
    {
      "cell_type": "markdown",
      "source": [
        "## Quizzes"
      ],
      "metadata": {
        "id": "lk9Q7ihhHURB"
      }
    },
    {
      "cell_type": "code",
      "source": [
        "def spongebob(str):\n",
        "  new_str = \"\"\n",
        "  for ind, char in enumerate(str):\n",
        "    if ind % 2 == 1:\n",
        "      # odd index character is becoming lower\n",
        "      new_str += char.lower()\n",
        "    else:\n",
        "      # even index character is becoming upper\n",
        "      new_str += char.upper()\n",
        "  return new_str\n",
        "\n",
        "\n",
        "print(spongebob('scaler'))"
      ],
      "metadata": {
        "colab": {
          "base_uri": "https://localhost:8080/"
        },
        "id": "TBpyZhUXHVCA",
        "outputId": "bd0075ca-560d-4c51-8887-9d1b4203aa5d"
      },
      "execution_count": null,
      "outputs": [
        {
          "output_type": "stream",
          "name": "stdout",
          "text": [
            "ScAlEr\n"
          ]
        }
      ]
    },
    {
      "cell_type": "code",
      "source": [
        "l = [5, 1, 6, 9, 10]\n",
        "\n",
        "for i, v in enumerate(l):\n",
        "  print(i, v)"
      ],
      "metadata": {
        "colab": {
          "base_uri": "https://localhost:8080/"
        },
        "id": "cvXbKrocHxex",
        "outputId": "bcfce38d-8d56-424a-bace-eea72ad6eeb4"
      },
      "execution_count": null,
      "outputs": [
        {
          "output_type": "stream",
          "name": "stdout",
          "text": [
            "0 5\n",
            "1 1\n",
            "2 6\n",
            "3 9\n",
            "4 10\n"
          ]
        }
      ]
    },
    {
      "cell_type": "code",
      "source": [
        "def unique(str):\n",
        "  letters = []\n",
        "  \n",
        "  for char in str:\n",
        "    if char not in letters: # if the character is not present in the letters\n",
        "      letters.append(char)\n",
        "\n",
        "  return letters\n",
        "\n",
        "\n",
        "res = unique('apple')\n",
        "print(res)\n",
        "\n"
      ],
      "metadata": {
        "colab": {
          "base_uri": "https://localhost:8080/"
        },
        "id": "xLcUwPEGIJE5",
        "outputId": "6163b975-3bac-48c3-d9d2-335ff6a9bde8"
      },
      "execution_count": null,
      "outputs": [
        {
          "output_type": "stream",
          "name": "stdout",
          "text": [
            "['a', 'p', 'l', 'e']\n"
          ]
        }
      ]
    },
    {
      "cell_type": "code",
      "source": [
        "def mystery(str):\n",
        "  i = int(len(str)/2)\n",
        "  print(i)\n",
        "  a = str[:i]\n",
        "  print(a)\n",
        "  b = str[i:]\n",
        "  print(b)\n",
        "  return a.upper() + b.lower()\n",
        "\n",
        "print(mystery(\"abracadabra\"))"
      ],
      "metadata": {
        "colab": {
          "base_uri": "https://localhost:8080/"
        },
        "id": "NYkPo9sWI82V",
        "outputId": "542206f4-13e5-4036-fc62-cf91dd1adbff"
      },
      "execution_count": null,
      "outputs": [
        {
          "output_type": "stream",
          "name": "stdout",
          "text": [
            "5\n",
            "abrac\n",
            "adabra\n",
            "ABRACadabra\n"
          ]
        }
      ]
    },
    {
      "cell_type": "code",
      "source": [
        "s = \"India\"\n",
        "print(id(s))\n",
        "\n",
        "s = \"India\"\n",
        "print(id(s))"
      ],
      "metadata": {
        "colab": {
          "base_uri": "https://localhost:8080/"
        },
        "id": "dECrHgukJxP7",
        "outputId": "0d31bf95-f790-4fd9-f026-acd1161d49b2"
      },
      "execution_count": null,
      "outputs": [
        {
          "output_type": "stream",
          "name": "stdout",
          "text": [
            "140116093823344\n",
            "140116093823344\n"
          ]
        }
      ]
    },
    {
      "cell_type": "code",
      "source": [
        "print(type('I'))"
      ],
      "metadata": {
        "colab": {
          "base_uri": "https://localhost:8080/"
        },
        "id": "9UkvAu2ILtnM",
        "outputId": "b771c896-a5b1-4029-babe-041dcf70b48e"
      },
      "execution_count": null,
      "outputs": [
        {
          "output_type": "stream",
          "name": "stdout",
          "text": [
            "<class 'str'>\n"
          ]
        }
      ]
    },
    {
      "cell_type": "markdown",
      "source": [
        "## Doubts"
      ],
      "metadata": {
        "id": "wgTMBSCDriQh"
      }
    },
    {
      "cell_type": "code",
      "source": [
        "s = \"\"\"This\n",
        "is\n",
        "multi\n",
        "line\"\"\"\n",
        "\n",
        "print(s)\n",
        "\n",
        "print(len(s))"
      ],
      "metadata": {
        "colab": {
          "base_uri": "https://localhost:8080/"
        },
        "id": "zc_ADTWLris0",
        "outputId": "a547ab25-c741-43c9-efc8-672b2c6231ec"
      },
      "execution_count": null,
      "outputs": [
        {
          "output_type": "stream",
          "name": "stdout",
          "text": [
            "This\n",
            "is\n",
            "multi\n",
            "line\n",
            "18\n"
          ]
        }
      ]
    },
    {
      "cell_type": "code",
      "source": [
        "print('🌟🌟🌙🌟🌟⭐')"
      ],
      "metadata": {
        "id": "lTDQr54EPd3T",
        "outputId": "f064bb70-ff05-41b6-deb2-a5a87bece159",
        "colab": {
          "base_uri": "https://localhost:8080/"
        }
      },
      "execution_count": 130,
      "outputs": [
        {
          "output_type": "stream",
          "name": "stdout",
          "text": [
            "🌟🌟🌙🌟🌟⭐\n"
          ]
        }
      ]
    },
    {
      "cell_type": "code",
      "source": [
        ""
      ],
      "metadata": {
        "id": "nCph09mXPeB8"
      },
      "execution_count": null,
      "outputs": []
    }
  ]
}