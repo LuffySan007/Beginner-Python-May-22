{
  "nbformat": 4,
  "nbformat_minor": 0,
  "metadata": {
    "colab": {
      "name": "Problem Solving - Lists.ipynb",
      "provenance": []
    },
    "kernelspec": {
      "name": "python3",
      "display_name": "Python 3"
    },
    "language_info": {
      "name": "python"
    }
  },
  "cells": [
    {
      "cell_type": "markdown",
      "source": [
        "# Problem Solving Session on Lists\n"
      ],
      "metadata": {
        "id": "_GoZhCLCdzlj"
      }
    },
    {
      "cell_type": "markdown",
      "source": [
        "## Q1. Consecutive Duplicate"
      ],
      "metadata": {
        "id": "qu6IFc1AdkjK"
      }
    },
    {
      "cell_type": "code",
      "source": [
        "n = 5\n",
        "for i in range(n):\n",
        "    print(i, i + 1)"
      ],
      "metadata": {
        "colab": {
          "base_uri": "https://localhost:8080/"
        },
        "id": "2ViH1pYifYYk",
        "outputId": "9d294fb8-c835-412c-f425-a9049e5f84eb"
      },
      "execution_count": 9,
      "outputs": [
        {
          "output_type": "stream",
          "name": "stdout",
          "text": [
            "0 1\n",
            "1 2\n",
            "2 3\n",
            "3 4\n",
            "4 5\n"
          ]
        }
      ]
    },
    {
      "cell_type": "code",
      "source": [
        "ls = [1, 2, 3, 3, 4, 5]\n",
        "n = 6\n",
        "\n",
        "for i in range(n - 1):\n",
        "  print(i, i + 1)"
      ],
      "metadata": {
        "colab": {
          "base_uri": "https://localhost:8080/"
        },
        "id": "T3oh5b3kfYVG",
        "outputId": "57fc0c6c-9c0b-44ac-9e3e-03941dfe87ea"
      },
      "execution_count": 10,
      "outputs": [
        {
          "output_type": "stream",
          "name": "stdout",
          "text": [
            "0 1\n",
            "1 2\n",
            "2 3\n",
            "3 4\n",
            "4 5\n"
          ]
        }
      ]
    },
    {
      "cell_type": "code",
      "source": [
        "ls = [1, 2, 3, 3, 4, 5]\n",
        "n = 6\n",
        "\n",
        "for i in range(n - 1):\n",
        "  print(ls[i], ls[i + 1])"
      ],
      "metadata": {
        "colab": {
          "base_uri": "https://localhost:8080/"
        },
        "id": "PLbUuMZIfYK8",
        "outputId": "0650b5a4-82c8-45fc-ba4f-1742a6386bcc"
      },
      "execution_count": 12,
      "outputs": [
        {
          "output_type": "stream",
          "name": "stdout",
          "text": [
            "1 2\n",
            "2 3\n",
            "3 3\n",
            "3 4\n",
            "4 5\n"
          ]
        }
      ]
    },
    {
      "cell_type": "markdown",
      "source": [
        "## Q2. Second Largest\n"
      ],
      "metadata": {
        "id": "NpaiE2J2dnLv"
      }
    },
    {
      "cell_type": "code",
      "source": [
        "l = [5, 1, 2, 5, 3, 5, 4]\n",
        "\n",
        "# Approach 1: Using sorting\n",
        "l.sort()\n",
        "print(l)\n",
        "\n",
        "print(l[-2])"
      ],
      "metadata": {
        "colab": {
          "base_uri": "https://localhost:8080/"
        },
        "id": "sw7Pw16Kdo-_",
        "outputId": "d15b6db6-7dd3-4ba4-a414-6d398a5547fa"
      },
      "execution_count": 14,
      "outputs": [
        {
          "output_type": "stream",
          "name": "stdout",
          "text": [
            "[1, 2, 3, 4, 5, 5, 5]\n",
            "5\n"
          ]
        }
      ]
    },
    {
      "cell_type": "code",
      "source": [
        "l = [5, 1, 2, 4, 5, 3]\n",
        "\n",
        "# Approach: 2\n",
        "#  m = First get the max\n",
        "#  Remove the value m in the list\n",
        "#  Again get the max in remaining list\n",
        "\n",
        "m = max(l) # Try to think how to find it without max function\n",
        "print(m)\n",
        "\n",
        "l.remove(m)\n",
        "print(l)\n",
        "\n",
        "m2 = max(l)\n",
        "print(m2)"
      ],
      "metadata": {
        "colab": {
          "base_uri": "https://localhost:8080/"
        },
        "id": "2P5mOBp4dpki",
        "outputId": "254b62a2-0eae-42b8-e07f-699f11b9a19a"
      },
      "execution_count": 19,
      "outputs": [
        {
          "output_type": "stream",
          "name": "stdout",
          "text": [
            "5\n",
            "[1, 2, 4, 5, 3]\n",
            "5\n"
          ]
        }
      ]
    },
    {
      "cell_type": "code",
      "source": [
        "def find_maximum(ls):\n",
        "  n = len(ls)\n",
        "  maxi = ls[0]\n",
        "\n",
        "  for i in range(1, n):\n",
        "    if ls[i] > maxi:\n",
        "      maxi = ls[i]\n",
        "\n",
        "  return maxi\n"
      ],
      "metadata": {
        "id": "gR4tdBOJdp1i"
      },
      "execution_count": 20,
      "outputs": []
    },
    {
      "cell_type": "code",
      "source": [
        "l = [5, 1, 2, 4, 5, 3]\n",
        "\n",
        "# Approach: 2\n",
        "#  m = First get the max\n",
        "#  Remove the value m in the list\n",
        "#  Again get the max in remaining list\n",
        "\n",
        "m = find_maximum(l)\n",
        "print(m)\n",
        "\n",
        "l.remove(m)\n",
        "print(l)\n",
        "\n",
        "m2 = find_maximum(l)\n",
        "print(m2)"
      ],
      "metadata": {
        "colab": {
          "base_uri": "https://localhost:8080/"
        },
        "id": "y3GuFTptwDfy",
        "outputId": "1d4b327d-9fd9-44cf-9351-0dda5b815c3b"
      },
      "execution_count": 21,
      "outputs": [
        {
          "output_type": "stream",
          "name": "stdout",
          "text": [
            "5\n",
            "[1, 2, 4, 5, 3]\n",
            "5\n"
          ]
        }
      ]
    },
    {
      "cell_type": "markdown",
      "source": [
        "## Q3. Check if Array is Sorted\n"
      ],
      "metadata": {
        "id": "_2BP0hebdqDR"
      }
    },
    {
      "cell_type": "code",
      "source": [
        "ls = [5, 7, 7, 7, 11, 19]\n",
        "n = 6\n",
        "\n",
        "for i in range(n - 1):\n",
        "  print(ls[i], ls[i + 1], ls[i] > ls[i + 1])"
      ],
      "metadata": {
        "colab": {
          "base_uri": "https://localhost:8080/"
        },
        "id": "G-tSnI0wdsVb",
        "outputId": "c91253e6-2493-4648-ba4f-1c183509141d"
      },
      "execution_count": 26,
      "outputs": [
        {
          "output_type": "stream",
          "name": "stdout",
          "text": [
            "5 7 False\n",
            "7 7 False\n",
            "7 7 False\n",
            "7 11 False\n",
            "11 19 False\n"
          ]
        }
      ]
    },
    {
      "cell_type": "code",
      "source": [
        "ls = [5, 7, 7, 3, 11, 19]\n",
        "n = 6\n",
        "\n",
        "for i in range(n - 1):\n",
        "  print(ls[i], ls[i + 1], ls[i] > ls[i + 1])"
      ],
      "metadata": {
        "colab": {
          "base_uri": "https://localhost:8080/"
        },
        "id": "Zv53-S88dszM",
        "outputId": "5f1d45bd-7cfd-46cd-d38a-87d36480e717"
      },
      "execution_count": 25,
      "outputs": [
        {
          "output_type": "stream",
          "name": "stdout",
          "text": [
            "5 7 False\n",
            "7 7 False\n",
            "7 3 True\n",
            "3 11 False\n",
            "11 19 False\n"
          ]
        }
      ]
    },
    {
      "cell_type": "code",
      "source": [
        ""
      ],
      "metadata": {
        "id": "lvw0Wrksds9Y"
      },
      "execution_count": null,
      "outputs": []
    },
    {
      "cell_type": "markdown",
      "source": [
        "## Q4. Wave Print (Column Wise)"
      ],
      "metadata": {
        "id": "XxuS7IMHdtT7"
      }
    },
    {
      "cell_type": "code",
      "source": [
        "# 4 1 2 \n",
        "# 7 4 4 \n",
        "# 3 7 4 \n",
        "\n",
        "m = [\n",
        "     [4, 1, 2],\n",
        "     [7, 4, 4],\n",
        "     [3, 7, 4]\n",
        "]\n",
        "\n",
        "print(m)"
      ],
      "metadata": {
        "colab": {
          "base_uri": "https://localhost:8080/"
        },
        "id": "P6J5jwN1dvHK",
        "outputId": "489042fe-b82d-41d0-cab7-9b4509b493e7"
      },
      "execution_count": 44,
      "outputs": [
        {
          "output_type": "stream",
          "name": "stdout",
          "text": [
            "[[4, 1, 2], [7, 4, 4], [3, 7, 4]]\n"
          ]
        }
      ]
    },
    {
      "cell_type": "code",
      "source": [
        "R = len(m)\n",
        "C = len(m[0])\n",
        "\n",
        "# in the problem it's a N*N matrix\n",
        "\n",
        "N = len(m)\n",
        "\n",
        "for i in range(N): # loop over the rows\n",
        "  for j in range(N): # loop over the col\n",
        "    print(m[i][j], end=' ')\n",
        "\n",
        "  print()"
      ],
      "metadata": {
        "colab": {
          "base_uri": "https://localhost:8080/"
        },
        "id": "POUaUUJ1dv24",
        "outputId": "7be7ee71-995c-4ff8-da76-29a6ca6b6155"
      },
      "execution_count": 36,
      "outputs": [
        {
          "output_type": "stream",
          "name": "stdout",
          "text": [
            "4 1 2 \n",
            "7 4 4 \n",
            "3 7 4 \n"
          ]
        }
      ]
    },
    {
      "cell_type": "code",
      "source": [
        "# 1st column\n",
        "for i in range(N): \n",
        "  print(m[i][0], end=' ')"
      ],
      "metadata": {
        "colab": {
          "base_uri": "https://localhost:8080/"
        },
        "id": "voEcvCP_dwA2",
        "outputId": "f931174e-efaf-4c2c-f892-ee43bc956139"
      },
      "execution_count": 32,
      "outputs": [
        {
          "output_type": "stream",
          "name": "stdout",
          "text": [
            "4 7 3 "
          ]
        }
      ]
    },
    {
      "cell_type": "code",
      "source": [
        "# 2nd column\n",
        "for i in range(N):\n",
        "  print(m[i][1], end=' ')"
      ],
      "metadata": {
        "colab": {
          "base_uri": "https://localhost:8080/"
        },
        "id": "xNO-QPzJdwTI",
        "outputId": "c346a468-cf3c-43ea-a8cc-419e44ee0614"
      },
      "execution_count": 45,
      "outputs": [
        {
          "output_type": "stream",
          "name": "stdout",
          "text": [
            "1 4 7 "
          ]
        }
      ]
    },
    {
      "cell_type": "code",
      "source": [
        "# 2nd column\n",
        "for i in range(N - 1, -1, -1):\n",
        "  print(m[i][1], end=' ')"
      ],
      "metadata": {
        "colab": {
          "base_uri": "https://localhost:8080/"
        },
        "id": "mJePVyXl-J2L",
        "outputId": "4f6e2e2f-e547-4e69-f8d9-7d741282f364"
      },
      "execution_count": 43,
      "outputs": [
        {
          "output_type": "stream",
          "name": "stdout",
          "text": [
            "8 5 2 "
          ]
        }
      ]
    },
    {
      "cell_type": "markdown",
      "source": [
        ""
      ],
      "metadata": {
        "id": "PoTeWH7--Jho"
      }
    },
    {
      "cell_type": "code",
      "source": [
        "# 3rd column\n",
        "for i in range(N):\n",
        "  print(m[i][2], end=' ')"
      ],
      "metadata": {
        "colab": {
          "base_uri": "https://localhost:8080/"
        },
        "id": "-T1-a7XfdweE",
        "outputId": "6746eb9d-b23d-4103-fcc9-5062c6ea5c46"
      },
      "execution_count": 34,
      "outputs": [
        {
          "output_type": "stream",
          "name": "stdout",
          "text": [
            "2 4 4 "
          ]
        }
      ]
    },
    {
      "cell_type": "code",
      "source": [
        "# print(m)\n",
        "\n",
        "for j in range(N): # outer loop => col\n",
        "  for i in range(N): # inner loop => row\n",
        "    print(m[i][j], end=' ')"
      ],
      "metadata": {
        "colab": {
          "base_uri": "https://localhost:8080/"
        },
        "id": "0lxmUFebdwox",
        "outputId": "11d96223-dbc9-485a-867e-dbae7ebff4ba"
      },
      "execution_count": 39,
      "outputs": [
        {
          "output_type": "stream",
          "name": "stdout",
          "text": [
            "4 7 3 1 4 7 2 4 4 "
          ]
        }
      ]
    },
    {
      "cell_type": "markdown",
      "source": [
        "## Doubts / QnA\n"
      ],
      "metadata": {
        "id": "y--SiUg8dxAH"
      }
    },
    {
      "cell_type": "code",
      "source": [
        "m = []\n",
        "\n",
        "n = int(input())\n",
        "print(n)"
      ],
      "metadata": {
        "colab": {
          "base_uri": "https://localhost:8080/"
        },
        "id": "rL69x6aQdxdW",
        "outputId": "c33df07e-6148-413d-93c2-6f12882958b0"
      },
      "execution_count": 40,
      "outputs": [
        {
          "output_type": "stream",
          "name": "stdout",
          "text": [
            "3\n",
            "3\n"
          ]
        }
      ]
    },
    {
      "cell_type": "code",
      "source": [
        "for i in range(n):\n",
        "  x = input().split()\n",
        "  # print(x)\n",
        "  l = list(map(int, x))\n",
        "  print(l)"
      ],
      "metadata": {
        "colab": {
          "base_uri": "https://localhost:8080/"
        },
        "id": "fcI6abRK9IeB",
        "outputId": "6e9945d5-3521-47ac-ad66-d99bececacfe"
      },
      "execution_count": 41,
      "outputs": [
        {
          "output_type": "stream",
          "name": "stdout",
          "text": [
            "1 2 3\n",
            "['1', '2', '3']\n",
            "[1, 2, 3]\n",
            "4 5 6\n",
            "['4', '5', '6']\n",
            "[4, 5, 6]\n",
            "7 8 9\n",
            "['7', '8', '9']\n",
            "[7, 8, 9]\n"
          ]
        }
      ]
    },
    {
      "cell_type": "code",
      "source": [
        "m = []\n",
        "for i in range(n):\n",
        "  x = input().split()\n",
        "  # print(x)\n",
        "  l = list(map(int, x))\n",
        "  # print(l)\n",
        "  m.append(l)\n",
        "\n",
        "print(m)"
      ],
      "metadata": {
        "colab": {
          "base_uri": "https://localhost:8080/"
        },
        "id": "dssbRlRQ9huJ",
        "outputId": "3374d247-73e3-4508-b46d-9aba88e698f9"
      },
      "execution_count": 42,
      "outputs": [
        {
          "output_type": "stream",
          "name": "stdout",
          "text": [
            "1 2 3\n",
            "4 5 6\n",
            "7 8 9\n",
            "[[1, 2, 3], [4, 5, 6], [7, 8, 9]]\n"
          ]
        }
      ]
    },
    {
      "cell_type": "code",
      "source": [
        "m = []\n",
        "for i in range(n):\n",
        "  l = list(map(int, input().split()))\n",
        "  m.append(l)\n",
        "\n",
        "print(m)"
      ],
      "metadata": {
        "id": "l86tOejn9t_e"
      },
      "execution_count": null,
      "outputs": []
    },
    {
      "cell_type": "code",
      "source": [
        "m = []\n",
        "for i in range(n):\n",
        "  m.append(list(map(int, input().split())))\n",
        "\n",
        "print(m)\n",
        "\n"
      ],
      "metadata": {
        "id": "FlujVd3A-oMi"
      },
      "execution_count": null,
      "outputs": []
    },
    {
      "cell_type": "code",
      "source": [
        "n = int(input())\n",
        "m = [list(map(int, input().split())) for i in range(n)]\n",
        "# readability comes at the cost of no of lines of code some times"
      ],
      "metadata": {
        "colab": {
          "base_uri": "https://localhost:8080/"
        },
        "id": "yb92Hxno-yJC",
        "outputId": "b7ffac6e-c9bc-4a4a-aa7c-84efb0a1e459"
      },
      "execution_count": 49,
      "outputs": [
        {
          "name": "stdout",
          "output_type": "stream",
          "text": [
            "3\n",
            "1 2 3\n",
            "4 6 9\n",
            "-1 -2 -3\n"
          ]
        }
      ]
    },
    {
      "cell_type": "code",
      "source": [
        "print(m)"
      ],
      "metadata": {
        "colab": {
          "base_uri": "https://localhost:8080/"
        },
        "id": "_milxUt2-9tT",
        "outputId": "e9a2a472-45ce-4278-b6bf-a28719c293ed"
      },
      "execution_count": 50,
      "outputs": [
        {
          "output_type": "stream",
          "name": "stdout",
          "text": [
            "[[1, 2, 3], [4, 6, 9], [-1, -2, -3]]\n"
          ]
        }
      ]
    },
    {
      "cell_type": "code",
      "source": [
        "m1 = [[1, 2, 3], [4, 6, 9], [-1, -2, -4]]"
      ],
      "metadata": {
        "id": "pHxHSZSI_GQU"
      },
      "execution_count": 54,
      "outputs": []
    },
    {
      "cell_type": "code",
      "source": [
        "print(m == m1)\n",
        "\n",
        "\n",
        "for i in range(n):\n",
        "  for j in range(n):\n",
        "    if (m[i][j] != m1[i][j]):\n",
        "      print(False)\n",
        "      break\n",
        "\n"
      ],
      "metadata": {
        "colab": {
          "base_uri": "https://localhost:8080/"
        },
        "id": "tlqTO5dTAlxf",
        "outputId": "f302c9b1-8cc6-4de4-826b-3c5a43e81864"
      },
      "execution_count": 57,
      "outputs": [
        {
          "output_type": "stream",
          "name": "stdout",
          "text": [
            "False\n",
            "False\n"
          ]
        }
      ]
    },
    {
      "cell_type": "code",
      "source": [
        "A = [[1, 2, 3], [4, 5, 6]]\n",
        "B = [[1, 2, 4], [4, 5, 6]]\n",
        "\n",
        "for i in range (len(A)):\n",
        "  #P=[] #F=[]\n",
        "  for j in range (len(A[0])):\n",
        "    if A[i][j]==B[i][j]:\n",
        "      #x=1 continue\n",
        "      # P.append(x)\n",
        "      print('Equal values')\n",
        "    else:\n",
        "      #x=0\n",
        "      #F.append(x)\n",
        "      print(0)\n",
        "      break"
      ],
      "metadata": {
        "colab": {
          "base_uri": "https://localhost:8080/"
        },
        "id": "tzSB0hGcAmYW",
        "outputId": "f8a12e02-20ec-43f7-c123-90b85c942238"
      },
      "execution_count": 59,
      "outputs": [
        {
          "output_type": "stream",
          "name": "stdout",
          "text": [
            "Equal values\n",
            "Equal values\n",
            "0\n",
            "Equal values\n",
            "Equal values\n",
            "Equal values\n"
          ]
        }
      ]
    },
    {
      "cell_type": "code",
      "source": [
        "a = [1, 2, 3]\n",
        "b = [2, 8, 12]\n",
        "\n"
      ],
      "metadata": {
        "id": "t2q0ywEDCAE7"
      },
      "execution_count": null,
      "outputs": []
    },
    {
      "cell_type": "code",
      "source": [
        "\n",
        "def f(x):\n",
        "  return 4+x\n",
        "\n",
        "l = [1, 2, 3, 4, 5, 6]\n",
        "\n",
        "res = list(map(f, l))\n",
        "print(res)"
      ],
      "metadata": {
        "colab": {
          "base_uri": "https://localhost:8080/"
        },
        "id": "iRKQDnJlDoVn",
        "outputId": "053dbe41-0167-4328-adf1-66c7763852a0"
      },
      "execution_count": 64,
      "outputs": [
        {
          "output_type": "stream",
          "name": "stdout",
          "text": [
            "[5, 6, 7, 8, 9, 10]\n"
          ]
        }
      ]
    },
    {
      "cell_type": "code",
      "source": [
        "print(list(range(1, 10)))"
      ],
      "metadata": {
        "colab": {
          "base_uri": "https://localhost:8080/"
        },
        "id": "1d2WDK0mD00j",
        "outputId": "ff62852a-7822-4c1f-f1dc-f01f73e4a7fd"
      },
      "execution_count": 62,
      "outputs": [
        {
          "output_type": "stream",
          "name": "stdout",
          "text": [
            "[1, 2, 3, 4, 5, 6, 7, 8, 9]\n"
          ]
        }
      ]
    },
    {
      "cell_type": "code",
      "source": [
        "l = [None, 1, 2]\n",
        "print(type(l))\n",
        "\n",
        "print(len(l))"
      ],
      "metadata": {
        "colab": {
          "base_uri": "https://localhost:8080/"
        },
        "id": "wru1_rTLFT5g",
        "outputId": "bb1f1e8f-39ae-46ee-9352-70919d8821cf"
      },
      "execution_count": 69,
      "outputs": [
        {
          "output_type": "stream",
          "name": "stdout",
          "text": [
            "<class 'list'>\n",
            "3\n"
          ]
        }
      ]
    },
    {
      "cell_type": "code",
      "source": [
        "l = []\n",
        "print(type(l))\n",
        "\n",
        "print(len(l))"
      ],
      "metadata": {
        "colab": {
          "base_uri": "https://localhost:8080/"
        },
        "id": "4ph1KDN7FTrG",
        "outputId": "d75b658a-1897-4033-9a76-aaebfaf7d305"
      },
      "execution_count": 68,
      "outputs": [
        {
          "output_type": "stream",
          "name": "stdout",
          "text": [
            "<class 'list'>\n",
            "0\n"
          ]
        }
      ]
    },
    {
      "cell_type": "markdown",
      "source": [
        ""
      ],
      "metadata": {
        "id": "U-bW9tnhBYdi"
      }
    }
  ]
}