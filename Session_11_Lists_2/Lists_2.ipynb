{
  "nbformat": 4,
  "nbformat_minor": 0,
  "metadata": {
    "colab": {
      "name": "Lists - 2",
      "provenance": []
    },
    "kernelspec": {
      "name": "python3",
      "display_name": "Python 3"
    },
    "language_info": {
      "name": "python"
    }
  },
  "cells": [
    {
      "cell_type": "code",
      "execution_count": null,
      "metadata": {
        "id": "SLEUzjUyocNt"
      },
      "outputs": [],
      "source": [
        "runs = [0, 1, 99, 98, 76, 54]\n",
        "#       0. 1. 2.   3.  4.  5"
      ]
    },
    {
      "cell_type": "code",
      "source": [
        "y = runs.pop(3) # pop function returns the deleted element\n",
        "print(y)"
      ],
      "metadata": {
        "colab": {
          "base_uri": "https://localhost:8080/"
        },
        "id": "O1ImTqLMtCMJ",
        "outputId": "30ce1fca-6ed4-446a-c9a4-6ca39394dede"
      },
      "execution_count": null,
      "outputs": [
        {
          "output_type": "stream",
          "name": "stdout",
          "text": [
            "98\n"
          ]
        }
      ]
    },
    {
      "cell_type": "code",
      "source": [
        "print(runs)"
      ],
      "metadata": {
        "colab": {
          "base_uri": "https://localhost:8080/"
        },
        "id": "fQVeF5yYtVKx",
        "outputId": "161713b0-c1c0-413a-9f85-7e1ca83d024c"
      },
      "execution_count": null,
      "outputs": [
        {
          "output_type": "stream",
          "name": "stdout",
          "text": [
            "[0, 1, 99, 76, 54]\n"
          ]
        }
      ]
    },
    {
      "cell_type": "code",
      "source": [
        "runs.insert(3, 200)"
      ],
      "metadata": {
        "id": "9N5nGkYFteNg"
      },
      "execution_count": null,
      "outputs": []
    },
    {
      "cell_type": "code",
      "source": [
        "print(runs)"
      ],
      "metadata": {
        "colab": {
          "base_uri": "https://localhost:8080/"
        },
        "id": "XhOaB0pwt2LG",
        "outputId": "45970275-8d85-431e-95d4-3d3da11b186a"
      },
      "execution_count": null,
      "outputs": [
        {
          "output_type": "stream",
          "name": "stdout",
          "text": [
            "[0, 1, 99, 200, 76, 54]\n"
          ]
        }
      ]
    },
    {
      "cell_type": "code",
      "source": [
        ""
      ],
      "metadata": {
        "id": "Kn2NWqZBuCtC"
      },
      "execution_count": null,
      "outputs": []
    },
    {
      "cell_type": "markdown",
      "source": [
        "## Updating an element in the list"
      ],
      "metadata": {
        "id": "QNQ5YKbTuWqS"
      }
    },
    {
      "cell_type": "code",
      "source": [
        "runs = [0, 1, 99, 98, 76, 54]"
      ],
      "metadata": {
        "id": "JFumFOgJuXvH"
      },
      "execution_count": null,
      "outputs": []
    },
    {
      "cell_type": "code",
      "source": [
        "runs[3] = 200"
      ],
      "metadata": {
        "id": "_kLEZ9BXuYc2"
      },
      "execution_count": null,
      "outputs": []
    },
    {
      "cell_type": "code",
      "source": [
        "print(runs)"
      ],
      "metadata": {
        "colab": {
          "base_uri": "https://localhost:8080/"
        },
        "id": "d8V-9Holubg8",
        "outputId": "e045e8cf-6297-42d9-da7b-4f7a984a8148"
      },
      "execution_count": null,
      "outputs": [
        {
          "output_type": "stream",
          "name": "stdout",
          "text": [
            "[0, 1, 99, 200, 76, 54]\n"
          ]
        }
      ]
    },
    {
      "cell_type": "code",
      "source": [
        "runs[5] = 55\n",
        "print(runs)"
      ],
      "metadata": {
        "colab": {
          "base_uri": "https://localhost:8080/"
        },
        "id": "cRcoVDMXuc6k",
        "outputId": "202d8cb0-b691-4d19-bf02-752167fe4b17"
      },
      "execution_count": null,
      "outputs": [
        {
          "output_type": "stream",
          "name": "stdout",
          "text": [
            "[0, 1, 99, 200, 76, 55]\n"
          ]
        }
      ]
    },
    {
      "cell_type": "markdown",
      "source": [
        "## Multiple Assignment"
      ],
      "metadata": {
        "id": "KikHNtrPu6O9"
      }
    },
    {
      "cell_type": "code",
      "source": [
        "a, b = 3, 2\n",
        "\n",
        "print(a)\n",
        "print(b)"
      ],
      "metadata": {
        "colab": {
          "base_uri": "https://localhost:8080/"
        },
        "id": "FptFi35CusaL",
        "outputId": "170d9263-4376-4548-d935-40964574f110"
      },
      "execution_count": null,
      "outputs": [
        {
          "output_type": "stream",
          "name": "stdout",
          "text": [
            "3\n",
            "2\n"
          ]
        }
      ]
    },
    {
      "cell_type": "code",
      "source": [
        "a = 3\n",
        "b = 2\n",
        "print(a)\n",
        "print(b)"
      ],
      "metadata": {
        "colab": {
          "base_uri": "https://localhost:8080/"
        },
        "id": "cMYROfSXu78v",
        "outputId": "f2d21563-2a47-4b20-96e2-2b6c0ec461fa"
      },
      "execution_count": null,
      "outputs": [
        {
          "output_type": "stream",
          "name": "stdout",
          "text": [
            "3\n",
            "2\n"
          ]
        }
      ]
    },
    {
      "cell_type": "code",
      "source": [
        "runs = [0, 1, 99, 98, 76, 54]\n",
        "runs[3], runs[5] = 200, 55\n",
        "\n",
        "print(runs)"
      ],
      "metadata": {
        "colab": {
          "base_uri": "https://localhost:8080/"
        },
        "id": "lLHZfiV-vBqJ",
        "outputId": "04c9dd25-bf89-40f0-d217-f41d2644db3f"
      },
      "execution_count": null,
      "outputs": [
        {
          "output_type": "stream",
          "name": "stdout",
          "text": [
            "[0, 1, 99, 200, 76, 55]\n"
          ]
        }
      ]
    },
    {
      "cell_type": "code",
      "source": [
        "print(type(runs))"
      ],
      "metadata": {
        "colab": {
          "base_uri": "https://localhost:8080/"
        },
        "id": "pLhGDRn8vcrQ",
        "outputId": "702f116f-cf32-4464-8773-841147d1110d"
      },
      "execution_count": null,
      "outputs": [
        {
          "output_type": "stream",
          "name": "stdout",
          "text": [
            "<class 'list'>\n"
          ]
        }
      ]
    },
    {
      "cell_type": "code",
      "source": [
        ""
      ],
      "metadata": {
        "id": "2FySliU3volk"
      },
      "execution_count": null,
      "outputs": []
    },
    {
      "cell_type": "markdown",
      "source": [
        "## Quizzes"
      ],
      "metadata": {
        "id": "rxHEMsLJwRw6"
      }
    },
    {
      "cell_type": "code",
      "source": [
        "runs = [0, 1, 99, 98, 76, 54]\n",
        "\n",
        "runs[3] = runs[4]\n",
        "\n",
        "# runs[3] = 76"
      ],
      "metadata": {
        "id": "qX93a1TnwSXC"
      },
      "execution_count": null,
      "outputs": []
    },
    {
      "cell_type": "code",
      "source": [
        "print(runs)"
      ],
      "metadata": {
        "colab": {
          "base_uri": "https://localhost:8080/"
        },
        "id": "CxzNgdnywgrE",
        "outputId": "6d4565a2-57b0-41c3-d7c6-e874a749f240"
      },
      "execution_count": null,
      "outputs": [
        {
          "output_type": "stream",
          "name": "stdout",
          "text": [
            "[0, 1, 99, 76, 76, 54]\n"
          ]
        }
      ]
    },
    {
      "cell_type": "code",
      "source": [
        ""
      ],
      "metadata": {
        "id": "YjEjxVjnwiE_"
      },
      "execution_count": null,
      "outputs": []
    },
    {
      "cell_type": "markdown",
      "source": [
        "## Quiz"
      ],
      "metadata": {
        "id": "O4FivYkkxVH_"
      }
    },
    {
      "cell_type": "code",
      "source": [
        "user_values = [3, 5, 9]\n",
        "user_values[1] = user_values[1] + 1\n",
        "user_values[2] = user_values[2] + 2\n",
        "print(user_values)"
      ],
      "metadata": {
        "colab": {
          "base_uri": "https://localhost:8080/"
        },
        "id": "VEgaQGjAxVdj",
        "outputId": "d07c77c9-09d1-4b82-d090-fa6db5a3d655"
      },
      "execution_count": null,
      "outputs": [
        {
          "output_type": "stream",
          "name": "stdout",
          "text": [
            "[3, 6, 11]\n"
          ]
        }
      ]
    },
    {
      "cell_type": "code",
      "source": [
        "user_values = [1, 6, 8]\n",
        "user_values[1] = user_values[0]\n",
        "\n",
        "print(user_values)"
      ],
      "metadata": {
        "colab": {
          "base_uri": "https://localhost:8080/"
        },
        "id": "B1cOviPkxZcd",
        "outputId": "b10a843e-5096-44a9-890d-2de4528601ec"
      },
      "execution_count": null,
      "outputs": [
        {
          "output_type": "stream",
          "name": "stdout",
          "text": [
            "[1, 1, 8]\n"
          ]
        }
      ]
    },
    {
      "cell_type": "code",
      "source": [
        "user_values = [3, 6, 7]\n",
        "user_values[1] = user_values[2]\n",
        "user_values[2] = user_values[0]\n",
        "\n",
        "print(user_values)"
      ],
      "metadata": {
        "id": "OOor89tyx6Lw"
      },
      "execution_count": null,
      "outputs": []
    },
    {
      "cell_type": "code",
      "source": [
        "user_values = [2, 5, 9]\n",
        "user_values[2] = user_values[2] + 1\n",
        "\n",
        "print(user_values)"
      ],
      "metadata": {
        "colab": {
          "base_uri": "https://localhost:8080/"
        },
        "id": "yDqmnC6C0B5Z",
        "outputId": "5189fdc2-e81c-4b9f-e39f-64d2304c172c"
      },
      "execution_count": null,
      "outputs": [
        {
          "output_type": "stream",
          "name": "stdout",
          "text": [
            "[2, 5, 10]\n"
          ]
        }
      ]
    },
    {
      "cell_type": "code",
      "source": [
        ""
      ],
      "metadata": {
        "id": "wdnOXsf90WwY"
      },
      "execution_count": null,
      "outputs": []
    },
    {
      "cell_type": "markdown",
      "source": [
        "## Problem Solving"
      ],
      "metadata": {
        "id": "uraO2dGM0Zq6"
      }
    },
    {
      "cell_type": "code",
      "source": [
        "runs = [0, 1, 55, 67, 99, 120, 200, 99]\n",
        "\n",
        "def search(runs, target = 99):\n",
        "  for i in range(len(runs)):\n",
        "    if runs[i] == target:\n",
        "      print(\"FOUND\")\n",
        "      return i\n",
        "  print('Loop is over')\n",
        "  return \"NOT FOUND!\"\n"
      ],
      "metadata": {
        "id": "CkbUiBHI0akH"
      },
      "execution_count": null,
      "outputs": []
    },
    {
      "cell_type": "code",
      "source": [
        "res = search(runs, 99)\n",
        "print(res)"
      ],
      "metadata": {
        "colab": {
          "base_uri": "https://localhost:8080/"
        },
        "id": "Phm647ch5rPf",
        "outputId": "7d43c372-bc84-4f7d-8f2a-48c1ea3395f3"
      },
      "execution_count": null,
      "outputs": [
        {
          "output_type": "stream",
          "name": "stdout",
          "text": [
            "FOUND\n",
            "4\n"
          ]
        }
      ]
    },
    {
      "cell_type": "code",
      "source": [
        "res = search(runs, 200)\n",
        "print(res)"
      ],
      "metadata": {
        "colab": {
          "base_uri": "https://localhost:8080/"
        },
        "id": "dusAIhsy5x0X",
        "outputId": "72c52700-fdd6-4b5d-b94d-d2174827f5e0"
      },
      "execution_count": null,
      "outputs": [
        {
          "output_type": "stream",
          "name": "stdout",
          "text": [
            "FOUND\n",
            "6\n"
          ]
        }
      ]
    },
    {
      "cell_type": "code",
      "source": [
        "res = search(runs, 111)\n",
        "print(res)"
      ],
      "metadata": {
        "colab": {
          "base_uri": "https://localhost:8080/"
        },
        "id": "_AnQX_Y_6yAj",
        "outputId": "dd90adf1-42fe-4796-8e1e-c16c24dfbe10"
      },
      "execution_count": null,
      "outputs": [
        {
          "output_type": "stream",
          "name": "stdout",
          "text": [
            "Loop is over\n",
            "NOT FOUND!\n"
          ]
        }
      ]
    },
    {
      "cell_type": "code",
      "source": [
        ""
      ],
      "metadata": {
        "id": "_Y4WypxX60Rd"
      },
      "execution_count": null,
      "outputs": []
    },
    {
      "cell_type": "markdown",
      "source": [
        "## Count"
      ],
      "metadata": {
        "id": "y2SjQJRi9HUA"
      }
    },
    {
      "cell_type": "code",
      "source": [
        "runs = [0, 1, 55, 67, 99, 120, 200, 99]\n",
        "\n",
        "def count_occurrences(runs, target = 99):\n",
        "  cnt = 0\n",
        "  for i in range(len(runs)):\n",
        "    if runs[i] == target:\n",
        "      cnt += 1\n",
        "  print('Loop done')\n",
        "  return cnt\n",
        "\n",
        "\n"
      ],
      "metadata": {
        "id": "DXMb8Y-o9H7m"
      },
      "execution_count": null,
      "outputs": []
    },
    {
      "cell_type": "code",
      "source": [
        "res = count_occurrences(runs)"
      ],
      "metadata": {
        "colab": {
          "base_uri": "https://localhost:8080/"
        },
        "id": "oES2n1189Y7G",
        "outputId": "89dbbeeb-5b1e-44a0-aabb-714c48ea0efb"
      },
      "execution_count": null,
      "outputs": [
        {
          "output_type": "stream",
          "name": "stdout",
          "text": [
            "Loop done\n"
          ]
        }
      ]
    },
    {
      "cell_type": "code",
      "source": [
        "print(res)"
      ],
      "metadata": {
        "colab": {
          "base_uri": "https://localhost:8080/"
        },
        "id": "pg7xkMcH9jfd",
        "outputId": "85dce48e-96fe-4855-b2b3-c6efcb38901b"
      },
      "execution_count": null,
      "outputs": [
        {
          "output_type": "stream",
          "name": "stdout",
          "text": [
            "2\n"
          ]
        }
      ]
    },
    {
      "cell_type": "code",
      "source": [
        ""
      ],
      "metadata": {
        "id": "wwQoXryE9kww"
      },
      "execution_count": null,
      "outputs": []
    },
    {
      "cell_type": "markdown",
      "source": [
        "## Maximum"
      ],
      "metadata": {
        "id": "PWMRQTfJ-YXv"
      }
    },
    {
      "cell_type": "code",
      "source": [
        "runs = [0, 99, 1, 99, 23, 99, 98, 100, 200]\n"
      ],
      "metadata": {
        "id": "pkpMFbiv-Y_C"
      },
      "execution_count": null,
      "outputs": []
    },
    {
      "cell_type": "code",
      "source": [
        "\n",
        "def find_maximum(my_list):\n",
        "  # handle the error for empty list\n",
        "  if len(my_list) == 0:\n",
        "    return None\n",
        "\n",
        "  maxi = my_list[0]\n",
        "\n",
        "  for i in my_list:\n",
        "    if i > maxi:\n",
        "      maxi = i\n",
        "  \n",
        "  return maxi\n",
        "  \n",
        "\n"
      ],
      "metadata": {
        "id": "9o_JjQ3y-ZOd"
      },
      "execution_count": null,
      "outputs": []
    },
    {
      "cell_type": "code",
      "source": [
        "res = find_maximum(runs)\n",
        "print(res)"
      ],
      "metadata": {
        "colab": {
          "base_uri": "https://localhost:8080/"
        },
        "id": "sYzmq2_TEbf8",
        "outputId": "b948a1d9-f226-4aeb-ba89-4b4b69c122fc"
      },
      "execution_count": null,
      "outputs": [
        {
          "output_type": "stream",
          "name": "stdout",
          "text": [
            "200\n"
          ]
        }
      ]
    },
    {
      "cell_type": "code",
      "source": [
        "exam_scores = [-100, 0, 200, 300, 255]\n",
        "\n",
        "print(find_maximum(exam_scores))"
      ],
      "metadata": {
        "colab": {
          "base_uri": "https://localhost:8080/"
        },
        "id": "BYjnDLgFEcs1",
        "outputId": "d4da050a-39c4-49df-ec35-501a9cb2f56b"
      },
      "execution_count": null,
      "outputs": [
        {
          "output_type": "stream",
          "name": "stdout",
          "text": [
            "300\n"
          ]
        }
      ]
    },
    {
      "cell_type": "code",
      "source": [
        "empty_list = [] # edge cases, null check\n",
        "\n",
        "print(find_maximum(empty_list))"
      ],
      "metadata": {
        "colab": {
          "base_uri": "https://localhost:8080/"
        },
        "id": "hEgm8z82E6dR",
        "outputId": "920185f8-ffbf-455f-8aee-02e3bd92aedd"
      },
      "execution_count": null,
      "outputs": [
        {
          "output_type": "stream",
          "name": "stdout",
          "text": [
            "None\n"
          ]
        }
      ]
    },
    {
      "cell_type": "code",
      "source": [
        "print(find_maximum([-1, -2, -5, -3, -4, -5, -6, -7 ,-100]))"
      ],
      "metadata": {
        "colab": {
          "base_uri": "https://localhost:8080/"
        },
        "id": "zFp4xMVJGFaH",
        "outputId": "a3ad3ae5-53eb-4cea-f025-a6f33e3966b8"
      },
      "execution_count": null,
      "outputs": [
        {
          "output_type": "stream",
          "name": "stdout",
          "text": [
            "0\n"
          ]
        }
      ]
    },
    {
      "cell_type": "code",
      "source": [
        ""
      ],
      "metadata": {
        "id": "NqiMJhMgG_p0"
      },
      "execution_count": null,
      "outputs": []
    },
    {
      "cell_type": "markdown",
      "source": [
        "## Doubts"
      ],
      "metadata": {
        "id": "DJ40-sY5JNm_"
      }
    },
    {
      "cell_type": "code",
      "source": [
        "a, b = 3,4"
      ],
      "metadata": {
        "id": "8D-F1xURJOPA"
      },
      "execution_count": null,
      "outputs": []
    },
    {
      "cell_type": "code",
      "source": [
        "def find_maximum(my_list):\n",
        "  if len(my_list) == 0:\n",
        "    return None\n",
        "  maxi = my_list[0]\n",
        "  for i in my_list:\n",
        "    if i > maxi:\n",
        "      maxi = i\n",
        "  return maxi\n",
        "  \n",
        "exam = [100, 0, 200, 300, 255]\n",
        "print(find_maximum(exam))"
      ],
      "metadata": {
        "colab": {
          "base_uri": "https://localhost:8080/"
        },
        "id": "6F2BKwIGJPDK",
        "outputId": "396ed058-caa8-4710-e777-d3f6e7f4aa84"
      },
      "execution_count": null,
      "outputs": [
        {
          "output_type": "stream",
          "name": "stdout",
          "text": [
            "300\n"
          ]
        }
      ]
    },
    {
      "cell_type": "code",
      "source": [
        "range?"
      ],
      "metadata": {
        "id": "UPUMJxW7Jy9N"
      },
      "execution_count": null,
      "outputs": []
    },
    {
      "cell_type": "code",
      "source": [
        "len?"
      ],
      "metadata": {
        "id": "i2OM4xY1J4dX"
      },
      "execution_count": null,
      "outputs": []
    },
    {
      "cell_type": "code",
      "source": [
        "l = [1, 2, 3, 4, 5]\n",
        "print(type(l))"
      ],
      "metadata": {
        "colab": {
          "base_uri": "https://localhost:8080/"
        },
        "id": "3VP_t9IAJ9bs",
        "outputId": "c9d849aa-7141-4ce1-b151-4a42c1e18b84"
      },
      "execution_count": null,
      "outputs": [
        {
          "output_type": "stream",
          "name": "stdout",
          "text": [
            "<class 'list'>\n"
          ]
        }
      ]
    },
    {
      "cell_type": "code",
      "source": [
        "l = [1, 1, 1, 4, 3]"
      ],
      "metadata": {
        "id": "jR0GODRKKDJu"
      },
      "execution_count": null,
      "outputs": []
    },
    {
      "cell_type": "code",
      "source": [
        "l[4] = l[3]"
      ],
      "metadata": {
        "id": "k4-eWiNyLPv0"
      },
      "execution_count": null,
      "outputs": []
    },
    {
      "cell_type": "code",
      "source": [
        "print(l)"
      ],
      "metadata": {
        "colab": {
          "base_uri": "https://localhost:8080/"
        },
        "id": "11SLCsx0Ljoq",
        "outputId": "ac782f7a-abc7-49b0-9b0e-84eb3bcf32b9"
      },
      "execution_count": null,
      "outputs": [
        {
          "output_type": "stream",
          "name": "stdout",
          "text": [
            "[1, 1, 1, 4, 4]\n"
          ]
        }
      ]
    },
    {
      "cell_type": "code",
      "source": [
        "print(l[-1])"
      ],
      "metadata": {
        "colab": {
          "base_uri": "https://localhost:8080/"
        },
        "id": "ZBQ8xCxGLlb5",
        "outputId": "2cb8320e-5914-4f23-e1cc-16dc026b86c7"
      },
      "execution_count": null,
      "outputs": [
        {
          "output_type": "stream",
          "name": "stdout",
          "text": [
            "4\n"
          ]
        }
      ]
    },
    {
      "cell_type": "code",
      "source": [
        "runs = [0, 1, 55, 67, 99, 120, 200, 99]\n",
        "\n",
        "def search(runs, target = 99):\n",
        "  for i in range(-1, -len(runs) - 1, -1):\n",
        "    # print(i)\n",
        "    if runs[i] == target:\n",
        "      print(\"FOUND\")\n",
        "      return i\n",
        "  print('Loop is over')\n",
        "  return \"NOT FOUND!\"\n"
      ],
      "metadata": {
        "id": "9SEmuIIiLp-T"
      },
      "execution_count": null,
      "outputs": []
    },
    {
      "cell_type": "code",
      "source": [
        "print(search(runs))"
      ],
      "metadata": {
        "colab": {
          "base_uri": "https://localhost:8080/"
        },
        "id": "amT-ZwpbMD5F",
        "outputId": "c2e927ce-9979-4e5c-abdf-43a7748178af"
      },
      "execution_count": null,
      "outputs": [
        {
          "output_type": "stream",
          "name": "stdout",
          "text": [
            "FOUND\n",
            "-1\n"
          ]
        }
      ]
    },
    {
      "cell_type": "code",
      "source": [
        "print(search(runs, 55))"
      ],
      "metadata": {
        "colab": {
          "base_uri": "https://localhost:8080/"
        },
        "id": "00M2tFNTMGyl",
        "outputId": "a7191cfa-19c6-4754-8625-b77f29bb09db"
      },
      "execution_count": null,
      "outputs": [
        {
          "output_type": "stream",
          "name": "stdout",
          "text": [
            "FOUND\n",
            "-6\n"
          ]
        }
      ]
    },
    {
      "cell_type": "code",
      "source": [
        "def create_list():\n",
        "  d = input()\n",
        "  x = d.split()\n",
        "  print(x)\n",
        "  res=[]\n",
        "  for i in x:\n",
        "    res.append(int(i))\n",
        "  return res\n",
        "\n",
        "\n",
        "x = create_list()\n",
        "print(x)\n",
        "\n"
      ],
      "metadata": {
        "colab": {
          "base_uri": "https://localhost:8080/"
        },
        "id": "4wbIcZ5mMJp0",
        "outputId": "e5f5634d-0ee5-4fa7-f117-e8b81c2e2252"
      },
      "execution_count": null,
      "outputs": [
        {
          "output_type": "stream",
          "name": "stdout",
          "text": [
            "1 2 3 4 5\n",
            "['1', '2', '3', '4', '5']\n",
            "[1, 2, 3, 4, 5]\n"
          ]
        }
      ]
    },
    {
      "cell_type": "code",
      "source": [
        "def f(a, b):\n",
        "  return a + b\n",
        "\n",
        "x = f(3, 4)\n",
        "print(x)"
      ],
      "metadata": {
        "colab": {
          "base_uri": "https://localhost:8080/"
        },
        "id": "Cal4-dccNJB6",
        "outputId": "d4599513-ac65-4691-cf26-a322296596e0"
      },
      "execution_count": null,
      "outputs": [
        {
          "output_type": "stream",
          "name": "stdout",
          "text": [
            "7\n"
          ]
        }
      ]
    },
    {
      "cell_type": "code",
      "source": [
        "c = 3\n",
        "d = 4\n",
        "\n",
        "y = f(c, d)\n",
        "print(y)"
      ],
      "metadata": {
        "colab": {
          "base_uri": "https://localhost:8080/"
        },
        "id": "dPDlcf8qOV_1",
        "outputId": "de300a1c-a93e-4728-8c65-07a4370d44cb"
      },
      "execution_count": null,
      "outputs": [
        {
          "output_type": "stream",
          "name": "stdout",
          "text": [
            "7\n"
          ]
        }
      ]
    },
    {
      "cell_type": "code",
      "source": [
        ""
      ],
      "metadata": {
        "id": "PbG8lhl7OgE6"
      },
      "execution_count": null,
      "outputs": []
    }
  ]
}