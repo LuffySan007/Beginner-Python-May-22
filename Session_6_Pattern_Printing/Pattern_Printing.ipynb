{
  "nbformat": 4,
  "nbformat_minor": 0,
  "metadata": {
    "colab": {
      "name": "Pattern Printing.ipynb",
      "provenance": [],
      "collapsed_sections": []
    },
    "kernelspec": {
      "name": "python3",
      "display_name": "Python 3"
    },
    "language_info": {
      "name": "python"
    }
  },
  "cells": [
    {
      "cell_type": "markdown",
      "source": [
        "# Pattern Printing"
      ],
      "metadata": {
        "id": "6Igz_Y--Obc3"
      }
    },
    {
      "cell_type": "code",
      "source": [
        ""
      ],
      "metadata": {
        "id": "iQVsQ9wA0GWb"
      },
      "execution_count": null,
      "outputs": []
    },
    {
      "cell_type": "code",
      "execution_count": null,
      "metadata": {
        "colab": {
          "base_uri": "https://localhost:8080/"
        },
        "id": "Gg_k7QEwN-hk",
        "outputId": "90225d21-3e7f-41f4-e478-abd6f1035edb"
      },
      "outputs": [
        {
          "output_type": "stream",
          "name": "stdout",
          "text": [
            "*\n",
            "**\n",
            "***\n",
            "****\n",
            "*****\n",
            "******\n"
          ]
        }
      ],
      "source": [
        "N = 6\n",
        "\n",
        "for r in range(1, N + 1):\n",
        "  # we need to print * r times over here\n",
        "  for c in range(r):\n",
        "    print('*', end='')\n",
        "  print()"
      ]
    },
    {
      "cell_type": "code",
      "source": [
        ""
      ],
      "metadata": {
        "id": "B5vaimm6Ok_T"
      },
      "execution_count": null,
      "outputs": []
    },
    {
      "cell_type": "markdown",
      "source": [
        "## Pattern 2"
      ],
      "metadata": {
        "id": "msh0XDSyTWKm"
      }
    },
    {
      "cell_type": "code",
      "source": [
        ""
      ],
      "metadata": {
        "id": "zITKwcClTgjj"
      },
      "execution_count": null,
      "outputs": []
    },
    {
      "cell_type": "code",
      "source": [
        "N = 5\n",
        "\n",
        "for r in range(1, N + 1):\n",
        "  # we need to print * r times over here\n",
        "  for c in range(1, r + 1):\n",
        "    if c % 2 == 1:\n",
        "      print('*', end='')\n",
        "    else:\n",
        "      print(c, end='')\n",
        "  print()"
      ],
      "metadata": {
        "colab": {
          "base_uri": "https://localhost:8080/"
        },
        "id": "LLmL_6pzTW1X",
        "outputId": "45ebaf4f-545a-4b71-b444-fe7c8f1d4275"
      },
      "execution_count": null,
      "outputs": [
        {
          "output_type": "stream",
          "name": "stdout",
          "text": [
            "*\n",
            "*2\n",
            "*2*\n",
            "*2*4\n",
            "*2*4*\n"
          ]
        }
      ]
    },
    {
      "cell_type": "code",
      "source": [
        ""
      ],
      "metadata": {
        "id": "DpQVgPQtTm_J"
      },
      "execution_count": null,
      "outputs": []
    },
    {
      "cell_type": "markdown",
      "source": [
        "## Challenge 3"
      ],
      "metadata": {
        "id": "zVRNoXnSZnLb"
      }
    },
    {
      "cell_type": "code",
      "source": [
        "N = 5\n",
        "\n",
        "for r in range(1, N + 1):\n",
        "  # we need to print * (N - r + 1) times over here\n",
        "  # print(N - r + 1)\n",
        "  for c in range(N - r + 1):\n",
        "    print('*', end='')\n",
        "  print()"
      ],
      "metadata": {
        "colab": {
          "base_uri": "https://localhost:8080/"
        },
        "id": "5vtJfWv0Zn2L",
        "outputId": "ec4df541-e374-40f2-ed0f-29ffdc541011"
      },
      "execution_count": null,
      "outputs": [
        {
          "output_type": "stream",
          "name": "stdout",
          "text": [
            "*****\n",
            "****\n",
            "***\n",
            "**\n",
            "*\n"
          ]
        }
      ]
    },
    {
      "cell_type": "code",
      "source": [
        ""
      ],
      "metadata": {
        "id": "7dPFwoQiZsBE"
      },
      "execution_count": null,
      "outputs": []
    },
    {
      "cell_type": "markdown",
      "source": [
        "## Challenge 4: Pattern with Space"
      ],
      "metadata": {
        "id": "U2NirxKhfAbN"
      }
    },
    {
      "cell_type": "code",
      "source": [
        "N = 5\n",
        "\n",
        "for r in range(N):\n",
        "  print('*', end='')\n",
        "  for c in range(N - 1):\n",
        "    print(' ', end='')\n",
        "  print('*', end='')\n",
        "  print()"
      ],
      "metadata": {
        "colab": {
          "base_uri": "https://localhost:8080/"
        },
        "id": "_jYMRxSkfBqs",
        "outputId": "16a62f9b-ccb0-400f-f9d5-d9b9d3a1825f"
      },
      "execution_count": null,
      "outputs": [
        {
          "output_type": "stream",
          "name": "stdout",
          "text": [
            "*    *\n",
            "*    *\n",
            "*    *\n",
            "*    *\n",
            "*    *\n"
          ]
        }
      ]
    },
    {
      "cell_type": "code",
      "source": [
        ""
      ],
      "metadata": {
        "id": "J1HeaHSNfKV3"
      },
      "execution_count": null,
      "outputs": []
    },
    {
      "cell_type": "markdown",
      "source": [
        "## Challenge 5\n"
      ],
      "metadata": {
        "id": "JoCwgqRWiO70"
      }
    },
    {
      "cell_type": "code",
      "source": [
        "N = 10\n",
        "\n",
        "for r in range(1, N + 1):\n",
        "  # print (N - r) spaces\n",
        "  for c in range(N - r):\n",
        "    print(' ', end='')\n",
        "  # print r stars\n",
        "  for c in range(r):\n",
        "    print('*', end='')\n",
        "  # print a new line\n",
        "  print()"
      ],
      "metadata": {
        "colab": {
          "base_uri": "https://localhost:8080/"
        },
        "id": "yIRVDl0QiP3I",
        "outputId": "fdf7d5f5-0692-4466-b9ef-55556a7df418"
      },
      "execution_count": null,
      "outputs": [
        {
          "output_type": "stream",
          "name": "stdout",
          "text": [
            "         *\n",
            "        **\n",
            "       ***\n",
            "      ****\n",
            "     *****\n",
            "    ******\n",
            "   *******\n",
            "  ********\n",
            " *********\n",
            "**********\n"
          ]
        }
      ]
    },
    {
      "cell_type": "code",
      "source": [
        ""
      ],
      "metadata": {
        "id": "kIdJjN09iaKk"
      },
      "execution_count": null,
      "outputs": []
    },
    {
      "cell_type": "markdown",
      "source": [
        "## Challenge 6: Pyramid"
      ],
      "metadata": {
        "id": "JZbACDRqlpl2"
      }
    },
    {
      "cell_type": "code",
      "source": [
        "N = 10\n",
        "\n",
        "for r in range(1, N + 1):\n",
        "  # print (N - r) spaces\n",
        "  for c in range(N - r):\n",
        "    print(' ', end='')\n",
        "\n",
        "  # print (2*r - 1) stars\n",
        "  for c in range(2*r - 1):\n",
        "    print('*', end='')\n",
        "\n",
        "  # print (N - r) spaces\n",
        "  for c in range(N - r):\n",
        "    print(' ', end='')\n",
        "  \n",
        "  # print the new line\n",
        "  print()\n"
      ],
      "metadata": {
        "colab": {
          "base_uri": "https://localhost:8080/"
        },
        "id": "rFjkxbVrlqwZ",
        "outputId": "7ed4d69e-e759-4e1d-b4e0-c88c6f8a98f5"
      },
      "execution_count": null,
      "outputs": [
        {
          "output_type": "stream",
          "name": "stdout",
          "text": [
            "         *         \n",
            "        ***        \n",
            "       *****       \n",
            "      *******      \n",
            "     *********     \n",
            "    ***********    \n",
            "   *************   \n",
            "  ***************  \n",
            " ***************** \n",
            "*******************\n"
          ]
        }
      ]
    },
    {
      "cell_type": "markdown",
      "source": [
        "## Doubts"
      ],
      "metadata": {
        "id": "4v78DNSntT3m"
      }
    },
    {
      "cell_type": "code",
      "source": [
        "for i in range(5):\n",
        "  for j in range(3):\n",
        "    print('*', end=' ')\n",
        "  print()"
      ],
      "metadata": {
        "colab": {
          "base_uri": "https://localhost:8080/"
        },
        "id": "tb90XBmwr-sY",
        "outputId": "c68c86a9-c672-47c5-e274-b5451afa7967"
      },
      "execution_count": null,
      "outputs": [
        {
          "output_type": "stream",
          "name": "stdout",
          "text": [
            "* * * \n",
            "* * * \n",
            "* * * \n",
            "* * * \n",
            "* * * \n"
          ]
        }
      ]
    },
    {
      "cell_type": "code",
      "source": [
        "for i in range(5):\n",
        "  for j in range(3):\n",
        "    if j != 2:\n",
        "      # end is a space, for all except last\n",
        "      print('*', end=' ')\n",
        "    else:\n",
        "      # j == 3\n",
        "      # end is not a space, empty, for the last iteration\n",
        "      print('*',end='')\n",
        "  print()"
      ],
      "metadata": {
        "colab": {
          "base_uri": "https://localhost:8080/"
        },
        "id": "vpKlP2nJrk3_",
        "outputId": "d561308f-9863-4f27-b725-4256116e9bab"
      },
      "execution_count": null,
      "outputs": [
        {
          "output_type": "stream",
          "name": "stdout",
          "text": [
            "* * *\n",
            "* * *\n",
            "* * *\n",
            "* * *\n",
            "* * *\n"
          ]
        }
      ]
    },
    {
      "cell_type": "code",
      "source": [
        "N = 6\n",
        "\n",
        "for r in range(1, N + 1):\n",
        "  # we need to print * r times over here\n",
        "  # for c in range(r):\n",
        "  #   print('*', end='')\n",
        "  print('*' * r)"
      ],
      "metadata": {
        "id": "9Y3WWq9ultdb",
        "colab": {
          "base_uri": "https://localhost:8080/"
        },
        "outputId": "29d85959-baaf-4601-cfc2-fd0e1ae10593"
      },
      "execution_count": null,
      "outputs": [
        {
          "output_type": "stream",
          "name": "stdout",
          "text": [
            "*\n",
            "**\n",
            "***\n",
            "****\n",
            "*****\n",
            "******\n"
          ]
        }
      ]
    },
    {
      "cell_type": "code",
      "source": [
        "print(\"Hello world\", end='+abc')"
      ],
      "metadata": {
        "colab": {
          "base_uri": "https://localhost:8080/"
        },
        "id": "Vq-BW-dRsc7I",
        "outputId": "07698213-c3df-44d8-8161-df2b47cb1c5b"
      },
      "execution_count": null,
      "outputs": [
        {
          "output_type": "stream",
          "name": "stdout",
          "text": [
            "Hello world+abc"
          ]
        }
      ]
    },
    {
      "cell_type": "code",
      "source": [
        "a= 3\n",
        "print(a)"
      ],
      "metadata": {
        "colab": {
          "base_uri": "https://localhost:8080/"
        },
        "id": "HJtnYdrBtft8",
        "outputId": "04388ac3-769b-48b6-9270-d7d1b6e50274"
      },
      "execution_count": null,
      "outputs": [
        {
          "output_type": "stream",
          "name": "stdout",
          "text": [
            "3\n"
          ]
        }
      ]
    },
    {
      "cell_type": "code",
      "source": [
        ""
      ],
      "metadata": {
        "id": "TuPlnq5ztuVq"
      },
      "execution_count": null,
      "outputs": []
    }
  ]
}