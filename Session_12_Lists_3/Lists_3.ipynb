{
  "nbformat": 4,
  "nbformat_minor": 0,
  "metadata": {
    "colab": {
      "name": "Lists - 3.ipynb",
      "provenance": []
    },
    "kernelspec": {
      "name": "python3",
      "display_name": "Python 3"
    },
    "language_info": {
      "name": "python"
    }
  },
  "cells": [
    {
      "cell_type": "code",
      "source": [
        ""
      ],
      "metadata": {
        "id": "fySSjC1g26Da"
      },
      "execution_count": null,
      "outputs": []
    },
    {
      "cell_type": "markdown",
      "source": [
        "## List Inbuilt Functions"
      ],
      "metadata": {
        "id": "AhEwi5KA9xln"
      }
    },
    {
      "cell_type": "code",
      "source": [
        "# max\n",
        "# count\n",
        "# searching => finding idx of first index"
      ],
      "metadata": {
        "id": "QAYHevwv9ylj"
      },
      "execution_count": null,
      "outputs": []
    },
    {
      "cell_type": "markdown",
      "source": [
        "### Max, Min, Sum"
      ],
      "metadata": {
        "id": "rPUBCw0Y-5Ko"
      }
    },
    {
      "cell_type": "code",
      "source": [
        "l = [4, 5, 2, 1, -1, 3]"
      ],
      "metadata": {
        "id": "S-9xozvI99XD"
      },
      "execution_count": null,
      "outputs": []
    },
    {
      "cell_type": "code",
      "source": [
        "x = max(l)\n",
        "print(x)"
      ],
      "metadata": {
        "colab": {
          "base_uri": "https://localhost:8080/"
        },
        "id": "aQuuKFL--Hv5",
        "outputId": "c51ea7cb-6485-43e5-a1d1-79714bbab7d1"
      },
      "execution_count": null,
      "outputs": [
        {
          "output_type": "stream",
          "name": "stdout",
          "text": [
            "5\n"
          ]
        }
      ]
    },
    {
      "cell_type": "code",
      "source": [
        "y = min(l)\n",
        "print(y)"
      ],
      "metadata": {
        "colab": {
          "base_uri": "https://localhost:8080/"
        },
        "id": "e1uCD7u9-Osy",
        "outputId": "3d578f25-89dc-43c3-b2b2-52659469a89c"
      },
      "execution_count": null,
      "outputs": [
        {
          "output_type": "stream",
          "name": "stdout",
          "text": [
            "-1\n"
          ]
        }
      ]
    },
    {
      "cell_type": "code",
      "source": [
        "z = sum(l)\n",
        "print(z)"
      ],
      "metadata": {
        "colab": {
          "base_uri": "https://localhost:8080/"
        },
        "id": "ouGBCIIv-ob0",
        "outputId": "7e0a0f02-8cd9-4dd1-9d13-d18c2f9cbbc0"
      },
      "execution_count": null,
      "outputs": [
        {
          "output_type": "stream",
          "name": "stdout",
          "text": [
            "14\n"
          ]
        }
      ]
    },
    {
      "cell_type": "code",
      "source": [
        ""
      ],
      "metadata": {
        "id": "D-XE0wfN-rnh"
      },
      "execution_count": null,
      "outputs": []
    },
    {
      "cell_type": "markdown",
      "source": [
        "### Quiz - 1"
      ],
      "metadata": {
        "id": "1QoFmcBq-3gx"
      }
    },
    {
      "cell_type": "code",
      "source": [
        "nums = [12, 2, 1, 22, 23, 36]\n",
        "print(max(nums), end=' ')\n",
        "print(min(nums), end=' ')\n",
        "print(sum(nums), end=' ')"
      ],
      "metadata": {
        "colab": {
          "base_uri": "https://localhost:8080/"
        },
        "id": "x-viZ63q-4If",
        "outputId": "3982b374-bb02-4a60-fd5e-62281addcc54"
      },
      "execution_count": null,
      "outputs": [
        {
          "output_type": "stream",
          "name": "stdout",
          "text": [
            "36 1 96 "
          ]
        }
      ]
    },
    {
      "cell_type": "markdown",
      "source": [
        "## Search, Count"
      ],
      "metadata": {
        "id": "fa83Pvpj_Hha"
      }
    },
    {
      "cell_type": "code",
      "source": [
        "l = [4, 5, 2, 1, -1, 3]\n",
        "\n",
        "l2 = [1, 1, 1, 1, 11]"
      ],
      "metadata": {
        "id": "_Q2tr0Do_C3P"
      },
      "execution_count": null,
      "outputs": []
    },
    {
      "cell_type": "code",
      "source": [
        "x = l.count(5)\n",
        "y = l2.count(1)"
      ],
      "metadata": {
        "id": "c9Evk9WA_Mqw"
      },
      "execution_count": null,
      "outputs": []
    },
    {
      "cell_type": "code",
      "source": [
        "print(x)\n",
        "print(y)"
      ],
      "metadata": {
        "colab": {
          "base_uri": "https://localhost:8080/"
        },
        "id": "jEC0Rf3k_YAV",
        "outputId": "35f3ef86-4752-4bad-ce9c-ba4108a3b198"
      },
      "execution_count": null,
      "outputs": [
        {
          "output_type": "stream",
          "name": "stdout",
          "text": [
            "1\n",
            "4\n"
          ]
        }
      ]
    },
    {
      "cell_type": "code",
      "source": [
        "# y = count(l)"
      ],
      "metadata": {
        "id": "e1jK9A23_ZlG"
      },
      "execution_count": null,
      "outputs": []
    },
    {
      "cell_type": "code",
      "source": [
        "l = [1, 1, 1, 2, 2, 2, 3, 3]\n",
        "print(l.count(1))"
      ],
      "metadata": {
        "colab": {
          "base_uri": "https://localhost:8080/"
        },
        "id": "egKknNj-_b-1",
        "outputId": "e3dc8150-2715-42c8-e0ae-a15dbf41ea6e"
      },
      "execution_count": null,
      "outputs": [
        {
          "output_type": "stream",
          "name": "stdout",
          "text": [
            "3\n"
          ]
        }
      ]
    },
    {
      "cell_type": "code",
      "source": [
        "l = [4, 5, 2, 1, -1, 3]\n",
        "print(l.index(1))\n",
        "\n"
      ],
      "metadata": {
        "colab": {
          "base_uri": "https://localhost:8080/"
        },
        "id": "ikyKKf9IAO50",
        "outputId": "350d9ef2-c6cb-4bce-b7bc-1eb430ce1d47"
      },
      "execution_count": null,
      "outputs": [
        {
          "output_type": "stream",
          "name": "stdout",
          "text": [
            "3\n"
          ]
        }
      ]
    },
    {
      "cell_type": "code",
      "source": [
        "l = [4, 5, 2, 1, -1, 3, 1]\n",
        "print(l.index(1))\n",
        "\n"
      ],
      "metadata": {
        "colab": {
          "base_uri": "https://localhost:8080/"
        },
        "id": "IRSBq8UsAbbW",
        "outputId": "be22e0a4-4094-4f67-aebc-1c6919e94699"
      },
      "execution_count": null,
      "outputs": [
        {
          "output_type": "stream",
          "name": "stdout",
          "text": [
            "3\n"
          ]
        }
      ]
    },
    {
      "cell_type": "code",
      "source": [
        ""
      ],
      "metadata": {
        "id": "3WHf1UBRAe32"
      },
      "execution_count": null,
      "outputs": []
    },
    {
      "cell_type": "markdown",
      "source": [
        "### Quiz - 2"
      ],
      "metadata": {
        "id": "gH3cAkrqAk8D"
      }
    },
    {
      "cell_type": "code",
      "source": [
        "nums = [12, 2, 1, 22, 22, 23, 36]\n",
        "print(nums.count(4), end=' ')\n",
        "print(nums.count(22), end=' ')\n",
        "print(nums.index(1), end=' ')"
      ],
      "metadata": {
        "colab": {
          "base_uri": "https://localhost:8080/"
        },
        "id": "t2u6sltqAlWf",
        "outputId": "54244c7d-c768-48a8-8214-f28fe55f5a21"
      },
      "execution_count": null,
      "outputs": [
        {
          "output_type": "stream",
          "name": "stdout",
          "text": [
            "0 2 2 "
          ]
        }
      ]
    },
    {
      "cell_type": "code",
      "source": [
        "# x = nums.index(99) # exception handling\n",
        "# if the value is not present => error is thrown\n",
        "\n",
        "x = nums.count(99)\n",
        "print(x)\n",
        "# count = 0 => value not present"
      ],
      "metadata": {
        "colab": {
          "base_uri": "https://localhost:8080/"
        },
        "id": "AJsfqF8nA3eE",
        "outputId": "62e23518-c75e-41e9-c527-f65074ede4d9"
      },
      "execution_count": null,
      "outputs": [
        {
          "output_type": "stream",
          "name": "stdout",
          "text": [
            "0\n"
          ]
        }
      ]
    },
    {
      "cell_type": "code",
      "source": [
        "a = 3\n",
        "a += 2\n",
        "a -= -1\n",
        "a *= 2\n",
        "a == 5"
      ],
      "metadata": {
        "colab": {
          "base_uri": "https://localhost:8080/"
        },
        "id": "B2EegCvtBIRd",
        "outputId": "d6992c9e-7518-4ac2-a39a-07f8d572a982"
      },
      "execution_count": null,
      "outputs": [
        {
          "output_type": "execute_result",
          "data": {
            "text/plain": [
              "False"
            ]
          },
          "metadata": {},
          "execution_count": 49
        }
      ]
    },
    {
      "cell_type": "code",
      "source": [
        "for i in range(1, 5):\n",
        "  print(i, end=' ')"
      ],
      "metadata": {
        "colab": {
          "base_uri": "https://localhost:8080/"
        },
        "id": "6QxEDAwGBVC1",
        "outputId": "1b4309db-6915-4efc-d67d-f3a1bd5527d5"
      },
      "execution_count": null,
      "outputs": [
        {
          "output_type": "stream",
          "name": "stdout",
          "text": [
            "1 2 3 4 "
          ]
        }
      ]
    },
    {
      "cell_type": "code",
      "source": [
        "nums = [12, 2, 1, 22, 22, 23, 36]\n",
        "\n",
        "x =  12 in nums\n",
        "y = 13 in nums\n",
        "\n",
        "print(x)\n",
        "print(y)"
      ],
      "metadata": {
        "colab": {
          "base_uri": "https://localhost:8080/"
        },
        "id": "OasDQnORBgvd",
        "outputId": "cb1b9381-ccee-4bb4-97ee-aeb68063d7a1"
      },
      "execution_count": null,
      "outputs": [
        {
          "output_type": "stream",
          "name": "stdout",
          "text": [
            "True\n",
            "False\n"
          ]
        }
      ]
    },
    {
      "cell_type": "code",
      "source": [
        ""
      ],
      "metadata": {
        "id": "o7OPwRLRBq3H"
      },
      "execution_count": null,
      "outputs": []
    },
    {
      "cell_type": "markdown",
      "source": [
        "### Reversal of a list"
      ],
      "metadata": {
        "id": "2Do6bgIcB085"
      }
    },
    {
      "cell_type": "code",
      "source": [
        "l = [1, 2, 3, 4, 5]\n",
        "\n",
        "print(l[::-1]) # the concept of list slicing"
      ],
      "metadata": {
        "colab": {
          "base_uri": "https://localhost:8080/"
        },
        "id": "-aiCcZNFB2FH",
        "outputId": "33aff31c-7f46-4100-9107-df074427b757"
      },
      "execution_count": null,
      "outputs": [
        {
          "output_type": "stream",
          "name": "stdout",
          "text": [
            "[5, 4, 3, 2, 1]\n"
          ]
        }
      ]
    },
    {
      "cell_type": "code",
      "source": [
        ""
      ],
      "metadata": {
        "id": "HcphJitFCHib"
      },
      "execution_count": null,
      "outputs": []
    },
    {
      "cell_type": "markdown",
      "source": [
        "### Logical Approach (your own logic)"
      ],
      "metadata": {
        "id": "49Wkt3pzCRsD"
      }
    },
    {
      "cell_type": "code",
      "source": [
        "l = [99, 55, 67, 88, 23]\n",
        "\n",
        "res = []\n",
        "for i in range(len(l) - 1, -1, -1):\n",
        "  # print(i, end=' ')\n",
        "  print(l[i], end=' ')\n",
        "  res.append(l[i])\n",
        "\n",
        "print()\n",
        "print(res)"
      ],
      "metadata": {
        "colab": {
          "base_uri": "https://localhost:8080/"
        },
        "id": "wYJq-GTICT7A",
        "outputId": "770b9b88-e567-4f3e-c2fb-62265ee885e8"
      },
      "execution_count": null,
      "outputs": [
        {
          "output_type": "stream",
          "name": "stdout",
          "text": [
            "23 88 67 55 99 \n",
            "[23, 88, 67, 55, 99]\n"
          ]
        }
      ]
    },
    {
      "cell_type": "markdown",
      "source": [
        "### Inbuilt Function"
      ],
      "metadata": {
        "id": "yvhlNuwLD8Kl"
      }
    },
    {
      "cell_type": "code",
      "source": [
        "l = [4, 2, 3, 1, 5]\n",
        "l.reverse() # reverse the existing list l"
      ],
      "metadata": {
        "id": "7iTathTeDUDe"
      },
      "execution_count": null,
      "outputs": []
    },
    {
      "cell_type": "code",
      "source": [
        "print(l)"
      ],
      "metadata": {
        "colab": {
          "base_uri": "https://localhost:8080/"
        },
        "id": "x0bPU08oD9hB",
        "outputId": "9d86c54e-d2ae-454a-9e99-eb257b951081"
      },
      "execution_count": null,
      "outputs": [
        {
          "output_type": "stream",
          "name": "stdout",
          "text": [
            "[5, 1, 3, 2, 4]\n"
          ]
        }
      ]
    },
    {
      "cell_type": "code",
      "source": [
        ""
      ],
      "metadata": {
        "id": "kj-legoEEAJV"
      },
      "execution_count": null,
      "outputs": []
    },
    {
      "cell_type": "markdown",
      "source": [
        "### Quiz - 3"
      ],
      "metadata": {
        "id": "vHoldhkXEkn1"
      }
    },
    {
      "cell_type": "code",
      "source": [
        "l = [1, 2, 3, 4]\n",
        "l.reverse()\n",
        "l.append(5)\n",
        "print(l)\n"
      ],
      "metadata": {
        "colab": {
          "base_uri": "https://localhost:8080/"
        },
        "id": "5nNuOHL9Elfl",
        "outputId": "880ae48e-a02d-42f1-caa2-9ef0cd5e8348"
      },
      "execution_count": null,
      "outputs": [
        {
          "output_type": "stream",
          "name": "stdout",
          "text": [
            "[4, 3, 2, 1, 5]\n"
          ]
        }
      ]
    },
    {
      "cell_type": "code",
      "source": [
        ""
      ],
      "metadata": {
        "id": "tLDb7wruFCJ9"
      },
      "execution_count": null,
      "outputs": []
    },
    {
      "cell_type": "markdown",
      "source": [
        "### List Slicing"
      ],
      "metadata": {
        "id": "PuXx9zNfFHgl"
      }
    },
    {
      "cell_type": "code",
      "source": [
        "runs = [0, 1, 100, 99, 66, 87, 99, 100, 66]\n",
        "\n",
        "\n",
        "print(runs[:5])"
      ],
      "metadata": {
        "colab": {
          "base_uri": "https://localhost:8080/"
        },
        "id": "3HPofx6tFISI",
        "outputId": "54a8eadf-4652-49ea-a120-ef0612cc3d7b"
      },
      "execution_count": null,
      "outputs": [
        {
          "output_type": "stream",
          "name": "stdout",
          "text": [
            "[0, 1, 100, 99, 66]\n"
          ]
        }
      ]
    },
    {
      "cell_type": "code",
      "source": [
        "runs = [0, 1, 100, 99, 66, 87, 99, 100, 66]\n",
        "\n",
        "print(runs[-5:])"
      ],
      "metadata": {
        "colab": {
          "base_uri": "https://localhost:8080/"
        },
        "id": "036afvMlGeb-",
        "outputId": "ea83659e-183d-48da-c004-93b69d94d26e"
      },
      "execution_count": null,
      "outputs": [
        {
          "output_type": "stream",
          "name": "stdout",
          "text": [
            "[66, 87, 99, 100, 66]\n"
          ]
        }
      ]
    },
    {
      "cell_type": "code",
      "source": [
        ""
      ],
      "metadata": {
        "id": "FO1U9gDhG6e3"
      },
      "execution_count": null,
      "outputs": []
    },
    {
      "cell_type": "markdown",
      "source": [
        "### Quiz"
      ],
      "metadata": {
        "id": "7mf4oLmYHRbj"
      }
    },
    {
      "cell_type": "code",
      "source": [
        "nums = [1, 1, 2, 3, 5, 8, 13]\n",
        "print(nums[:5])"
      ],
      "metadata": {
        "colab": {
          "base_uri": "https://localhost:8080/"
        },
        "id": "QxzdzVrZHR7E",
        "outputId": "bbd14b6c-8278-47d8-fbfb-6e90ce9e1c86"
      },
      "execution_count": null,
      "outputs": [
        {
          "output_type": "stream",
          "name": "stdout",
          "text": [
            "[1, 1, 2, 3, 5]\n"
          ]
        }
      ]
    },
    {
      "cell_type": "code",
      "source": [
        "x = sum(nums[:5])\n",
        "print(x)"
      ],
      "metadata": {
        "colab": {
          "base_uri": "https://localhost:8080/"
        },
        "id": "T1S1O1ojHY2z",
        "outputId": "abf1de3c-2f33-47e6-91f6-eb56f5130fda"
      },
      "execution_count": null,
      "outputs": [
        {
          "output_type": "stream",
          "name": "stdout",
          "text": [
            "12\n"
          ]
        }
      ]
    },
    {
      "cell_type": "code",
      "source": [
        "x = max(nums[:5])\n",
        "print(x)"
      ],
      "metadata": {
        "colab": {
          "base_uri": "https://localhost:8080/"
        },
        "id": "VOz9suWgHjV5",
        "outputId": "16bcd72f-d530-4650-ce87-1641ef3b3ef7"
      },
      "execution_count": null,
      "outputs": [
        {
          "output_type": "stream",
          "name": "stdout",
          "text": [
            "5\n"
          ]
        }
      ]
    },
    {
      "cell_type": "code",
      "source": [
        "x = max(nums[:1])\n",
        "print(x)"
      ],
      "metadata": {
        "colab": {
          "base_uri": "https://localhost:8080/"
        },
        "id": "bjF5z9kpHpWe",
        "outputId": "3cb61935-6db4-4024-9931-79e107b9a3a8"
      },
      "execution_count": null,
      "outputs": [
        {
          "output_type": "stream",
          "name": "stdout",
          "text": [
            "1\n"
          ]
        }
      ]
    },
    {
      "cell_type": "code",
      "source": [
        "print(nums[:5])\n",
        "print(type(nums[:5]))"
      ],
      "metadata": {
        "colab": {
          "base_uri": "https://localhost:8080/"
        },
        "id": "3dXYD5ylHrKF",
        "outputId": "3e00c6c8-8dbe-4167-ac3b-7b5a77525bee"
      },
      "execution_count": null,
      "outputs": [
        {
          "output_type": "stream",
          "name": "stdout",
          "text": [
            "[1, 1, 2, 3, 5]\n",
            "<class 'list'>\n"
          ]
        }
      ]
    },
    {
      "cell_type": "code",
      "source": [
        "nums = [1, 1, 2, 3, 5, 8, 13]\n",
        "x = nums[:5]\n",
        "\n",
        "print(nums)\n",
        "print(x)"
      ],
      "metadata": {
        "colab": {
          "base_uri": "https://localhost:8080/"
        },
        "id": "YU_zn9ccHsPb",
        "outputId": "0de9aac2-fc97-4ada-cb8a-47a23b3a662b"
      },
      "execution_count": null,
      "outputs": [
        {
          "output_type": "stream",
          "name": "stdout",
          "text": [
            "[1, 1, 2, 3, 5, 8, 13]\n",
            "[1, 1, 2, 3, 5]\n"
          ]
        }
      ]
    },
    {
      "cell_type": "code",
      "source": [
        ""
      ],
      "metadata": {
        "id": "c0LugVXhIIed"
      },
      "execution_count": null,
      "outputs": []
    },
    {
      "cell_type": "markdown",
      "source": [
        "### Examples: First 5"
      ],
      "metadata": {
        "id": "uAQ_AlTmJjxq"
      }
    },
    {
      "cell_type": "code",
      "source": [
        "nums = [5, 1, 2, 7, 6, 3, 4]\n",
        "\n",
        "print(nums[0:5:1])"
      ],
      "metadata": {
        "colab": {
          "base_uri": "https://localhost:8080/"
        },
        "id": "ylQ4Hz7IJkiX",
        "outputId": "0d8b835a-e3a1-4841-9b0b-74d8d794e20d"
      },
      "execution_count": null,
      "outputs": [
        {
          "output_type": "stream",
          "name": "stdout",
          "text": [
            "[5, 1, 2, 7, 6]\n"
          ]
        }
      ]
    },
    {
      "cell_type": "code",
      "source": [
        "print(nums[0:5])"
      ],
      "metadata": {
        "colab": {
          "base_uri": "https://localhost:8080/"
        },
        "id": "iJ8aTv8pJpP9",
        "outputId": "29abd788-85d3-4868-a02f-4d75084488fc"
      },
      "execution_count": null,
      "outputs": [
        {
          "output_type": "stream",
          "name": "stdout",
          "text": [
            "[5, 1, 2, 7, 6]\n"
          ]
        }
      ]
    },
    {
      "cell_type": "code",
      "source": [
        "print(nums[:5])"
      ],
      "metadata": {
        "colab": {
          "base_uri": "https://localhost:8080/"
        },
        "id": "tWy4hwoNJ1X5",
        "outputId": "158842e4-3ac4-4029-bcff-b3b22a0be07d"
      },
      "execution_count": null,
      "outputs": [
        {
          "output_type": "stream",
          "name": "stdout",
          "text": [
            "[5, 1, 2, 7, 6]\n"
          ]
        }
      ]
    },
    {
      "cell_type": "code",
      "source": [
        ""
      ],
      "metadata": {
        "id": "W1_v7eqdKRxG"
      },
      "execution_count": null,
      "outputs": []
    },
    {
      "cell_type": "markdown",
      "source": [
        "### Examples: Last 5"
      ],
      "metadata": {
        "id": "E9k9c05aKTlS"
      }
    },
    {
      "cell_type": "code",
      "source": [
        "      # 0  1  2  3  4  5  6\n",
        "      # -7 -6 -5 -4 -3 -2 -1\n",
        "nums = [5, 1, 2, 7, 6, 3, 4]\n",
        "\n",
        "print(nums[-5:])"
      ],
      "metadata": {
        "colab": {
          "base_uri": "https://localhost:8080/"
        },
        "id": "LzAascgqKUmh",
        "outputId": "dab743fb-cf66-4b9f-8612-85c9499d4507"
      },
      "execution_count": null,
      "outputs": [
        {
          "output_type": "stream",
          "name": "stdout",
          "text": [
            "[2, 7, 6, 3, 4]\n"
          ]
        }
      ]
    },
    {
      "cell_type": "code",
      "source": [
        "print(list(range(-5, 0, 1)))\n",
        "\n",
        "print(nums[-5:0:1]) # why not giving the last 5 elements?\n",
        "\n",
        "print(nums[-5:-1:1])\n",
        "\n",
        "print(nums[-5:7:1])"
      ],
      "metadata": {
        "colab": {
          "base_uri": "https://localhost:8080/"
        },
        "id": "XmPhLUTJKV_o",
        "outputId": "b1837aaa-134e-476d-9737-d91aa64b50b9"
      },
      "execution_count": null,
      "outputs": [
        {
          "output_type": "stream",
          "name": "stdout",
          "text": [
            "[-5, -4, -3, -2, -1]\n",
            "[]\n",
            "[2, 7, 6, 3]\n",
            "[2, 7, 6, 3, 4]\n"
          ]
        }
      ]
    },
    {
      "cell_type": "code",
      "source": [
        "nums = [5, 1, 2, 7, 6, 3, 4]\n",
        "\n",
        "print(list(range(-5, 0)))\n",
        "print(nums[-5:0])\n",
        "\n",
        "print(nums[-5:len(nums)]) # len(nums) = 7, nums[-5:7]"
      ],
      "metadata": {
        "colab": {
          "base_uri": "https://localhost:8080/"
        },
        "id": "aApfwu4RK33-",
        "outputId": "f672b4af-431d-4568-c880-a6f66cff0ab3"
      },
      "execution_count": null,
      "outputs": [
        {
          "output_type": "stream",
          "name": "stdout",
          "text": [
            "[-5, -4, -3, -2, -1]\n",
            "[]\n",
            "[2, 7, 6, 3, 4]\n"
          ]
        }
      ]
    },
    {
      "cell_type": "code",
      "source": [
        "print(list(range(-5)))\n",
        "\n",
        "print(nums[-5:]) # end = length of the list, inc = +1"
      ],
      "metadata": {
        "colab": {
          "base_uri": "https://localhost:8080/"
        },
        "id": "haoBwUrqLd7h",
        "outputId": "696cb190-abdb-4adc-8137-8bff86a398a1"
      },
      "execution_count": null,
      "outputs": [
        {
          "output_type": "stream",
          "name": "stdout",
          "text": [
            "[]\n",
            "[2, 7, 6, 3, 4]\n"
          ]
        }
      ]
    },
    {
      "cell_type": "code",
      "source": [
        ""
      ],
      "metadata": {
        "id": "WZHAG-HXLexa"
      },
      "execution_count": null,
      "outputs": []
    },
    {
      "cell_type": "markdown",
      "source": [
        "### Quiz\n",
        "\n",
        "nums = [0, 25, 50, 75, 100]\n",
        "The result of evaluating nums[0:5:2] is [25, 75].\n"
      ],
      "metadata": {
        "id": "gxj6KN3WUBif"
      }
    },
    {
      "cell_type": "code",
      "source": [
        "nums = [0, 25, 50, 75, 100] \n",
        "\n",
        "print(nums[0:5:2])"
      ],
      "metadata": {
        "colab": {
          "base_uri": "https://localhost:8080/"
        },
        "id": "_JLXiv33UCI_",
        "outputId": "d9cb02e6-d3c0-4dcb-b7cb-17ee11e56be5"
      },
      "execution_count": null,
      "outputs": [
        {
          "output_type": "stream",
          "name": "stdout",
          "text": [
            "[0, 50, 100]\n"
          ]
        }
      ]
    },
    {
      "cell_type": "code",
      "source": [
        "print(nums[:5:2]) # default start = 0"
      ],
      "metadata": {
        "colab": {
          "base_uri": "https://localhost:8080/"
        },
        "id": "SV6LXIbxUFAB",
        "outputId": "a7af92a4-0705-4647-e8ee-5f6e77bae10e"
      },
      "execution_count": null,
      "outputs": [
        {
          "output_type": "stream",
          "name": "stdout",
          "text": [
            "[0, 50, 100]\n"
          ]
        }
      ]
    },
    {
      "cell_type": "code",
      "source": [
        "print(nums[::2]) # default start = 0, default end = len(l)"
      ],
      "metadata": {
        "colab": {
          "base_uri": "https://localhost:8080/"
        },
        "id": "xsnawz7fUQmD",
        "outputId": "5d0e6024-c9c2-4b2c-d100-2b6b0c57939b"
      },
      "execution_count": null,
      "outputs": [
        {
          "output_type": "stream",
          "name": "stdout",
          "text": [
            "[0, 50, 100]\n"
          ]
        }
      ]
    },
    {
      "cell_type": "code",
      "source": [
        "      # 0  1  2  3  4  5  6\n",
        "      # -7 -6 -5 -4 -3 -2 -1\n",
        "nums = [5, 1, 2, 7, 6, 3, 4]\n",
        "\n",
        "print(nums[::2]) "
      ],
      "metadata": {
        "colab": {
          "base_uri": "https://localhost:8080/"
        },
        "id": "Bh1w2IPDUURY",
        "outputId": "56f00504-c127-4c89-afcc-c89519e3ef81"
      },
      "execution_count": null,
      "outputs": [
        {
          "output_type": "stream",
          "name": "stdout",
          "text": [
            "[5, 2, 6, 4]\n"
          ]
        }
      ]
    },
    {
      "cell_type": "code",
      "source": [
        "      # 0  1  2  3  4  5  6\n",
        "      # -7 -6 -5 -4 -3 -2 -1\n",
        "nums = [5, 1, 2, 7, 6, 3, 4]\n",
        "\n",
        "print(nums[1:len(nums):2]) \n",
        "print(nums[1::2]) "
      ],
      "metadata": {
        "colab": {
          "base_uri": "https://localhost:8080/"
        },
        "id": "ok4vQUseUc1D",
        "outputId": "5dd0992a-7ab4-4ec4-b91e-c3eda6df209d"
      },
      "execution_count": null,
      "outputs": [
        {
          "output_type": "stream",
          "name": "stdout",
          "text": [
            "[1, 7, 3]\n",
            "[1, 7, 3]\n"
          ]
        }
      ]
    },
    {
      "cell_type": "code",
      "source": [
        ""
      ],
      "metadata": {
        "id": "LbZ67ZkoVSC8"
      },
      "execution_count": null,
      "outputs": []
    },
    {
      "cell_type": "markdown",
      "source": [
        "### Quiz"
      ],
      "metadata": {
        "id": "N9mW9FJCWCrw"
      }
    },
    {
      "cell_type": "code",
      "source": [
        "l = [1, 2, 3, 4, 5]\n",
        "\n",
        "print(l[0:-1])"
      ],
      "metadata": {
        "colab": {
          "base_uri": "https://localhost:8080/"
        },
        "id": "ERb7c6xzWDNC",
        "outputId": "2b2da50b-aaec-4841-8343-2b2997c8b9e4"
      },
      "execution_count": null,
      "outputs": [
        {
          "output_type": "stream",
          "name": "stdout",
          "text": [
            "[1, 2, 3, 4]\n"
          ]
        }
      ]
    },
    {
      "cell_type": "code",
      "source": [
        ""
      ],
      "metadata": {
        "id": "jMRxezGiWJD3"
      },
      "execution_count": null,
      "outputs": []
    },
    {
      "cell_type": "markdown",
      "source": [
        "### Rotate"
      ],
      "metadata": {
        "id": "EJWZYk9dXleJ"
      }
    },
    {
      "cell_type": "code",
      "source": [
        "l = [1, 2, 3, 4, 5, 6, 7, 8]\n",
        "\n",
        "print(l[:-1]) # all elements except 8\n",
        "\n",
        "print(l[-1:]) # get the last one element\n",
        "\n",
        "# print(l[-1]) # this is an integer\n",
        "print()\n",
        "\n",
        "print(l[-1:] + l[:-1])"
      ],
      "metadata": {
        "colab": {
          "base_uri": "https://localhost:8080/"
        },
        "id": "Nh5C_q56XmS8",
        "outputId": "471059a8-e39d-4b41-ebba-0b9e416809bb"
      },
      "execution_count": null,
      "outputs": [
        {
          "output_type": "stream",
          "name": "stdout",
          "text": [
            "[1, 2, 3, 4, 5, 6, 7]\n",
            "[8]\n",
            "\n",
            "[8, 1, 2, 3, 4, 5, 6, 7]\n"
          ]
        }
      ]
    },
    {
      "cell_type": "code",
      "source": [
        ""
      ],
      "metadata": {
        "id": "LlkTQDl0XpIa"
      },
      "execution_count": null,
      "outputs": []
    },
    {
      "cell_type": "code",
      "source": [
        "nums = [1, 2, 3]\n",
        "nums2 = [4, 5, 6]\n",
        "\n",
        "res = nums + nums2\n",
        "print(res)"
      ],
      "metadata": {
        "id": "9QavgyosYwKm",
        "colab": {
          "base_uri": "https://localhost:8080/"
        },
        "outputId": "b1dcbb7f-b918-42da-f761-ffddabadd5aa"
      },
      "execution_count": 122,
      "outputs": [
        {
          "output_type": "stream",
          "name": "stdout",
          "text": [
            "[1, 2, 3, 4, 5, 6]\n"
          ]
        }
      ]
    },
    {
      "cell_type": "code",
      "source": [
        "nums = [1, 2, 3] # bag having 3 items\n",
        "nums.append([4, 5]) # put another bag inside it\n",
        "print(nums)\n",
        "\n",
        "print(len(nums))"
      ],
      "metadata": {
        "colab": {
          "base_uri": "https://localhost:8080/"
        },
        "id": "A6fpst5-Y_HW",
        "outputId": "7af41bbe-085e-497b-9579-81f3b7306a29"
      },
      "execution_count": 125,
      "outputs": [
        {
          "output_type": "stream",
          "name": "stdout",
          "text": [
            "[1, 2, 3, [4, 5]]\n",
            "4\n"
          ]
        }
      ]
    },
    {
      "cell_type": "code",
      "source": [
        "print(nums[0])\n",
        "print(nums[1])\n",
        "print(nums[2])\n",
        "print(nums[3])"
      ],
      "metadata": {
        "colab": {
          "base_uri": "https://localhost:8080/"
        },
        "id": "u1SwebGDZC9P",
        "outputId": "8eb9cf48-20f2-423b-94ac-f81c3bbdc1f1"
      },
      "execution_count": 126,
      "outputs": [
        {
          "output_type": "stream",
          "name": "stdout",
          "text": [
            "1\n",
            "2\n",
            "3\n",
            "[4, 5]\n"
          ]
        }
      ]
    },
    {
      "cell_type": "code",
      "source": [
        "print(nums[3][0])\n",
        "print(nums[3][1])"
      ],
      "metadata": {
        "colab": {
          "base_uri": "https://localhost:8080/"
        },
        "id": "W5Ni6bVZailH",
        "outputId": "4fbbc6f6-7cff-47ef-9b29-f4648ad3bc09"
      },
      "execution_count": 127,
      "outputs": [
        {
          "output_type": "stream",
          "name": "stdout",
          "text": [
            "4\n",
            "5\n"
          ]
        }
      ]
    },
    {
      "cell_type": "markdown",
      "source": [
        "## 2d List"
      ],
      "metadata": {
        "id": "DPkv5ljJbR2a"
      }
    },
    {
      "cell_type": "code",
      "source": [
        "l = []\n",
        "l.append([1, 2, 3, 4])\n",
        "l.append([5, 6, 7, 9])\n",
        "l.append([9, 10, 11, 12])"
      ],
      "metadata": {
        "id": "kF_EXgpua9D1"
      },
      "execution_count": 132,
      "outputs": []
    },
    {
      "cell_type": "code",
      "source": [
        "print(l)"
      ],
      "metadata": {
        "colab": {
          "base_uri": "https://localhost:8080/"
        },
        "id": "GHXeb07KbW3l",
        "outputId": "86dfec57-a291-4509-a696-c3930948b0f3"
      },
      "execution_count": 133,
      "outputs": [
        {
          "output_type": "stream",
          "name": "stdout",
          "text": [
            "[[1, 2, 3, 4], [5, 6, 7, 9], [9, 10, 11, 12]]\n"
          ]
        }
      ]
    },
    {
      "cell_type": "code",
      "source": [
        ""
      ],
      "metadata": {
        "id": "w26-McZRbZCD"
      },
      "execution_count": null,
      "outputs": []
    },
    {
      "cell_type": "markdown",
      "source": [
        "### Quiz"
      ],
      "metadata": {
        "id": "k_CdF7iMcOOC"
      }
    },
    {
      "cell_type": "code",
      "source": [
        "l = [1, 2]\n",
        "l.append(0)\n",
        "l.append(3)\n",
        "l = l + [3]\n",
        "print(l)"
      ],
      "metadata": {
        "colab": {
          "base_uri": "https://localhost:8080/"
        },
        "id": "LraXSLHTcPFz",
        "outputId": "1e92bac4-4e88-492d-bc76-7ca0ef714596"
      },
      "execution_count": 134,
      "outputs": [
        {
          "output_type": "stream",
          "name": "stdout",
          "text": [
            "[1, 2, 0, 3, 3]\n"
          ]
        }
      ]
    },
    {
      "cell_type": "markdown",
      "source": [
        "### Extend"
      ],
      "metadata": {
        "id": "k48Vs0FYddyE"
      }
    },
    {
      "cell_type": "code",
      "source": [
        "## Extend: add one by one to the list\n",
        "\n",
        "nums = [1, 2, 3]\n",
        "nums.extend([4, 5])\n",
        "\n",
        "print(nums)"
      ],
      "metadata": {
        "colab": {
          "base_uri": "https://localhost:8080/"
        },
        "id": "oXtcxZhycUJP",
        "outputId": "d35dcc38-ec60-4637-c595-1c798bf2abe7"
      },
      "execution_count": 135,
      "outputs": [
        {
          "output_type": "stream",
          "name": "stdout",
          "text": [
            "[1, 2, 3, 4, 5]\n"
          ]
        }
      ]
    },
    {
      "cell_type": "markdown",
      "source": [
        "### Doubts"
      ],
      "metadata": {
        "id": "HFDgjvhFdjtN"
      }
    },
    {
      "cell_type": "code",
      "source": [
        "l = [1, 2, 3, [4, 5]] # reversing the entire list\n",
        "\n",
        "# res = [[5, 4], 3, 2, 1]\n",
        "res = l[::-1]"
      ],
      "metadata": {
        "id": "QD0s27codmQG"
      },
      "execution_count": 145,
      "outputs": []
    },
    {
      "cell_type": "code",
      "source": [
        "l = [1, 2, [3, [4, 5]], [6, 7], [8, 9]]\n",
        "\n",
        "# ans = [[9, 8], [7, 6], [[5, 4], 3], 2, 1]"
      ],
      "metadata": {
        "id": "fF_KW_G0d-qk"
      },
      "execution_count": null,
      "outputs": []
    },
    {
      "cell_type": "code",
      "source": [
        "nums = [1, 2, 3]\n",
        "print(nums[-1:len(nums):1])"
      ],
      "metadata": {
        "colab": {
          "base_uri": "https://localhost:8080/"
        },
        "id": "kGJLQIASfXWz",
        "outputId": "800a9769-8062-42fc-fa07-e6af83c0fb10"
      },
      "execution_count": 146,
      "outputs": [
        {
          "output_type": "stream",
          "name": "stdout",
          "text": [
            "[3]\n"
          ]
        }
      ]
    },
    {
      "cell_type": "code",
      "source": [
        ""
      ],
      "metadata": {
        "id": "aP79ErT2g6fh"
      },
      "execution_count": null,
      "outputs": []
    }
  ]
}