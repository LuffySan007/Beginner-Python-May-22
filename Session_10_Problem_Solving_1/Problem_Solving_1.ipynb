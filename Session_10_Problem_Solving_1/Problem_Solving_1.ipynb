{
  "nbformat": 4,
  "nbformat_minor": 0,
  "metadata": {
    "colab": {
      "name": "Problem Solving - 1.ipynb",
      "provenance": []
    },
    "kernelspec": {
      "name": "python3",
      "display_name": "Python 3"
    },
    "language_info": {
      "name": "python"
    }
  },
  "cells": [
    {
      "cell_type": "code",
      "execution_count": null,
      "metadata": {
        "id": "NzyrxrEgkNPA"
      },
      "outputs": [],
      "source": [
        "def solve(A):\n",
        "\n",
        "  res = 0\n",
        "  return res"
      ]
    },
    {
      "cell_type": "code",
      "source": [
        "print(solve(5)) # is already done for you in the test cases in scaler IDE\n",
        "\n",
        "# 5 is the input is also given in the test cases, you don't need to provide\n"
      ],
      "metadata": {
        "colab": {
          "base_uri": "https://localhost:8080/"
        },
        "id": "4qHZcbvUkSK8",
        "outputId": "0beeb6a8-2df6-45a5-8bb2-47fa5ad56b03"
      },
      "execution_count": null,
      "outputs": [
        {
          "output_type": "stream",
          "name": "stdout",
          "text": [
            "0\n"
          ]
        }
      ]
    },
    {
      "cell_type": "code",
      "source": [
        "def solve(A):\n",
        "  res = 0\n",
        "  \n",
        "  for i in range(1, A + 1):\n",
        "      if i % 2 == 0:\n",
        "          # print(i, end=' ')\n",
        "          res += i\n",
        "  \n",
        "  # print()\n",
        "\n",
        "  return res\n"
      ],
      "metadata": {
        "id": "FVFLvgDYkZwJ"
      },
      "execution_count": null,
      "outputs": []
    },
    {
      "cell_type": "code",
      "source": [
        "print(solve(8))"
      ],
      "metadata": {
        "colab": {
          "base_uri": "https://localhost:8080/"
        },
        "id": "ALte9toOnOtg",
        "outputId": "47ee25b2-db7c-45b2-b4e8-e381bec0f955"
      },
      "execution_count": null,
      "outputs": [
        {
          "output_type": "stream",
          "name": "stdout",
          "text": [
            "20\n"
          ]
        }
      ]
    },
    {
      "cell_type": "code",
      "source": [
        "x = input()"
      ],
      "metadata": {
        "colab": {
          "base_uri": "https://localhost:8080/"
        },
        "id": "e6sqsN6cnPV5",
        "outputId": "1b0d7e83-e4ed-43a6-9ab8-14720ef5950d"
      },
      "execution_count": null,
      "outputs": [
        {
          "name": "stdout",
          "output_type": "stream",
          "text": [
            "3 2\n"
          ]
        }
      ]
    },
    {
      "cell_type": "code",
      "source": [
        "print(x)"
      ],
      "metadata": {
        "colab": {
          "base_uri": "https://localhost:8080/"
        },
        "id": "lREYAdpsrnqp",
        "outputId": "e8a125ea-da12-4616-d18a-85df1fdeb186"
      },
      "execution_count": null,
      "outputs": [
        {
          "output_type": "stream",
          "name": "stdout",
          "text": [
            "3 2\n"
          ]
        }
      ]
    },
    {
      "cell_type": "markdown",
      "source": [
        ""
      ],
      "metadata": {
        "id": "R6EdHdtLrtm2"
      }
    },
    {
      "cell_type": "code",
      "source": [
        "print(int(x))"
      ],
      "metadata": {
        "colab": {
          "base_uri": "https://localhost:8080/",
          "height": 203
        },
        "id": "g025FBAPro7f",
        "outputId": "885e010e-50a4-453f-95c6-4c7091cb95c5"
      },
      "execution_count": null,
      "outputs": [
        {
          "output_type": "error",
          "ename": "ValueError",
          "evalue": "ignored",
          "traceback": [
            "\u001b[0;31m---------------------------------------------------------------------------\u001b[0m",
            "\u001b[0;31mValueError\u001b[0m                                Traceback (most recent call last)",
            "\u001b[0;32m<ipython-input-9-f2a5ef4cb5a1>\u001b[0m in \u001b[0;36m<module>\u001b[0;34m()\u001b[0m\n\u001b[0;32m----> 1\u001b[0;31m \u001b[0mprint\u001b[0m\u001b[0;34m(\u001b[0m\u001b[0mint\u001b[0m\u001b[0;34m(\u001b[0m\u001b[0mx\u001b[0m\u001b[0;34m)\u001b[0m\u001b[0;34m)\u001b[0m\u001b[0;34m\u001b[0m\u001b[0;34m\u001b[0m\u001b[0m\n\u001b[0m",
            "\u001b[0;31mValueError\u001b[0m: invalid literal for int() with base 10: '3 2'"
          ]
        }
      ]
    },
    {
      "cell_type": "code",
      "source": [
        "x = input() # read an entire line\n",
        "y = input()\n",
        "print(x)\n",
        "print(y)"
      ],
      "metadata": {
        "colab": {
          "base_uri": "https://localhost:8080/"
        },
        "id": "NbuXm0Nlrqj_",
        "outputId": "fb95bda4-7f36-4607-bba9-265a2facb3ba"
      },
      "execution_count": null,
      "outputs": [
        {
          "output_type": "stream",
          "name": "stdout",
          "text": [
            "3 4\n",
            "5 6\n",
            "3 4\n",
            "5 6\n"
          ]
        }
      ]
    },
    {
      "cell_type": "code",
      "source": [
        "N = input().split()"
      ],
      "metadata": {
        "colab": {
          "base_uri": "https://localhost:8080/"
        },
        "id": "d375MKoDsAiZ",
        "outputId": "b5df7821-76ac-4155-fe6a-6194c970ad20"
      },
      "execution_count": null,
      "outputs": [
        {
          "name": "stdout",
          "output_type": "stream",
          "text": [
            "3 2 4 5 6 7\n"
          ]
        }
      ]
    },
    {
      "cell_type": "code",
      "source": [
        "print(N)"
      ],
      "metadata": {
        "colab": {
          "base_uri": "https://localhost:8080/"
        },
        "id": "_L54JKT5sgY2",
        "outputId": "a087f92a-8f45-4e08-8212-ffacf1853562"
      },
      "execution_count": null,
      "outputs": [
        {
          "output_type": "stream",
          "name": "stdout",
          "text": [
            "['3', '2', '4', '5', '6', '7']\n"
          ]
        }
      ]
    },
    {
      "cell_type": "code",
      "source": [
        "N = int(input())"
      ],
      "metadata": {
        "colab": {
          "base_uri": "https://localhost:8080/"
        },
        "id": "QlJGrCq6si1S",
        "outputId": "4c9fe927-ddb7-4a7c-e869-27d4658185fb"
      },
      "execution_count": null,
      "outputs": [
        {
          "name": "stdout",
          "output_type": "stream",
          "text": [
            "3\n"
          ]
        }
      ]
    },
    {
      "cell_type": "code",
      "source": [
        "M = int(input())"
      ],
      "metadata": {
        "colab": {
          "base_uri": "https://localhost:8080/"
        },
        "id": "XzYvVNtJtgWp",
        "outputId": "8ed77ec7-ecfa-4ef5-845b-e36d59674065"
      },
      "execution_count": null,
      "outputs": [
        {
          "name": "stdout",
          "output_type": "stream",
          "text": [
            "5\n"
          ]
        }
      ]
    },
    {
      "cell_type": "code",
      "source": [
        ""
      ],
      "metadata": {
        "id": "-M4UFJF5thDz"
      },
      "execution_count": null,
      "outputs": []
    },
    {
      "cell_type": "markdown",
      "source": [
        "## Quiz"
      ],
      "metadata": {
        "id": "Bioom_Fft1pn"
      }
    },
    {
      "cell_type": "code",
      "source": [
        "x = input().split()"
      ],
      "metadata": {
        "colab": {
          "base_uri": "https://localhost:8080/"
        },
        "id": "TIJFPoAxt1-c",
        "outputId": "e1e590b6-82f0-41e4-9a00-fba10f4cab69"
      },
      "execution_count": null,
      "outputs": [
        {
          "name": "stdout",
          "output_type": "stream",
          "text": [
            "3 5\n"
          ]
        }
      ]
    },
    {
      "cell_type": "code",
      "source": [
        "print(x)"
      ],
      "metadata": {
        "colab": {
          "base_uri": "https://localhost:8080/"
        },
        "id": "IGMoChIXt2fn",
        "outputId": "59678e1f-6f37-40ff-9256-71a16b65a170"
      },
      "execution_count": null,
      "outputs": [
        {
          "output_type": "stream",
          "name": "stdout",
          "text": [
            "['3', '5']\n"
          ]
        }
      ]
    },
    {
      "cell_type": "code",
      "source": [
        "N, M = x[0], x[1] # option 1, multiple variable assignment\n",
        "\n",
        "print(N, type(N))\n",
        "print(M, type(M))"
      ],
      "metadata": {
        "colab": {
          "base_uri": "https://localhost:8080/"
        },
        "id": "1Vh41k9lt43L",
        "outputId": "b414ea1d-03c5-402f-d72c-bb596dad76d7"
      },
      "execution_count": null,
      "outputs": [
        {
          "output_type": "stream",
          "name": "stdout",
          "text": [
            "3 <class 'str'>\n",
            "5 <class 'str'>\n"
          ]
        }
      ]
    },
    {
      "cell_type": "code",
      "source": [
        "# N, M = int(x[0], x[1])"
      ],
      "metadata": {
        "id": "1JaSoFeKuAWg"
      },
      "execution_count": null,
      "outputs": []
    },
    {
      "cell_type": "code",
      "source": [
        "N = int(x[0])\n",
        "M = int(x[1])\n",
        "print(N, type(N))\n",
        "print(M, type(M))"
      ],
      "metadata": {
        "colab": {
          "base_uri": "https://localhost:8080/"
        },
        "id": "L2OfgD0xudoH",
        "outputId": "dfd80ac8-aa14-473c-ad4a-d0f3c0c540f3"
      },
      "execution_count": null,
      "outputs": [
        {
          "output_type": "stream",
          "name": "stdout",
          "text": [
            "3 <class 'int'>\n",
            "5 <class 'int'>\n"
          ]
        }
      ]
    },
    {
      "cell_type": "code",
      "source": [
        "## Solution"
      ],
      "metadata": {
        "id": "oyYoQgoxukIt"
      },
      "execution_count": null,
      "outputs": []
    },
    {
      "cell_type": "code",
      "source": [
        "x = input().split()\n",
        "\n",
        "N = int(x[0])\n",
        "M = int(x[1])\n",
        "\n",
        "for i in range(N): # outer loop for rows\n",
        "    for j in range(M): # inner loop for columns\n",
        "        print('*', end='')\n",
        "    print()\n",
        "\n"
      ],
      "metadata": {
        "colab": {
          "base_uri": "https://localhost:8080/"
        },
        "id": "Xfq4QocnvDsD",
        "outputId": "0eba3320-5c2a-40cc-b769-eb179987093a"
      },
      "execution_count": null,
      "outputs": [
        {
          "output_type": "stream",
          "name": "stdout",
          "text": [
            "3 5\n",
            "*****\n",
            "*****\n",
            "*****\n"
          ]
        }
      ]
    },
    {
      "cell_type": "code",
      "source": [
        ""
      ],
      "metadata": {
        "id": "vMlZ1thFvEAW"
      },
      "execution_count": null,
      "outputs": []
    },
    {
      "cell_type": "code",
      "source": [
        "N = int(input())\n",
        "\n",
        "for i in range(1, N + 1):\n",
        "    for j in range(N - i + 1):\n",
        "        print('*', end='')\n",
        "    for j in range(2*i - 2):\n",
        "        # print('_', end='')\n",
        "        print(' ', end='')\n",
        "    for j in range(N - i + 1):\n",
        "        print('*', end='')\n",
        "    print()\n",
        "\n",
        "\n",
        "for i in range(N - 1, 0, -1):\n",
        "    for j in range(N - i + 1):\n",
        "        print('*', end='')\n",
        "    for j in range(2*i - 2):\n",
        "        # print('_', end='')\n",
        "        print(' ', end='')\n",
        "    for j in range(N - i + 1):\n",
        "        print('*', end='')\n",
        "    print()\n",
        "\n"
      ],
      "metadata": {
        "colab": {
          "base_uri": "https://localhost:8080/"
        },
        "id": "mapqCY1L1RIx",
        "outputId": "8f6accbb-b868-4196-da18-a1a9ce0235f8"
      },
      "execution_count": null,
      "outputs": [
        {
          "output_type": "stream",
          "name": "stdout",
          "text": [
            "7\n",
            "**************\n",
            "******  ******\n",
            "*****    *****\n",
            "****      ****\n",
            "***        ***\n",
            "**          **\n",
            "*            *\n",
            "**          **\n",
            "***        ***\n",
            "****      ****\n",
            "*****    *****\n",
            "******  ******\n",
            "**************\n"
          ]
        }
      ]
    },
    {
      "cell_type": "code",
      "source": [
        ""
      ],
      "metadata": {
        "id": "JfcbsxZD1RdC"
      },
      "execution_count": null,
      "outputs": []
    },
    {
      "cell_type": "markdown",
      "source": [
        "## Multiple Inputs"
      ],
      "metadata": {
        "id": "6ES_3vcT5u1q"
      }
    },
    {
      "cell_type": "code",
      "source": [
        "\n",
        "T = int(input())\n",
        "\n",
        "# how many times input needs to be taken??\n",
        "\n",
        "for i in range(T):\n",
        "    x = int(input())\n",
        "    print(x)\n",
        "\n",
        "\n"
      ],
      "metadata": {
        "colab": {
          "base_uri": "https://localhost:8080/"
        },
        "id": "SoV9tm_H5wAO",
        "outputId": "09285e6d-d206-4ec7-9dd6-5c514132a7e5"
      },
      "execution_count": null,
      "outputs": [
        {
          "output_type": "stream",
          "name": "stdout",
          "text": [
            "4\n",
            "1\n",
            "1\n",
            "12\n",
            "12\n",
            "123\n",
            "123\n",
            "1234\n",
            "1234\n"
          ]
        }
      ]
    },
    {
      "cell_type": "code",
      "source": [
        "1"
      ],
      "metadata": {
        "id": "6YMVTp7C5wMk"
      },
      "execution_count": null,
      "outputs": []
    },
    {
      "cell_type": "markdown",
      "source": [
        "\n"
      ],
      "metadata": {
        "id": "de977RWd66yB"
      }
    },
    {
      "cell_type": "code",
      "source": [
        ""
      ],
      "metadata": {
        "id": "xILEtjyL69NU"
      },
      "execution_count": null,
      "outputs": []
    },
    {
      "cell_type": "code",
      "source": [
        "N = 673\n",
        "print(N/10)"
      ],
      "metadata": {
        "colab": {
          "base_uri": "https://localhost:8080/"
        },
        "id": "wEat-TiP69kF",
        "outputId": "bd73ec35-5194-4aec-d7e1-1297f221e10a"
      },
      "execution_count": null,
      "outputs": [
        {
          "output_type": "stream",
          "name": "stdout",
          "text": [
            "67.3\n"
          ]
        }
      ]
    },
    {
      "cell_type": "code",
      "source": [
        "print(N//10)"
      ],
      "metadata": {
        "colab": {
          "base_uri": "https://localhost:8080/"
        },
        "id": "SIJC8Frb6-64",
        "outputId": "33399449-ab0d-4800-ed03-b4c2a9819d20"
      },
      "execution_count": null,
      "outputs": [
        {
          "output_type": "stream",
          "name": "stdout",
          "text": [
            "67\n"
          ]
        }
      ]
    },
    {
      "cell_type": "code",
      "source": [
        "x = 673\n",
        "\n",
        "y = x\n",
        "\n",
        "while x > 0:\n",
        "    y = x\n",
        "    print(x)\n",
        "    x = x//10\n",
        "\n",
        "print(y)"
      ],
      "metadata": {
        "colab": {
          "base_uri": "https://localhost:8080/"
        },
        "id": "tXy2aqsl6_fY",
        "outputId": "974fb789-de5b-4371-e836-800fff542c27"
      },
      "execution_count": null,
      "outputs": [
        {
          "output_type": "stream",
          "name": "stdout",
          "text": [
            "673\n",
            "67\n",
            "6\n",
            "6\n"
          ]
        }
      ]
    },
    {
      "cell_type": "code",
      "source": [
        ""
      ],
      "metadata": {
        "id": "PfJV5Sj8-J9i"
      },
      "execution_count": null,
      "outputs": []
    },
    {
      "cell_type": "markdown",
      "source": [
        "# Code"
      ],
      "metadata": {
        "id": "hTUgmQGI-yZn"
      }
    },
    {
      "cell_type": "code",
      "source": [
        "\n",
        "def get_first_digit(x):\n",
        "    y = x\n",
        "    while x > 0:\n",
        "        y = x\n",
        "        x = x//10\n",
        "    return y\n",
        "\n",
        "def get_last_digit(x):\n",
        "    return x % 10\n",
        "\n",
        "T = int(input())\n",
        "\n",
        "# how many times input needs to be taken??\n",
        "\n",
        "for i in range(T):\n",
        "    x = int(input())\n",
        "    \n",
        "    # focus on finding the first digit of x\n",
        "    y = get_first_digit(x)\n",
        "    \n",
        "    z = get_last_digit(x)\n",
        "    print(y, z)\n",
        "\n"
      ],
      "metadata": {
        "id": "JcV60Pn0-zWq",
        "outputId": "1c8f0ab4-125e-41b8-b114-799f61d78266",
        "colab": {
          "base_uri": "https://localhost:8080/"
        }
      },
      "execution_count": null,
      "outputs": [
        {
          "output_type": "stream",
          "name": "stdout",
          "text": [
            "3\n",
            "1\n",
            "1 1\n",
            "4\n",
            "4 4\n",
            "4567\n",
            "4 7\n"
          ]
        }
      ]
    },
    {
      "cell_type": "code",
      "source": [
        ""
      ],
      "metadata": {
        "id": "5ASTgA0o-z3E"
      },
      "execution_count": null,
      "outputs": []
    }
  ]
}