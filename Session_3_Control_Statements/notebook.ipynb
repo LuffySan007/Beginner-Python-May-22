{
  "nbformat": 4,
  "nbformat_minor": 0,
  "metadata": {
    "colab": {
      "name": "Control Statements 2.ipynb",
      "provenance": [],
      "collapsed_sections": []
    },
    "kernelspec": {
      "name": "python3",
      "display_name": "Python 3"
    },
    "language_info": {
      "name": "python"
    }
  },
  "cells": [
    {
      "cell_type": "code",
      "execution_count": null,
      "metadata": {
        "colab": {
          "base_uri": "https://localhost:8080/"
        },
        "id": "QefS-afwMtTD",
        "outputId": "0bc134f3-af6b-4fd4-c7fe-6b6580a3669a"
      },
      "outputs": [
        {
          "output_type": "stream",
          "name": "stdout",
          "text": [
            "Hello world\n"
          ]
        }
      ],
      "source": [
        "print('Hello world')"
      ]
    },
    {
      "cell_type": "markdown",
      "source": [
        "## Challenge 1: Check if number is odd / even"
      ],
      "metadata": {
        "id": "i-qYDVgaOWCB"
      }
    },
    {
      "cell_type": "code",
      "source": [
        "n = int(input())\n",
        "print(n)\n",
        "\n",
        "rem = n % 2\n",
        "print(rem)\n",
        "\n",
        "if rem == 0:\n",
        "  print('Even')\n",
        "else:\n",
        "  print('Odd')"
      ],
      "metadata": {
        "colab": {
          "base_uri": "https://localhost:8080/"
        },
        "id": "3cts2MxjM34f",
        "outputId": "dbd960ae-bd88-4c6b-ec0b-082771c41710"
      },
      "execution_count": null,
      "outputs": [
        {
          "output_type": "stream",
          "name": "stdout",
          "text": [
            "5\n",
            "5\n",
            "1\n",
            "Odd\n"
          ]
        }
      ]
    },
    {
      "cell_type": "code",
      "source": [
        "  "
      ],
      "metadata": {
        "id": "qZ8LFFB2NX1l"
      },
      "execution_count": null,
      "outputs": []
    },
    {
      "cell_type": "markdown",
      "source": [
        "## Quizzes"
      ],
      "metadata": {
        "id": "4VCfzsJAOZEi"
      }
    },
    {
      "cell_type": "code",
      "source": [
        "int(9.7)"
      ],
      "metadata": {
        "colab": {
          "base_uri": "https://localhost:8080/"
        },
        "id": "AT4ZdCpfOZsU",
        "outputId": "bc9fe30d-56db-4995-cbf2-374ee398fc76"
      },
      "execution_count": null,
      "outputs": [
        {
          "output_type": "execute_result",
          "data": {
            "text/plain": [
              "9"
            ]
          },
          "metadata": {},
          "execution_count": 17
        }
      ]
    },
    {
      "cell_type": "code",
      "source": [
        "int(-1.37)"
      ],
      "metadata": {
        "colab": {
          "base_uri": "https://localhost:8080/"
        },
        "id": "4LjW07RMOywT",
        "outputId": "9fb992e1-2814-4a78-d8d1-eb6b6419ed6b"
      },
      "execution_count": null,
      "outputs": [
        {
          "output_type": "execute_result",
          "data": {
            "text/plain": [
              "-1"
            ]
          },
          "metadata": {},
          "execution_count": 18
        }
      ]
    },
    {
      "cell_type": "code",
      "source": [
        "int('3')"
      ],
      "metadata": {
        "colab": {
          "base_uri": "https://localhost:8080/"
        },
        "id": "ILFD7A2aO0cV",
        "outputId": "9f1afc6b-5b14-4a97-8b32-8a2996c46e9a"
      },
      "execution_count": null,
      "outputs": [
        {
          "output_type": "execute_result",
          "data": {
            "text/plain": [
              "3"
            ]
          },
          "metadata": {},
          "execution_count": 19
        }
      ]
    },
    {
      "cell_type": "code",
      "source": [
        "print(\"hello world\" == \"hello world\") # they are equal"
      ],
      "metadata": {
        "colab": {
          "base_uri": "https://localhost:8080/"
        },
        "id": "DlcsVoVfO2iC",
        "outputId": "a5507f69-a01c-4e55-c6bb-2f52bd91c78a"
      },
      "execution_count": null,
      "outputs": [
        {
          "output_type": "stream",
          "name": "stdout",
          "text": [
            "True\n"
          ]
        }
      ]
    },
    {
      "cell_type": "code",
      "source": [
        "print(\"hello world\" != \"hello world\") # they are equal, that is why not equal gives false"
      ],
      "metadata": {
        "colab": {
          "base_uri": "https://localhost:8080/"
        },
        "id": "ZfR9CVDePMNv",
        "outputId": "f633b570-bc5e-4d81-898c-6dbf8b0d57e1"
      },
      "execution_count": null,
      "outputs": [
        {
          "output_type": "stream",
          "name": "stdout",
          "text": [
            "False\n"
          ]
        }
      ]
    },
    {
      "cell_type": "code",
      "source": [
        "print(\"hello world\" == \"hello World\") # they are not equal"
      ],
      "metadata": {
        "colab": {
          "base_uri": "https://localhost:8080/"
        },
        "id": "sAN7qKuVPVlt",
        "outputId": "76dd9224-23f0-4a05-d663-a2016e3b6ee2"
      },
      "execution_count": null,
      "outputs": [
        {
          "output_type": "stream",
          "name": "stdout",
          "text": [
            "False\n"
          ]
        }
      ]
    },
    {
      "cell_type": "code",
      "source": [
        "print(\"hello world\" != \"hello World\") # they are not equal"
      ],
      "metadata": {
        "colab": {
          "base_uri": "https://localhost:8080/"
        },
        "id": "zxAbSuvYPWL9",
        "outputId": "08369c00-3466-4a94-8217-3a5ed878c2d3"
      },
      "execution_count": null,
      "outputs": [
        {
          "output_type": "stream",
          "name": "stdout",
          "text": [
            "True\n"
          ]
        }
      ]
    },
    {
      "cell_type": "code",
      "source": [
        ""
      ],
      "metadata": {
        "id": "98aM3ORnPiNc"
      },
      "execution_count": null,
      "outputs": []
    },
    {
      "cell_type": "markdown",
      "source": [
        "## Quiz - 3\n"
      ],
      "metadata": {
        "id": "2oJi6weFP_S0"
      }
    },
    {
      "cell_type": "code",
      "source": [
        "print(True or False)"
      ],
      "metadata": {
        "colab": {
          "base_uri": "https://localhost:8080/"
        },
        "id": "GMA9m9z2Ws-B",
        "outputId": "73d8677e-0709-41c8-deaa-e8d89bae2e9f"
      },
      "execution_count": null,
      "outputs": [
        {
          "output_type": "stream",
          "name": "stdout",
          "text": [
            "True\n"
          ]
        }
      ]
    },
    {
      "cell_type": "code",
      "source": [
        "print(True and False)"
      ],
      "metadata": {
        "colab": {
          "base_uri": "https://localhost:8080/"
        },
        "id": "jpVsxDlDWvoD",
        "outputId": "54b4ae22-f8d5-45aa-bb33-6806d8de49a7"
      },
      "execution_count": null,
      "outputs": [
        {
          "output_type": "stream",
          "name": "stdout",
          "text": [
            "False\n"
          ]
        }
      ]
    },
    {
      "cell_type": "markdown",
      "source": [
        "## Challenge 2: Finding the last digit"
      ],
      "metadata": {
        "id": "KiZ16oamUR4T"
      }
    },
    {
      "cell_type": "code",
      "source": [
        "n = int(input())\n",
        "\n",
        "rem = n % 10\n",
        "\n",
        "print('The last digit is:')\n",
        "print(rem)"
      ],
      "metadata": {
        "colab": {
          "base_uri": "https://localhost:8080/"
        },
        "id": "1bum9AoiP_-6",
        "outputId": "5142fe1c-7069-482f-ac33-91a47c05ebdc"
      },
      "execution_count": null,
      "outputs": [
        {
          "output_type": "stream",
          "name": "stdout",
          "text": [
            "10\n",
            "The last digit is:\n",
            "0\n"
          ]
        }
      ]
    },
    {
      "cell_type": "code",
      "source": [
        ""
      ],
      "metadata": {
        "id": "k8vKPghqUabC"
      },
      "execution_count": null,
      "outputs": []
    },
    {
      "cell_type": "markdown",
      "source": [
        "Checking if last digit is 4"
      ],
      "metadata": {
        "id": "qJQSH4bFU27Z"
      }
    },
    {
      "cell_type": "code",
      "source": [
        "n = int(input())\n",
        "\n",
        "rem = n % 10\n",
        "\n",
        "if rem == 4:\n",
        "  print('Last digit is 4')\n",
        "else:\n",
        "  print('Last digit is not 4')\n",
        "  "
      ],
      "metadata": {
        "colab": {
          "base_uri": "https://localhost:8080/"
        },
        "id": "SiiVBHkaU3_h",
        "outputId": "bf203fd3-8da0-42db-aa5d-5804f79d0721"
      },
      "execution_count": null,
      "outputs": [
        {
          "output_type": "stream",
          "name": "stdout",
          "text": [
            "12345\n",
            "Last digit is not 4\n"
          ]
        }
      ]
    },
    {
      "cell_type": "code",
      "source": [
        ""
      ],
      "metadata": {
        "id": "7aj_9qtJU9rY"
      },
      "execution_count": null,
      "outputs": []
    },
    {
      "cell_type": "markdown",
      "source": [
        "## Print statement"
      ],
      "metadata": {
        "id": "vK6w4iVwZrS-"
      }
    },
    {
      "cell_type": "code",
      "source": [
        "print('How')\n",
        "print('are')\n",
        "print('you')"
      ],
      "metadata": {
        "colab": {
          "base_uri": "https://localhost:8080/"
        },
        "id": "G4IOaw6UZsmW",
        "outputId": "f745e62a-5028-4f3b-9a4f-44231c257533"
      },
      "execution_count": null,
      "outputs": [
        {
          "output_type": "stream",
          "name": "stdout",
          "text": [
            "How\n",
            "are\n",
            "you\n"
          ]
        }
      ]
    },
    {
      "cell_type": "code",
      "source": [
        "print('How are you')"
      ],
      "metadata": {
        "colab": {
          "base_uri": "https://localhost:8080/"
        },
        "id": "pwaW9rj8ZvDi",
        "outputId": "7f23834e-72b7-4e28-9e0a-cb008bb67214"
      },
      "execution_count": null,
      "outputs": [
        {
          "output_type": "stream",
          "name": "stdout",
          "text": [
            "How are you\n"
          ]
        }
      ]
    },
    {
      "cell_type": "code",
      "source": [
        "print('How are you?')\n",
        "print('I am fine')"
      ],
      "metadata": {
        "colab": {
          "base_uri": "https://localhost:8080/"
        },
        "id": "UJYnXgxYZwtj",
        "outputId": "acff30f9-ce92-4327-9ae3-191138bbc4dc"
      },
      "execution_count": null,
      "outputs": [
        {
          "output_type": "stream",
          "name": "stdout",
          "text": [
            "How are you?\n",
            "I am fine\n"
          ]
        }
      ]
    },
    {
      "cell_type": "code",
      "source": [
        "print('How are you?', 'I am fine')"
      ],
      "metadata": {
        "colab": {
          "base_uri": "https://localhost:8080/"
        },
        "id": "K8q7dJxLZ0vi",
        "outputId": "cd1bb27d-b7eb-47e8-aeb1-6f06c50ded50"
      },
      "execution_count": null,
      "outputs": [
        {
          "output_type": "stream",
          "name": "stdout",
          "text": [
            "How are you? I am fine\n"
          ]
        }
      ]
    },
    {
      "cell_type": "code",
      "source": [
        "print('How', 'are', 'you')"
      ],
      "metadata": {
        "colab": {
          "base_uri": "https://localhost:8080/"
        },
        "id": "IG5KtypuZ4gZ",
        "outputId": "5bbb2aa6-dbd0-4f11-b230-ce6f8699beb3"
      },
      "execution_count": null,
      "outputs": [
        {
          "output_type": "stream",
          "name": "stdout",
          "text": [
            "How are you\n"
          ]
        }
      ]
    },
    {
      "cell_type": "code",
      "source": [
        "print('a','b','c','d','e')"
      ],
      "metadata": {
        "colab": {
          "base_uri": "https://localhost:8080/"
        },
        "id": "AJsZoHgVZ8Zz",
        "outputId": "5c46284e-df94-44b4-d533-553ec77b133e"
      },
      "execution_count": null,
      "outputs": [
        {
          "output_type": "stream",
          "name": "stdout",
          "text": [
            "a b c d e\n"
          ]
        }
      ]
    },
    {
      "cell_type": "markdown",
      "source": [
        "## Problem:\n",
        "\n",
        "We want to print with 2 print statements separately but in the same line\n",
        "\n",
        "How are you? I am fine"
      ],
      "metadata": {
        "id": "IdzjFecJadTV"
      }
    },
    {
      "cell_type": "code",
      "source": [
        "print('How are you?') # by default the ending character is a new line\n",
        "print('I am fine')"
      ],
      "metadata": {
        "colab": {
          "base_uri": "https://localhost:8080/"
        },
        "id": "E4YpdnPzZ-rA",
        "outputId": "70580e0a-dd27-44b8-9e80-1a39ddc7e777"
      },
      "execution_count": null,
      "outputs": [
        {
          "output_type": "stream",
          "name": "stdout",
          "text": [
            "How are you?\n",
            "I am fine\n"
          ]
        }
      ]
    },
    {
      "cell_type": "code",
      "source": [
        "print('How are you?', end='\\n')  # '\\n' special character for new line\n",
        "print('I am fine', end='\\n')"
      ],
      "metadata": {
        "colab": {
          "base_uri": "https://localhost:8080/"
        },
        "id": "LQlEzg4hal6n",
        "outputId": "7d166dc7-5451-488d-a2e7-794ead9bb1f7"
      },
      "execution_count": null,
      "outputs": [
        {
          "output_type": "stream",
          "name": "stdout",
          "text": [
            "How are you?\n",
            "I am fine\n"
          ]
        }
      ]
    },
    {
      "cell_type": "code",
      "source": [
        "print('How are you?', end='123')\n",
        "print('I am fine')"
      ],
      "metadata": {
        "colab": {
          "base_uri": "https://localhost:8080/"
        },
        "id": "z4Oc_HFfa7AV",
        "outputId": "8161e298-7043-4920-bc45-d2eefc3b777d"
      },
      "execution_count": null,
      "outputs": [
        {
          "output_type": "stream",
          "name": "stdout",
          "text": [
            "How are you?123I am fine\n"
          ]
        }
      ]
    },
    {
      "cell_type": "code",
      "source": [
        "print('How are you?', end=' ') # this print statement will not start a newline\n",
        "print('I am fine')"
      ],
      "metadata": {
        "colab": {
          "base_uri": "https://localhost:8080/"
        },
        "id": "iYId2GAObNA0",
        "outputId": "3326d7d6-d67b-4946-98f0-87ecac9debc8"
      },
      "execution_count": null,
      "outputs": [
        {
          "output_type": "stream",
          "name": "stdout",
          "text": [
            "How are you? I am fine\n"
          ]
        }
      ]
    },
    {
      "cell_type": "markdown",
      "source": [
        "## Quiz"
      ],
      "metadata": {
        "id": "T1MVV2S3boGU"
      }
    },
    {
      "cell_type": "code",
      "source": [
        "print('How', end=' ')\n",
        "print('is', end=' ')\n",
        "print('everyone', end=' ')"
      ],
      "metadata": {
        "colab": {
          "base_uri": "https://localhost:8080/"
        },
        "id": "ysHDu3FibQng",
        "outputId": "a6b2d58d-d818-4e2a-df86-d3d8ea85f683"
      },
      "execution_count": null,
      "outputs": [
        {
          "output_type": "stream",
          "name": "stdout",
          "text": [
            "How is everyone "
          ]
        }
      ]
    },
    {
      "cell_type": "code",
      "source": [
        "print('How', end='')\n",
        "print('is', end='')\n",
        "print('everyone', end='')"
      ],
      "metadata": {
        "colab": {
          "base_uri": "https://localhost:8080/"
        },
        "id": "ajj8jlUNbquH",
        "outputId": "36b58ec3-7b41-45c4-d0a1-516bb8f2641f"
      },
      "execution_count": null,
      "outputs": [
        {
          "output_type": "stream",
          "name": "stdout",
          "text": [
            "Howiseveryone"
          ]
        }
      ]
    },
    {
      "cell_type": "code",
      "source": [
        "print('Hello', 'world', end='-')"
      ],
      "metadata": {
        "colab": {
          "base_uri": "https://localhost:8080/"
        },
        "id": "WB6zcAD9b0Fw",
        "outputId": "82890ae8-d073-45ea-a02d-303d98aa667a"
      },
      "execution_count": null,
      "outputs": [
        {
          "output_type": "stream",
          "name": "stdout",
          "text": [
            "Hello world-"
          ]
        }
      ]
    },
    {
      "cell_type": "code",
      "source": [
        "print(\"\\n\")"
      ],
      "metadata": {
        "colab": {
          "base_uri": "https://localhost:8080/"
        },
        "id": "6h36QFj1cK2O",
        "outputId": "26ede128-a8ab-470f-ca43-1871e3275881"
      },
      "execution_count": null,
      "outputs": [
        {
          "output_type": "stream",
          "name": "stdout",
          "text": [
            "\n",
            "\n"
          ]
        }
      ]
    },
    {
      "cell_type": "markdown",
      "source": [
        "## Challenge 4: Print meow 5 times"
      ],
      "metadata": {
        "id": "hzVs_XrtdNpk"
      }
    },
    {
      "cell_type": "code",
      "source": [
        "print('Meow')\n",
        "print('Meow')\n",
        "print('Meow')\n",
        "print('Meow')\n",
        "print('Meow')"
      ],
      "metadata": {
        "colab": {
          "base_uri": "https://localhost:8080/"
        },
        "id": "_fvGmoSkcQ0v",
        "outputId": "f6aebb3a-2f6b-4e88-e0ec-fcb4411a5e24"
      },
      "execution_count": null,
      "outputs": [
        {
          "output_type": "stream",
          "name": "stdout",
          "text": [
            "Meow\n",
            "Meow\n",
            "Meow\n",
            "Meow\n",
            "Meow\n"
          ]
        }
      ]
    },
    {
      "cell_type": "code",
      "source": [
        ""
      ],
      "metadata": {
        "id": "XN1URGKGdRsG"
      },
      "execution_count": null,
      "outputs": []
    },
    {
      "cell_type": "markdown",
      "source": [
        "## While Loops"
      ],
      "metadata": {
        "id": "A9GtM_IciB8V"
      }
    },
    {
      "cell_type": "code",
      "source": [
        "i = 0\n",
        "print('The value of i is:', i)\n",
        "\n",
        "while i < 5:\n",
        "  print('Meow')\n",
        "  i = i + 1\n",
        "  print('The value of i is:', i)\n"
      ],
      "metadata": {
        "colab": {
          "base_uri": "https://localhost:8080/"
        },
        "id": "O6jtY1JqiKOK",
        "outputId": "d573f35e-3600-43b8-d49b-68f07b0d2ad9"
      },
      "execution_count": null,
      "outputs": [
        {
          "output_type": "stream",
          "name": "stdout",
          "text": [
            "The value of i is: 0\n",
            "Meow\n",
            "The value of i is: 1\n",
            "Meow\n",
            "The value of i is: 2\n",
            "Meow\n",
            "The value of i is: 3\n",
            "Meow\n",
            "The value of i is: 4\n",
            "Meow\n",
            "The value of i is: 5\n"
          ]
        }
      ]
    },
    {
      "cell_type": "markdown",
      "source": [
        "## Quiz"
      ],
      "metadata": {
        "id": "hySKAV2mjQIw"
      }
    },
    {
      "cell_type": "code",
      "source": [
        "print(5 < 5)"
      ],
      "metadata": {
        "colab": {
          "base_uri": "https://localhost:8080/"
        },
        "id": "HFhpiia9iXMq",
        "outputId": "5b343e14-f71f-4c51-ca14-50f557bdbf43"
      },
      "execution_count": null,
      "outputs": [
        {
          "output_type": "stream",
          "name": "stdout",
          "text": [
            "False\n"
          ]
        }
      ]
    },
    {
      "cell_type": "code",
      "source": [
        "print(5 == 5)"
      ],
      "metadata": {
        "colab": {
          "base_uri": "https://localhost:8080/"
        },
        "id": "sjpFhDsli7Od",
        "outputId": "d499c193-005b-424a-d6d4-24982b2454b8"
      },
      "execution_count": null,
      "outputs": [
        {
          "output_type": "stream",
          "name": "stdout",
          "text": [
            "True\n"
          ]
        }
      ]
    },
    {
      "cell_type": "code",
      "source": [
        "print(0 < 5)\n",
        "print(1 < 5)\n",
        "print(2 < 5)\n",
        "print(3 < 5)\n",
        "print(4 < 5)"
      ],
      "metadata": {
        "colab": {
          "base_uri": "https://localhost:8080/"
        },
        "id": "pVJK2xWyi8su",
        "outputId": "c691c661-41ca-4058-c818-38ece785e9c7"
      },
      "execution_count": null,
      "outputs": [
        {
          "output_type": "stream",
          "name": "stdout",
          "text": [
            "True\n",
            "True\n",
            "True\n",
            "True\n",
            "True\n"
          ]
        }
      ]
    },
    {
      "cell_type": "code",
      "source": [
        "print(5 <= 5)"
      ],
      "metadata": {
        "colab": {
          "base_uri": "https://localhost:8080/"
        },
        "id": "IjMmxhSHjBxA",
        "outputId": "8cb996b7-33a1-4788-90c8-aa2927e81fa4"
      },
      "execution_count": null,
      "outputs": [
        {
          "output_type": "stream",
          "name": "stdout",
          "text": [
            "True\n"
          ]
        }
      ]
    },
    {
      "cell_type": "code",
      "source": [
        "print(1 <= -20) # because 1 > -20\n"
      ],
      "metadata": {
        "colab": {
          "base_uri": "https://localhost:8080/"
        },
        "id": "I3Yv-sE9jF19",
        "outputId": "6396f808-ac1e-45ff-9c4b-7260c0954341"
      },
      "execution_count": null,
      "outputs": [
        {
          "output_type": "stream",
          "name": "stdout",
          "text": [
            "False\n"
          ]
        }
      ]
    },
    {
      "cell_type": "code",
      "source": [
        ""
      ],
      "metadata": {
        "id": "LcERWpVIjSZ9"
      },
      "execution_count": null,
      "outputs": []
    }
  ]
}