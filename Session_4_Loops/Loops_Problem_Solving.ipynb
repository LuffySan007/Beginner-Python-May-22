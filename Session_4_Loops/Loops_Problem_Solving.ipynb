{
  "nbformat": 4,
  "nbformat_minor": 0,
  "metadata": {
    "colab": {
      "name": "Loops Problem Solving.ipynb",
      "provenance": [],
      "collapsed_sections": []
    },
    "kernelspec": {
      "name": "python3",
      "display_name": "Python 3"
    },
    "language_info": {
      "name": "python"
    }
  },
  "cells": [
    {
      "cell_type": "code",
      "execution_count": null,
      "metadata": {
        "id": "Lpv1bfthmiC8"
      },
      "outputs": [],
      "source": [
        ""
      ]
    },
    {
      "cell_type": "markdown",
      "source": [
        "## Challenge 1: Print all numbers from 1 to N\n"
      ],
      "metadata": {
        "id": "sK685TAGo9G8"
      }
    },
    {
      "cell_type": "code",
      "source": [
        "i = 1\n",
        "\n",
        "while i <= 3:\n",
        "  if i == 3:\n",
        "    print(i, end='')\n",
        "  else:\n",
        "    print(i, end=' ')\n",
        "  # this line below run\n",
        "  # for both if and else\n",
        "  # cases\n",
        "  i = i + 1"
      ],
      "metadata": {
        "colab": {
          "base_uri": "https://localhost:8080/"
        },
        "id": "T2sdgxSGo_Tv",
        "outputId": "630f6f8c-ee78-48df-e75b-d632094d8d14"
      },
      "execution_count": null,
      "outputs": [
        {
          "output_type": "stream",
          "name": "stdout",
          "text": [
            "1 2 3"
          ]
        }
      ]
    },
    {
      "cell_type": "code",
      "source": [
        ""
      ],
      "metadata": {
        "id": "K0i-oZaKptqq"
      },
      "execution_count": null,
      "outputs": []
    },
    {
      "cell_type": "markdown",
      "source": [
        "## Special Assignment Operators\n"
      ],
      "metadata": {
        "id": "92d1TeJLvOCT"
      }
    },
    {
      "cell_type": "code",
      "source": [
        "a = 3\n",
        "a = a + 3\n",
        "print(a)"
      ],
      "metadata": {
        "colab": {
          "base_uri": "https://localhost:8080/"
        },
        "id": "rgjfb71uvPJi",
        "outputId": "011ff945-fca8-4509-ddf4-ac4b05d70ed3"
      },
      "execution_count": null,
      "outputs": [
        {
          "output_type": "stream",
          "name": "stdout",
          "text": [
            "6\n"
          ]
        }
      ]
    },
    {
      "cell_type": "code",
      "source": [
        "a = 6\n",
        "a += 9\n",
        "print(a)"
      ],
      "metadata": {
        "colab": {
          "base_uri": "https://localhost:8080/"
        },
        "id": "zR4JfxQhvQiB",
        "outputId": "1bc34f5d-973b-4a69-af57-472ce543ed2e"
      },
      "execution_count": null,
      "outputs": [
        {
          "output_type": "stream",
          "name": "stdout",
          "text": [
            "15\n"
          ]
        }
      ]
    },
    {
      "cell_type": "code",
      "source": [
        "a = 6\n",
        "a -= 9\n",
        "print(a)"
      ],
      "metadata": {
        "colab": {
          "base_uri": "https://localhost:8080/"
        },
        "id": "q4mE6UeovRvl",
        "outputId": "8a6b14b6-b083-4e44-c135-d801f4ba5be7"
      },
      "execution_count": null,
      "outputs": [
        {
          "output_type": "stream",
          "name": "stdout",
          "text": [
            "-3\n"
          ]
        }
      ]
    },
    {
      "cell_type": "code",
      "source": [
        "a = 6\n",
        "a *= 9\n",
        "print(a)"
      ],
      "metadata": {
        "colab": {
          "base_uri": "https://localhost:8080/"
        },
        "id": "ptDHELRGvTim",
        "outputId": "5435a307-097e-4f3e-d1fc-a58b271ff1f0"
      },
      "execution_count": null,
      "outputs": [
        {
          "output_type": "stream",
          "name": "stdout",
          "text": [
            "54\n"
          ]
        }
      ]
    },
    {
      "cell_type": "code",
      "source": [
        "a = 6\n",
        "a /= 9\n",
        "print(a)"
      ],
      "metadata": {
        "colab": {
          "base_uri": "https://localhost:8080/"
        },
        "id": "bzWjEH4ZvzgL",
        "outputId": "6cb895d9-1ba8-4ec7-c356-f9c23e7e98c0"
      },
      "execution_count": null,
      "outputs": [
        {
          "output_type": "stream",
          "name": "stdout",
          "text": [
            "0.6666666666666666\n"
          ]
        }
      ]
    },
    {
      "cell_type": "code",
      "source": [
        "print(6 / 9)"
      ],
      "metadata": {
        "colab": {
          "base_uri": "https://localhost:8080/"
        },
        "id": "vCyq_ojzv9-s",
        "outputId": "6c8c7b09-0935-473a-9fcf-2151ba5e29f4"
      },
      "execution_count": null,
      "outputs": [
        {
          "output_type": "stream",
          "name": "stdout",
          "text": [
            "0.6666666666666666\n"
          ]
        }
      ]
    },
    {
      "cell_type": "code",
      "source": [
        "print(int(6/9))"
      ],
      "metadata": {
        "colab": {
          "base_uri": "https://localhost:8080/"
        },
        "id": "k8VB8TW0xBw1",
        "outputId": "6ef04340-47af-49a2-e3b7-0c99852dae03"
      },
      "execution_count": null,
      "outputs": [
        {
          "output_type": "stream",
          "name": "stdout",
          "text": [
            "0\n"
          ]
        }
      ]
    },
    {
      "cell_type": "code",
      "source": [
        ""
      ],
      "metadata": {
        "id": "4Gn44HLJxEcT"
      },
      "execution_count": null,
      "outputs": []
    },
    {
      "cell_type": "markdown",
      "source": [
        "## Integer division"
      ],
      "metadata": {
        "id": "15rA0ze6xJe4"
      }
    },
    {
      "cell_type": "code",
      "source": [
        "print(6 // 9)"
      ],
      "metadata": {
        "colab": {
          "base_uri": "https://localhost:8080/"
        },
        "id": "3cNCyr_VxKsS",
        "outputId": "a532e490-c228-4b45-d6c8-69bbfa7728a8"
      },
      "execution_count": null,
      "outputs": [
        {
          "output_type": "stream",
          "name": "stdout",
          "text": [
            "0\n"
          ]
        }
      ]
    },
    {
      "cell_type": "code",
      "source": [
        "print(3 // 2)"
      ],
      "metadata": {
        "colab": {
          "base_uri": "https://localhost:8080/"
        },
        "id": "sl5xOG7bxL8a",
        "outputId": "85693978-0323-4c98-eb82-b0e304b944f6"
      },
      "execution_count": null,
      "outputs": [
        {
          "output_type": "stream",
          "name": "stdout",
          "text": [
            "1\n"
          ]
        }
      ]
    },
    {
      "cell_type": "code",
      "source": [
        "print(3 / 2)"
      ],
      "metadata": {
        "colab": {
          "base_uri": "https://localhost:8080/"
        },
        "id": "DzCtw5vdxP2k",
        "outputId": "5e3c8524-79c1-4572-e532-985328260402"
      },
      "execution_count": null,
      "outputs": [
        {
          "output_type": "stream",
          "name": "stdout",
          "text": [
            "1.5\n"
          ]
        }
      ]
    },
    {
      "cell_type": "code",
      "source": [
        "print(5 // 2)"
      ],
      "metadata": {
        "colab": {
          "base_uri": "https://localhost:8080/"
        },
        "id": "hHlUOfw2xQwZ",
        "outputId": "7f18f799-6cc3-48cd-ac44-f12403be918a"
      },
      "execution_count": null,
      "outputs": [
        {
          "output_type": "stream",
          "name": "stdout",
          "text": [
            "2\n"
          ]
        }
      ]
    },
    {
      "cell_type": "code",
      "source": [
        "print(5/3)"
      ],
      "metadata": {
        "colab": {
          "base_uri": "https://localhost:8080/"
        },
        "id": "y2rbhzi8xnZM",
        "outputId": "6d78e245-4dc6-4710-b0f1-3eea299bc9c4"
      },
      "execution_count": null,
      "outputs": [
        {
          "output_type": "stream",
          "name": "stdout",
          "text": [
            "1.6666666666666667\n"
          ]
        }
      ]
    },
    {
      "cell_type": "code",
      "source": [
        "print(5 // 3)"
      ],
      "metadata": {
        "colab": {
          "base_uri": "https://localhost:8080/"
        },
        "id": "VdHpiYRjxs-b",
        "outputId": "47df1c66-eb2a-45db-be26-a2c7f3d8bf7d"
      },
      "execution_count": null,
      "outputs": [
        {
          "output_type": "stream",
          "name": "stdout",
          "text": [
            "1\n"
          ]
        }
      ]
    },
    {
      "cell_type": "markdown",
      "source": [
        "It rounds off to the nearest integer on the left side."
      ],
      "metadata": {
        "id": "UdbNxGZuyl6v"
      }
    },
    {
      "cell_type": "code",
      "source": [
        "print(-5 // 2)"
      ],
      "metadata": {
        "colab": {
          "base_uri": "https://localhost:8080/"
        },
        "id": "yKNizT9SxuId",
        "outputId": "0b9670f4-1156-4068-bc9a-9f1bdf0a924f"
      },
      "execution_count": null,
      "outputs": [
        {
          "output_type": "stream",
          "name": "stdout",
          "text": [
            "-3\n"
          ]
        }
      ]
    },
    {
      "cell_type": "code",
      "source": [
        "print(-3 // 2)"
      ],
      "metadata": {
        "colab": {
          "base_uri": "https://localhost:8080/"
        },
        "id": "W8JkUo5-yrLd",
        "outputId": "ef7b971e-6ba3-453e-b8ee-da876f23adb0"
      },
      "execution_count": null,
      "outputs": [
        {
          "output_type": "stream",
          "name": "stdout",
          "text": [
            "-2\n"
          ]
        }
      ]
    },
    {
      "cell_type": "code",
      "source": [
        "print(int(-3 / 2))"
      ],
      "metadata": {
        "colab": {
          "base_uri": "https://localhost:8080/"
        },
        "id": "mlQ3WY2iyucQ",
        "outputId": "3ba6b95d-8835-41c8-ef6b-0694893aaedc"
      },
      "execution_count": null,
      "outputs": [
        {
          "output_type": "stream",
          "name": "stdout",
          "text": [
            "-1\n"
          ]
        }
      ]
    },
    {
      "cell_type": "markdown",
      "source": [
        "Is the difference between the 2 visible?"
      ],
      "metadata": {
        "id": "CDlq-LpCy-k4"
      }
    },
    {
      "cell_type": "code",
      "source": [
        ""
      ],
      "metadata": {
        "id": "ZCZNegKZzAJp"
      },
      "execution_count": null,
      "outputs": []
    },
    {
      "cell_type": "code",
      "source": [
        ""
      ],
      "metadata": {
        "id": "f_d7FQn6zFje"
      },
      "execution_count": null,
      "outputs": []
    },
    {
      "cell_type": "markdown",
      "source": [
        "## Quiz"
      ],
      "metadata": {
        "id": "O9T9nlB_1PPc"
      }
    },
    {
      "cell_type": "code",
      "source": [
        "a = 6\n",
        "a %= 9\n",
        "print(a)"
      ],
      "metadata": {
        "colab": {
          "base_uri": "https://localhost:8080/"
        },
        "id": "Iinrkx421ScU",
        "outputId": "9f3cc0de-f8c7-40e6-f633-e44451763e36"
      },
      "execution_count": null,
      "outputs": [
        {
          "output_type": "stream",
          "name": "stdout",
          "text": [
            "6\n"
          ]
        }
      ]
    },
    {
      "cell_type": "code",
      "source": [
        ""
      ],
      "metadata": {
        "id": "sUd9wB2F1YTs"
      },
      "execution_count": null,
      "outputs": []
    },
    {
      "cell_type": "markdown",
      "source": [
        "## Challenge 2: Print last digit"
      ],
      "metadata": {
        "id": "yDOUe94j20Rl"
      }
    },
    {
      "cell_type": "code",
      "source": [
        "N = 1234\n",
        "res = N % 10\n",
        "print(N)"
      ],
      "metadata": {
        "colab": {
          "base_uri": "https://localhost:8080/"
        },
        "id": "4IvOiP3W22kf",
        "outputId": "70891b2c-cada-42d2-bfc0-544d9f83f815"
      },
      "execution_count": null,
      "outputs": [
        {
          "output_type": "stream",
          "name": "stdout",
          "text": [
            "1234\n"
          ]
        }
      ]
    },
    {
      "cell_type": "code",
      "source": [
        ""
      ],
      "metadata": {
        "id": "nUoodfe026jk"
      },
      "execution_count": null,
      "outputs": []
    },
    {
      "cell_type": "markdown",
      "source": [
        "## Challenge 3: Remove the last digit"
      ],
      "metadata": {
        "id": "Ylzb79HE4G55"
      }
    },
    {
      "cell_type": "code",
      "source": [
        "N = 1234\n",
        "N //= 10\n",
        "\n",
        "print(N)"
      ],
      "metadata": {
        "colab": {
          "base_uri": "https://localhost:8080/"
        },
        "id": "aUePqaBy4H5T",
        "outputId": "fba613bd-1361-4e76-858e-d333e662252a"
      },
      "execution_count": null,
      "outputs": [
        {
          "output_type": "stream",
          "name": "stdout",
          "text": [
            "123\n"
          ]
        }
      ]
    },
    {
      "cell_type": "markdown",
      "source": [
        "## Let's assume that we are working with positive numbers for this problem now :)\n"
      ],
      "metadata": {
        "id": "7BNzUxdA5sIm"
      }
    },
    {
      "cell_type": "markdown",
      "source": [
        "1. Convert to positive, remove last digit and convert back to a negative number."
      ],
      "metadata": {
        "id": "QNkD1z_u53DK"
      }
    },
    {
      "cell_type": "code",
      "source": [
        "N = -100\n",
        "N *= -1 # converts to the positive number\n",
        "\n",
        "N //= 10\n",
        "N *= -1 # again convert back to a negative number\n",
        "print(N)"
      ],
      "metadata": {
        "colab": {
          "base_uri": "https://localhost:8080/"
        },
        "id": "aCQ331Sp4KZP",
        "outputId": "1956bb2b-ef5e-459b-c7b1-3a98efdfae55"
      },
      "execution_count": null,
      "outputs": [
        {
          "output_type": "stream",
          "name": "stdout",
          "text": [
            "-10\n"
          ]
        }
      ]
    },
    {
      "cell_type": "markdown",
      "source": [
        "2. Use int() function because it just removes the decimal part."
      ],
      "metadata": {
        "id": "rYDIQR8B58XU"
      }
    },
    {
      "cell_type": "code",
      "source": [
        "N = -1234\n",
        "\n",
        "N = int(N / 10)\n",
        "\n",
        "print(N)"
      ],
      "metadata": {
        "colab": {
          "base_uri": "https://localhost:8080/"
        },
        "id": "qTa9eXqO5KBT",
        "outputId": "90cd3196-600c-4f51-a606-5146dca284f1"
      },
      "execution_count": null,
      "outputs": [
        {
          "output_type": "stream",
          "name": "stdout",
          "text": [
            "-123\n"
          ]
        }
      ]
    },
    {
      "cell_type": "code",
      "source": [
        ""
      ],
      "metadata": {
        "id": "BHWnfdJm6Ci4"
      },
      "execution_count": null,
      "outputs": []
    },
    {
      "cell_type": "markdown",
      "source": [
        "## Challenge 4: Print all the digits of a number from right to left."
      ],
      "metadata": {
        "id": "l9pXk67g6Htp"
      }
    },
    {
      "cell_type": "code",
      "source": [
        "N = int(input())"
      ],
      "metadata": {
        "colab": {
          "base_uri": "https://localhost:8080/"
        },
        "id": "lTmTHYua6LA1",
        "outputId": "50a1b42b-78ea-4c07-a1ca-e8493a202f51"
      },
      "execution_count": null,
      "outputs": [
        {
          "name": "stdout",
          "output_type": "stream",
          "text": [
            "1234\n"
          ]
        }
      ]
    },
    {
      "cell_type": "code",
      "source": [
        "if N == 0:\n",
        "  print(0)"
      ],
      "metadata": {
        "id": "SuoBoDUg-bmv"
      },
      "execution_count": null,
      "outputs": []
    },
    {
      "cell_type": "code",
      "source": [
        "while N > 0:\n",
        "  # print the last digit\n",
        "  print(N % 10)\n",
        "  # remove the last digit from N\n",
        "  N //= 10"
      ],
      "metadata": {
        "colab": {
          "base_uri": "https://localhost:8080/"
        },
        "id": "_2kB3Mmi-fch",
        "outputId": "b0bfe9d6-6c9d-4491-aa09-3a617d7c5d28"
      },
      "execution_count": null,
      "outputs": [
        {
          "output_type": "stream",
          "name": "stdout",
          "text": [
            "4\n",
            "3\n",
            "2\n",
            "1\n"
          ]
        }
      ]
    },
    {
      "cell_type": "code",
      "source": [
        "if N == 0:\n",
        "  print(0)"
      ],
      "metadata": {
        "colab": {
          "base_uri": "https://localhost:8080/"
        },
        "id": "s1oN2nlV-sak",
        "outputId": "903e8682-583c-4653-aa27-a747bb1fa88b"
      },
      "execution_count": null,
      "outputs": [
        {
          "output_type": "stream",
          "name": "stdout",
          "text": [
            "0\n"
          ]
        }
      ]
    },
    {
      "cell_type": "code",
      "source": [
        ""
      ],
      "metadata": {
        "id": "3hDnU3Sw-yb5"
      },
      "execution_count": null,
      "outputs": []
    },
    {
      "cell_type": "markdown",
      "source": [
        "## Challenge 5: Read T numbers as input from the user and print them"
      ],
      "metadata": {
        "id": "hD3vc1MNA9s3"
      }
    },
    {
      "cell_type": "code",
      "source": [
        "N = int(input())\n",
        "i = 1\n",
        "while i <= N:\n",
        "  print(i)\n",
        "  i += 1 "
      ],
      "metadata": {
        "colab": {
          "base_uri": "https://localhost:8080/"
        },
        "id": "7Occb6khBAXR",
        "outputId": "d111da40-b82e-4cb0-e146-ecbac2bdbf71"
      },
      "execution_count": null,
      "outputs": [
        {
          "output_type": "stream",
          "name": "stdout",
          "text": [
            "3\n",
            "1\n",
            "2\n",
            "3\n"
          ]
        }
      ]
    },
    {
      "cell_type": "code",
      "source": [
        "5"
      ],
      "metadata": {
        "colab": {
          "base_uri": "https://localhost:8080/"
        },
        "id": "7RscIxaeBFhC",
        "outputId": "90f732ce-3dae-45e3-fb2b-116464122baf"
      },
      "execution_count": null,
      "outputs": [
        {
          "output_type": "execute_result",
          "data": {
            "text/plain": [
              "5"
            ]
          },
          "metadata": {},
          "execution_count": 90
        }
      ]
    },
    {
      "cell_type": "code",
      "source": [
        "N = int(input())\n",
        "i = 1\n",
        "while i <= N:\n",
        "  x = int(input())\n",
        "  print(x)\n",
        "  i += 1"
      ],
      "metadata": {
        "colab": {
          "base_uri": "https://localhost:8080/"
        },
        "id": "jjkl6ToDBHyo",
        "outputId": "1ae22dc4-d5d6-45f0-f9e3-696050ad1ad3"
      },
      "execution_count": null,
      "outputs": [
        {
          "output_type": "stream",
          "name": "stdout",
          "text": [
            "3\n",
            "12\n",
            "12\n",
            "34\n",
            "34\n",
            "56\n",
            "56\n"
          ]
        }
      ]
    },
    {
      "cell_type": "code",
      "source": [
        ""
      ],
      "metadata": {
        "id": "aZ2F9gglBTTq"
      },
      "execution_count": null,
      "outputs": []
    }
  ]
}